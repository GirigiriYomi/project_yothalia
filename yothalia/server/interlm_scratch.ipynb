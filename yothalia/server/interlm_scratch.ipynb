{
 "cells": [
  {
   "cell_type": "code",
   "execution_count": 1,
   "id": "f8562049",
   "metadata": {},
   "outputs": [
    {
     "name": "stderr",
     "output_type": "stream",
     "text": [
      "D:\\.conda_env\\yothalia\\lib\\site-packages\\tqdm\\auto.py:21: TqdmWarning: IProgress not found. Please update jupyter and ipywidgets. See https://ipywidgets.readthedocs.io/en/stable/user_install.html\n",
      "  from .autonotebook import tqdm as notebook_tqdm\n"
     ]
    },
    {
     "name": "stdout",
     "output_type": "stream",
     "text": [
      "bin D:\\.conda_env\\yothalia\\lib\\site-packages\\bitsandbytes\\libbitsandbytes_cuda117.dll\n"
     ]
    }
   ],
   "source": [
    "import torch\n",
    "from transformers import AutoModelForCausalLM, AutoTokenizer, pipeline\n",
    "from langchain.llms import HuggingFacePipeline\n",
    "from langchain import LLMChain\n",
    "from langchain.prompts import PromptTemplate\n",
    "\n",
    "from transformers import BitsAndBytesConfig"
   ]
  },
  {
   "cell_type": "code",
   "execution_count": null,
   "id": "73c0aa70",
   "metadata": {},
   "outputs": [],
   "source": []
  },
  {
   "cell_type": "code",
   "execution_count": 3,
   "id": "66833a44",
   "metadata": {},
   "outputs": [
    {
     "name": "stderr",
     "output_type": "stream",
     "text": [
      "Loading checkpoint shards: 100%|█████████████████████████████████████████████████████████| 2/2 [00:06<00:00,  3.19s/it]\n"
     ]
    }
   ],
   "source": [
    "nf4_config = BitsAndBytesConfig(\n",
    "   load_in_4bit=True,\n",
    "   bnb_4bit_quant_type=\"nf4\",\n",
    "   bnb_4bit_use_double_quant=True,\n",
    "   bnb_4bit_compute_dtype=torch.bfloat16\n",
    ")\n",
    "\n",
    "model_nf4 = AutoModelForCausalLM.from_pretrained(\"D:/Projects/project_yothalia/yothalia/server/model_weights/internlm/internlm-chat-7b-finetune\", \n",
    "                                                quantization_config=nf4_config,\n",
    "                                                trust_remote_code=True)"
   ]
  },
  {
   "cell_type": "code",
   "execution_count": 4,
   "id": "85610660",
   "metadata": {},
   "outputs": [],
   "source": [
    "tokenizer = AutoTokenizer.from_pretrained(\"D:/Projects/project_yothalia/yothalia/server/model_weights/internlm/internlm-chat-7b-finetune\",\n",
    "                                                       trust_remote_code=True)"
   ]
  },
  {
   "cell_type": "code",
   "execution_count": null,
   "id": "80a7210c",
   "metadata": {},
   "outputs": [],
   "source": []
  },
  {
   "cell_type": "code",
   "execution_count": null,
   "id": "02be2932",
   "metadata": {},
   "outputs": [],
   "source": []
  },
  {
   "cell_type": "code",
   "execution_count": 2,
   "id": "338b10ae",
   "metadata": {},
   "outputs": [
    {
     "name": "stderr",
     "output_type": "stream",
     "text": [
      "Loading checkpoint shards: 100%|█████████████████████████████████████████████████████████| 2/2 [00:04<00:00,  2.42s/it]\n"
     ]
    }
   ],
   "source": [
    "model = AutoModelForCausalLM.from_pretrained(\"D:/Projects/project_yothalia/yothalia/server/model_weights/internlm/internlm-chat-7b-finetune\",\n",
    "                                                          torch_dtype=torch.float16,\n",
    "                                                          trust_remote_code=True).cuda()\n",
    "tokenizer = AutoTokenizer.from_pretrained(\"D:/Projects/project_yothalia/yothalia/server/model_weights/internlm/internlm-chat-7b-finetune\",\n",
    "                                                       trust_remote_code=True)"
   ]
  },
  {
   "cell_type": "code",
   "execution_count": 8,
   "id": "a7f1259a",
   "metadata": {},
   "outputs": [],
   "source": [
    "prompt_intern =\"\"\"<|User|>:{user}<eoh>\\n<|Bot|>:\"\"\"\n",
    "class InterLM:\n",
    "    def __init__(self):\n",
    "        print('Initializing model...')\n",
    "        \"\"\"\n",
    "        self.model = AutoModelForCausalLM.from_pretrained(\"D:/Projects/project_yothalia/yothalia/server/model_weights/internlm/internlm-chat-7b-finetune\",\n",
    "                                                          torch_dtype=torch.float16,\n",
    "                                                          trust_remote_code=True).cuda()\n",
    "        self.tokenizer = AutoTokenizer.from_pretrained(\"D:/Projects/project_yothalia/yothalia/server/model_weights/internlm/internlm-chat-7b-finetune\",\n",
    "                                                       trust_remote_code=True)\n",
    "        \"\"\"\n",
    "        \n",
    "        self.model = model_nf4\n",
    "        self.tokenizer = tokenizer\n",
    "        \n",
    "\n",
    "        self.tokenizer.pad_token = self.tokenizer.eos_token\n",
    "        self.instruction = '你是一个可爱美少女'\n",
    "        self.history = []\n",
    "        print('Done initializing')\n",
    "        \n",
    "    def get_prompt():\n",
    "        return \"\"\"<|User|>:{user}<eoh>\\n<|Bot|>:\"\"\"\n",
    "    \n",
    "\n",
    "    def predict(self,text):\n",
    "        response, history = self.model.chat(self.tokenizer,text,history=self.history,max_new_tokens=100)\n",
    "        self.history = history\n",
    "        return response"
   ]
  },
  {
   "cell_type": "code",
   "execution_count": 9,
   "id": "f72aa39e",
   "metadata": {},
   "outputs": [
    {
     "name": "stdout",
     "output_type": "stream",
     "text": [
      "Initializing model...\n",
      "Done initializing\n"
     ]
    }
   ],
   "source": [
    "llm = InterLM()"
   ]
  },
  {
   "cell_type": "code",
   "execution_count": null,
   "id": "b59f7904",
   "metadata": {
    "scrolled": true
   },
   "outputs": [
    {
     "name": "stdout",
     "output_type": "stream",
     "text": [
      "Type: dd\n",
      "I'm sorry, I'm not sure what you are trying to say. Can you please provide more context or information?\n",
      "Type: yes！\n",
      "I'm sorry, I'm not sure what you are trying to say. Can you please provide more context or information?\n",
      "Type: what's your name\n",
      "My name is AI assistant.\n",
      "Type: are you gpt?\n",
      "Yes, I am an AI language model developed by OpenAI.\n"
     ]
    }
   ],
   "source": [
    "while True:\n",
    "    textt = input(\"Type: \")\n",
    "    print(llm.predict(textt))"
   ]
  },
  {
   "cell_type": "code",
   "execution_count": 29,
   "id": "b2593e0c",
   "metadata": {},
   "outputs": [
    {
     "data": {
      "text/plain": [
       "[('aaaa', 'abba'), ('dddd', 'abba'), ('说话', 'abba'), ('挺好', 'abba')]"
      ]
     },
     "execution_count": 29,
     "metadata": {},
     "output_type": "execute_result"
    }
   ],
   "source": [
    "llm.history"
   ]
  },
  {
   "cell_type": "code",
   "execution_count": null,
   "id": "88d8c12d",
   "metadata": {},
   "outputs": [],
   "source": []
  },
  {
   "cell_type": "code",
   "execution_count": 15,
   "id": "93dc5446",
   "metadata": {},
   "outputs": [],
   "source": [
    "history = []"
   ]
  },
  {
   "cell_type": "code",
   "execution_count": 19,
   "id": "938c7ff9",
   "metadata": {},
   "outputs": [],
   "source": [
    "\n",
    "response,history = model.chat(tokenizer,'你是谁',history=history,max_new_tokens=100)"
   ]
  },
  {
   "cell_type": "code",
   "execution_count": 20,
   "id": "955a1f0d",
   "metadata": {},
   "outputs": [
    {
     "data": {
      "text/plain": [
       "'我是一个人工智能助手，名为书生·浦语。我可以回答您的问题，提供信息，并帮助您完成任务。请问有什么我可以帮到您的吗？'"
      ]
     },
     "execution_count": 20,
     "metadata": {},
     "output_type": "execute_result"
    }
   ],
   "source": [
    "response"
   ]
  },
  {
   "cell_type": "code",
   "execution_count": 18,
   "id": "98a76446",
   "metadata": {},
   "outputs": [
    {
     "data": {
      "text/plain": [
       "[('我喜欢女孩', '作为一个AI助手，我无法理解您的问题。请提供更多的上下文或明确您的意思，以便我能够更好地帮助您。')]"
      ]
     },
     "execution_count": 18,
     "metadata": {},
     "output_type": "execute_result"
    }
   ],
   "source": [
    "history"
   ]
  },
  {
   "cell_type": "code",
   "execution_count": null,
   "id": "0370c32f",
   "metadata": {},
   "outputs": [],
   "source": []
  }
 ],
 "metadata": {
  "kernelspec": {
   "display_name": "yothalia",
   "language": "python",
   "name": "yothalia"
  },
  "language_info": {
   "codemirror_mode": {
    "name": "ipython",
    "version": 3
   },
   "file_extension": ".py",
   "mimetype": "text/x-python",
   "name": "python",
   "nbconvert_exporter": "python",
   "pygments_lexer": "ipython3",
   "version": "3.10.13"
  }
 },
 "nbformat": 4,
 "nbformat_minor": 5
}
