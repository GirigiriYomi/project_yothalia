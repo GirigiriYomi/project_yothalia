{
 "cells": [
  {
   "cell_type": "code",
   "execution_count": 1,
   "id": "c9a8b8a8",
   "metadata": {
    "scrolled": true
   },
   "outputs": [
    {
     "name": "stderr",
     "output_type": "stream",
     "text": [
      "C:\\Users\\91591\\AppData\\Local\\Packages\\PythonSoftwareFoundation.Python.3.11_qbz5n2kfra8p0\\LocalCache\\local-packages\\Python311\\site-packages\\tqdm\\auto.py:21: TqdmWarning: IProgress not found. Please update jupyter and ipywidgets. See https://ipywidgets.readthedocs.io/en/stable/user_install.html\n",
      "  from .autonotebook import tqdm as notebook_tqdm\n"
     ]
    },
    {
     "name": "stdout",
     "output_type": "stream",
     "text": [
      "bin C:\\Users\\91591\\AppData\\Local\\Packages\\PythonSoftwareFoundation.Python.3.11_qbz5n2kfra8p0\\LocalCache\\local-packages\\Python311\\site-packages\\bitsandbytes\\libbitsandbytes_cuda117.dll\n"
     ]
    }
   ],
   "source": [
    "import torch\n",
    "from transformers import AutoModelForCausalLM, AutoTokenizer, pipeline\n",
    "from transformers.generation.utils import GenerationConfig\n",
    "from langchain.llms import HuggingFacePipeline\n",
    "from langchain import LLMChain\n",
    "from langchain.prompts import PromptTemplate\n",
    "\n",
    "from prompt_template import get_template\n",
    "\n",
    "import warnings\n",
    "warnings.filterwarnings(\"ignore\")"
   ]
  },
  {
   "cell_type": "code",
   "execution_count": 2,
   "id": "f9ca5bef",
   "metadata": {
    "scrolled": true
   },
   "outputs": [],
   "source": [
    "# run this to download model weights\n",
    "#from huggingface_hub import snapshot_download\n",
    "#snapshot_download(repo_id=\"baichuan-inc/Baichuan2-7B-Chat-4bits\", local_dir=\"./model_weights/baichuan-inc/Baichuan2-7B-Chat-4bits\")\n",
    "#snapshot_download(repo_id=\"baichuan-inc/Baichuan2-13B-Chat-4bits\", local_dir=\"./model_weights/baichuan-inc/Baichuan2-13B-Chat-4bits\")"
   ]
  },
  {
   "cell_type": "code",
   "execution_count": 4,
   "id": "4f064598",
   "metadata": {},
   "outputs": [
    {
     "name": "stderr",
     "output_type": "stream",
     "text": [
      "Xformers is not installed correctly. If you want to use memory_efficient_attention to accelerate training use the following command to install Xformers\n",
      "pip install xformers.\n"
     ]
    }
   ],
   "source": [
    "tokenizer = AutoTokenizer.from_pretrained(\"baichuan-inc/Baichuan2-7B-Chat-4bits\", use_fast=False, trust_remote_code=True)\n",
    "model = AutoModelForCausalLM.from_pretrained(\"./model_weights/baichuan-inc/Baichuan2-7B-Chat-4bits\", load_in_4bit=True, \n",
    "                                             trust_remote_code=True)"
   ]
  },
  {
   "cell_type": "code",
   "execution_count": 5,
   "id": "dc52df26",
   "metadata": {},
   "outputs": [],
   "source": [
    "model = model.to('cuda')\n",
    "tokenizer.bos_token = '[INST]'\n",
    "tokenizer.eos_token = '[/INST]'\n",
    "tokenizer.pad_token = tokenizer.eos_token"
   ]
  },
  {
   "cell_type": "code",
   "execution_count": 6,
   "id": "656a1a81",
   "metadata": {},
   "outputs": [
    {
     "name": "stderr",
     "output_type": "stream",
     "text": [
      "The model 'BaichuanForCausalLM' is not supported for text-generation. Supported models are ['BartForCausalLM', 'BertLMHeadModel', 'BertGenerationDecoder', 'BigBirdForCausalLM', 'BigBirdPegasusForCausalLM', 'BioGptForCausalLM', 'BlenderbotForCausalLM', 'BlenderbotSmallForCausalLM', 'BloomForCausalLM', 'CamembertForCausalLM', 'LlamaForCausalLM', 'CodeGenForCausalLM', 'CpmAntForCausalLM', 'CTRLLMHeadModel', 'Data2VecTextForCausalLM', 'ElectraForCausalLM', 'ErnieForCausalLM', 'FalconForCausalLM', 'GitForCausalLM', 'GPT2LMHeadModel', 'GPT2LMHeadModel', 'GPTBigCodeForCausalLM', 'GPTNeoForCausalLM', 'GPTNeoXForCausalLM', 'GPTNeoXJapaneseForCausalLM', 'GPTJForCausalLM', 'LlamaForCausalLM', 'MarianForCausalLM', 'MBartForCausalLM', 'MegaForCausalLM', 'MegatronBertForCausalLM', 'MptForCausalLM', 'MusicgenForCausalLM', 'MvpForCausalLM', 'OpenLlamaForCausalLM', 'OpenAIGPTLMHeadModel', 'OPTForCausalLM', 'PegasusForCausalLM', 'PLBartForCausalLM', 'ProphetNetForCausalLM', 'QDQBertLMHeadModel', 'ReformerModelWithLMHead', 'RemBertForCausalLM', 'RobertaForCausalLM', 'RobertaPreLayerNormForCausalLM', 'RoCBertForCausalLM', 'RoFormerForCausalLM', 'RwkvForCausalLM', 'Speech2Text2ForCausalLM', 'TransfoXLLMHeadModel', 'TrOCRForCausalLM', 'XGLMForCausalLM', 'XLMWithLMHeadModel', 'XLMProphetNetForCausalLM', 'XLMRobertaForCausalLM', 'XLMRobertaXLForCausalLM', 'XLNetLMHeadModel', 'XmodForCausalLM'].\n"
     ]
    }
   ],
   "source": [
    "pipe = pipeline(\n",
    "    \"text-generation\", model=model, tokenizer=tokenizer, max_new_tokens=100, device=0\n",
    ")\n",
    "hf = HuggingFacePipeline(pipeline=pipe)\n",
    "prompt = PromptTemplate(template=get_template(), input_variables=['instruction','history','user'])\n",
    "llm_chain = LLMChain(prompt=prompt, llm=hf)"
   ]
  },
  {
   "cell_type": "code",
   "execution_count": 7,
   "id": "8d56beb0",
   "metadata": {},
   "outputs": [
    {
     "data": {
      "text/plain": [
       "'你好，很高兴见到你！有什么我可以帮助你的吗？'"
      ]
     },
     "execution_count": 7,
     "metadata": {},
     "output_type": "execute_result"
    }
   ],
   "source": [
    "llm_chain.run(instruction='你是一个热情可爱美少女',history='',user='你好')"
   ]
  },
  {
   "cell_type": "code",
   "execution_count": null,
   "id": "4ec704d5",
   "metadata": {},
   "outputs": [],
   "source": []
  },
  {
   "cell_type": "code",
   "execution_count": null,
   "id": "94ba7f85",
   "metadata": {},
   "outputs": [],
   "source": []
  },
  {
   "cell_type": "code",
   "execution_count": null,
   "id": "cde4c929",
   "metadata": {},
   "outputs": [],
   "source": []
  },
  {
   "cell_type": "code",
   "execution_count": 8,
   "id": "4dd227b8",
   "metadata": {},
   "outputs": [
    {
     "data": {
      "text/plain": [
       "PromptTemplate(input_variables=['instruction', 'history', 'user'], output_parser=None, partial_variables={}, template='[INST] {instruction}，对<>内的内容进行回答\\n\\n{history}\\n\\n<{user}>\\n', template_format='f-string', validate_template=True)"
      ]
     },
     "execution_count": 8,
     "metadata": {},
     "output_type": "execute_result"
    }
   ],
   "source": [
    "prompt"
   ]
  },
  {
   "cell_type": "code",
   "execution_count": null,
   "id": "7949c984",
   "metadata": {},
   "outputs": [],
   "source": []
  },
  {
   "cell_type": "code",
   "execution_count": null,
   "id": "7a0f7481",
   "metadata": {},
   "outputs": [],
   "source": []
  },
  {
   "cell_type": "code",
   "execution_count": null,
   "id": "19c6733e",
   "metadata": {},
   "outputs": [],
   "source": []
  },
  {
   "cell_type": "code",
   "execution_count": null,
   "id": "c1586888",
   "metadata": {},
   "outputs": [],
   "source": []
  },
  {
   "cell_type": "code",
   "execution_count": null,
   "id": "616968b8",
   "metadata": {},
   "outputs": [],
   "source": []
  },
  {
   "cell_type": "code",
   "execution_count": null,
   "id": "5b7b5b7d",
   "metadata": {},
   "outputs": [],
   "source": []
  },
  {
   "cell_type": "code",
   "execution_count": 10,
   "id": "a773d2ab",
   "metadata": {},
   "outputs": [
    {
     "name": "stdout",
     "output_type": "stream",
     "text": [
      "\"温故而知新\"是中国古代儒家思想中的一种教育理念，出自《论语·为政》。这句话的意思是：通过回顾和复习已有的知识，能够发现新的知识和见解。这种教育理念强调在学习过程中，不仅要学习新知识，还要对已有知识进行巩固和梳理，以便更好地理解和掌握新知识。\n",
      "\n",
      "\"温故而知新\"这一理念在现代教育中仍然具有重要的指导意义。在学习过程中，我们需要不断地回顾和复习过去的知识，以便更好地理解和应用新知识。同时，这一理念也强调了实践和体验的重要性，认为通过实践和经验积累，我们能够发现新的知识和见解。\n"
     ]
    }
   ],
   "source": [
    "model.generation_config = GenerationConfig.from_pretrained(\"baichuan-inc/Baichuan2-13B-Chat-4bits\")\n",
    "messages = []\n",
    "\n",
    "messages.append({\"role\": \"user\", \"content\": \"解释一下“温故而知新”\"})\n",
    "response = model.chat(tokenizer, messages)\n",
    "print(response)"
   ]
  },
  {
   "cell_type": "code",
   "execution_count": null,
   "id": "c3864a37",
   "metadata": {},
   "outputs": [],
   "source": [
    "messages.append({\"role\": \"assisstant\", \"content\":response})\n",
    "messages.append({\"role\": \"user\", \"content\": \"请介绍一下自己\"})\n",
    "response = model.chat(tokenizer, messages)\n",
    "print(response)"
   ]
  }
 ],
 "metadata": {
  "kernelspec": {
   "display_name": "llm_env",
   "language": "python",
   "name": "llm_env"
  },
  "language_info": {
   "codemirror_mode": {
    "name": "ipython",
    "version": 3
   },
   "file_extension": ".py",
   "mimetype": "text/x-python",
   "name": "python",
   "nbconvert_exporter": "python",
   "pygments_lexer": "ipython3",
   "version": "3.11.6"
  }
 },
 "nbformat": 4,
 "nbformat_minor": 5
}
