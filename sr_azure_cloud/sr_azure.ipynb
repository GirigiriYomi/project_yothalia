{
 "cells": [
  {
   "cell_type": "code",
   "execution_count": 9,
   "id": "51586258",
   "metadata": {
    "scrolled": false
   },
   "outputs": [],
   "source": [
    "from paddlespeech.cli.asr.infer import ASRExecutor\n",
    "import pyaudio, wave\n",
    "import numpy as np\n",
    "import speech_recognition as sr\n",
    "\n",
    "#\n",
    "AZURE_SPEECH_KEY = \"aad81ba5d2814e008791d1be5f3cfda5\" # personal key belongs to Girigiri_Yomi"
   ]
  },
  {
   "cell_type": "code",
   "execution_count": 5,
   "id": "09429c01",
   "metadata": {},
   "outputs": [],
   "source": [
    "r = sr.Recognizer()\n",
    "mic = sr.Microphone(device_index=1)"
   ]
  },
  {
   "cell_type": "code",
   "execution_count": 6,
   "id": "d31ecd33",
   "metadata": {
    "scrolled": true
   },
   "outputs": [
    {
     "data": {
      "text/plain": [
       "['Microsoft Sound Mapper - Input',\n",
       " 'Microphone (JOUNIVO JV601)',\n",
       " '麦克风 (Dubbing Virtual Device)',\n",
       " 'Microphone (WEB CAM)',\n",
       " 'Headset Microphone (Oculus Virt',\n",
       " 'Microsoft Sound Mapper - Output',\n",
       " '扬声器 (Realtek High Definition Au',\n",
       " 'Realtek Digital Output (Realtek',\n",
       " '扬声器 (Dubbing Virtual Device)',\n",
       " 'R240HY (NVIDIA High Definition ',\n",
       " '鑰虫満 (Oculus Virtual Audio Device',\n",
       " '主声音捕获驱动程序',\n",
       " 'Microphone (JOUNIVO JV601)',\n",
       " '麦克风 (Dubbing Virtual Device)',\n",
       " 'Microphone (WEB CAM)',\n",
       " 'Headset Microphone (Oculus Virtual Audio Device)',\n",
       " '主声音驱动程序',\n",
       " '扬声器 (Realtek High Definition Audio)',\n",
       " 'Realtek Digital Output (Realtek High Definition Audio)',\n",
       " '扬声器 (Dubbing Virtual Device)',\n",
       " 'R240HY (NVIDIA High Definition Audio)',\n",
       " '鑰虫満 (Oculus Virtual Audio Device)',\n",
       " 'Realtek Digital Output (Realtek High Definition Audio)',\n",
       " '扬声器 (Realtek High Definition Audio)',\n",
       " '扬声器 (Dubbing Virtual Device)',\n",
       " 'R240HY (NVIDIA High Definition Audio)',\n",
       " '鑰虫満 (Oculus Virtual Audio Device)',\n",
       " '麦克风 (Dubbing Virtual Device)',\n",
       " 'Microphone (WEB CAM)',\n",
       " 'Headset Microphone (Oculus Virtual Audio Device)',\n",
       " 'Microphone (JOUNIVO JV601)',\n",
       " '鑰虫満 ()',\n",
       " 'Output 1 (OCULUSVAD Wave Speaker Headphone)',\n",
       " 'Output 2 (OCULUSVAD Wave Speaker Headphone)',\n",
       " 'Input (OCULUSVAD Wave Speaker Headphone)',\n",
       " 'Headset Microphone (OCULUSVAD Wave Microphone Headphone)',\n",
       " 'Speakers (Realtek HD Audio output)',\n",
       " '麦克风 (Realtek HD Audio Mic input)',\n",
       " 'SPDIF Out (Realtek HDA SPDIF Out)',\n",
       " '立体声混音 (Realtek HD Audio Stereo input)',\n",
       " '绾胯矾杈撳叆 (Realtek HD Audio Line input)',\n",
       " '麦克风 ()',\n",
       " 'Speakers ()',\n",
       " 'Output (NVIDIA High Definition Audio)',\n",
       " '鑰虫満 (@System32\\\\drivers\\\\bthhfenum.sys,#2;%1 Hands-Free AG Audio%0\\r\\n;(WH-1000XM3))',\n",
       " '鑰虫満 (@System32\\\\drivers\\\\bthhfenum.sys,#2;%1 Hands-Free AG Audio%0\\r\\n;(WH-1000XM3))',\n",
       " '麦克风 (WEB CAM)',\n",
       " '麦克风 (JOUNIVO JV601)']"
      ]
     },
     "execution_count": 6,
     "metadata": {},
     "output_type": "execute_result"
    }
   ],
   "source": [
    "sr.Microphone.list_microphone_names()"
   ]
  },
  {
   "cell_type": "code",
   "execution_count": 13,
   "id": "2f0a9e71",
   "metadata": {},
   "outputs": [
    {
     "name": "stdout",
     "output_type": "stream",
     "text": [
      "Listening..\n",
      "Done listening\n",
      "('我现在说的是中文。', 0.90371984)\n",
      "Listening..\n",
      "Done listening\n",
      "('如果说中文非常快，像现在这样，如果加一些方言，你认为你能听懂说的是什么吗？', 0.8449616)\n",
      "Listening..\n",
      "Done listening\n",
      "('嗯，行呗，那就用你或者我们自己去那个新点的模型，现在我们说的是什么你根本都听不懂对不对？', 0.7310813)\n",
      "Listening..\n"
     ]
    },
    {
     "ename": "KeyboardInterrupt",
     "evalue": "",
     "output_type": "error",
     "traceback": [
      "\u001b[1;31m---------------------------------------------------------------------------\u001b[0m",
      "\u001b[1;31mKeyboardInterrupt\u001b[0m                         Traceback (most recent call last)",
      "Cell \u001b[1;32mIn[13], line 7\u001b[0m\n\u001b[0;32m      5\u001b[0m \u001b[38;5;28mprint\u001b[39m(\u001b[38;5;124m\"\u001b[39m\u001b[38;5;124mListening..\u001b[39m\u001b[38;5;124m\"\u001b[39m)\n\u001b[0;32m      6\u001b[0m \u001b[38;5;28;01mtry\u001b[39;00m:\n\u001b[1;32m----> 7\u001b[0m     audio \u001b[38;5;241m=\u001b[39m \u001b[43mr\u001b[49m\u001b[38;5;241;43m.\u001b[39;49m\u001b[43mlisten\u001b[49m\u001b[43m(\u001b[49m\u001b[43msource\u001b[49m\u001b[43m,\u001b[49m\u001b[43mtimeout\u001b[49m\u001b[38;5;241;43m=\u001b[39;49m\u001b[38;5;241;43m10\u001b[39;49m\u001b[43m)\u001b[49m \u001b[38;5;66;03m# no talk within 2 sec, re-loop\u001b[39;00m\n\u001b[0;32m      8\u001b[0m     \u001b[38;5;28mprint\u001b[39m(\u001b[38;5;124m\"\u001b[39m\u001b[38;5;124mDone listening\u001b[39m\u001b[38;5;124m\"\u001b[39m)\n\u001b[0;32m      9\u001b[0m     \u001b[38;5;28mprint\u001b[39m(r\u001b[38;5;241m.\u001b[39mrecognize_azure(audio, key\u001b[38;5;241m=\u001b[39mAZURE_SPEECH_KEY, language\u001b[38;5;241m=\u001b[39m\u001b[38;5;124m'\u001b[39m\u001b[38;5;124mzh-CN\u001b[39m\u001b[38;5;124m'\u001b[39m, location\u001b[38;5;241m=\u001b[39m\u001b[38;5;124m'\u001b[39m\u001b[38;5;124meastus\u001b[39m\u001b[38;5;124m'\u001b[39m))\n",
      "File \u001b[1;32mD:\\anaconda3\\envs\\paddle\\lib\\site-packages\\speech_recognition\\__init__.py:491\u001b[0m, in \u001b[0;36mRecognizer.listen\u001b[1;34m(self, source, timeout, phrase_time_limit, snowboy_configuration)\u001b[0m\n\u001b[0;32m    488\u001b[0m \u001b[38;5;28;01mif\u001b[39;00m timeout \u001b[38;5;129;01mand\u001b[39;00m elapsed_time \u001b[38;5;241m>\u001b[39m timeout:\n\u001b[0;32m    489\u001b[0m     \u001b[38;5;28;01mraise\u001b[39;00m WaitTimeoutError(\u001b[38;5;124m\"\u001b[39m\u001b[38;5;124mlistening timed out while waiting for phrase to start\u001b[39m\u001b[38;5;124m\"\u001b[39m)\n\u001b[1;32m--> 491\u001b[0m buffer \u001b[38;5;241m=\u001b[39m \u001b[43msource\u001b[49m\u001b[38;5;241;43m.\u001b[39;49m\u001b[43mstream\u001b[49m\u001b[38;5;241;43m.\u001b[39;49m\u001b[43mread\u001b[49m\u001b[43m(\u001b[49m\u001b[43msource\u001b[49m\u001b[38;5;241;43m.\u001b[39;49m\u001b[43mCHUNK\u001b[49m\u001b[43m)\u001b[49m\n\u001b[0;32m    492\u001b[0m \u001b[38;5;28;01mif\u001b[39;00m \u001b[38;5;28mlen\u001b[39m(buffer) \u001b[38;5;241m==\u001b[39m \u001b[38;5;241m0\u001b[39m: \u001b[38;5;28;01mbreak\u001b[39;00m  \u001b[38;5;66;03m# reached end of the stream\u001b[39;00m\n\u001b[0;32m    493\u001b[0m frames\u001b[38;5;241m.\u001b[39mappend(buffer)\n",
      "File \u001b[1;32mD:\\anaconda3\\envs\\paddle\\lib\\site-packages\\speech_recognition\\__init__.py:199\u001b[0m, in \u001b[0;36mMicrophone.MicrophoneStream.read\u001b[1;34m(self, size)\u001b[0m\n\u001b[0;32m    198\u001b[0m \u001b[38;5;28;01mdef\u001b[39;00m \u001b[38;5;21mread\u001b[39m(\u001b[38;5;28mself\u001b[39m, size):\n\u001b[1;32m--> 199\u001b[0m     \u001b[38;5;28;01mreturn\u001b[39;00m \u001b[38;5;28;43mself\u001b[39;49m\u001b[38;5;241;43m.\u001b[39;49m\u001b[43mpyaudio_stream\u001b[49m\u001b[38;5;241;43m.\u001b[39;49m\u001b[43mread\u001b[49m\u001b[43m(\u001b[49m\u001b[43msize\u001b[49m\u001b[43m,\u001b[49m\u001b[43m \u001b[49m\u001b[43mexception_on_overflow\u001b[49m\u001b[38;5;241;43m=\u001b[39;49m\u001b[38;5;28;43;01mFalse\u001b[39;49;00m\u001b[43m)\u001b[49m\n",
      "File \u001b[1;32mD:\\anaconda3\\envs\\paddle\\lib\\site-packages\\pyaudio\\__init__.py:570\u001b[0m, in \u001b[0;36mPyAudio.Stream.read\u001b[1;34m(self, num_frames, exception_on_overflow)\u001b[0m\n\u001b[0;32m    567\u001b[0m \u001b[38;5;28;01mif\u001b[39;00m \u001b[38;5;129;01mnot\u001b[39;00m \u001b[38;5;28mself\u001b[39m\u001b[38;5;241m.\u001b[39m_is_input:\n\u001b[0;32m    568\u001b[0m     \u001b[38;5;28;01mraise\u001b[39;00m \u001b[38;5;167;01mIOError\u001b[39;00m(\u001b[38;5;124m\"\u001b[39m\u001b[38;5;124mNot input stream\u001b[39m\u001b[38;5;124m\"\u001b[39m,\n\u001b[0;32m    569\u001b[0m                   paCanNotReadFromAnOutputOnlyStream)\n\u001b[1;32m--> 570\u001b[0m \u001b[38;5;28;01mreturn\u001b[39;00m \u001b[43mpa\u001b[49m\u001b[38;5;241;43m.\u001b[39;49m\u001b[43mread_stream\u001b[49m\u001b[43m(\u001b[49m\u001b[38;5;28;43mself\u001b[39;49m\u001b[38;5;241;43m.\u001b[39;49m\u001b[43m_stream\u001b[49m\u001b[43m,\u001b[49m\u001b[43m \u001b[49m\u001b[43mnum_frames\u001b[49m\u001b[43m,\u001b[49m\n\u001b[0;32m    571\u001b[0m \u001b[43m                      \u001b[49m\u001b[43mexception_on_overflow\u001b[49m\u001b[43m)\u001b[49m\n",
      "\u001b[1;31mKeyboardInterrupt\u001b[0m: "
     ]
    }
   ],
   "source": [
    "with mic as source:\n",
    "    r.dynamic_energy_threshold = False\n",
    "    r.adjust_for_ambient_noise(source,2) \n",
    "    while True:\n",
    "        print(\"Listening..\")\n",
    "        try:\n",
    "            audio = r.listen(source) #,timeout=10) # no talk within 10 sec, re-loop\n",
    "            print(\"Done listening\")\n",
    "            print(r.recognize_azure(audio, key=AZURE_SPEECH_KEY, language='zh-CN', location='eastus'))\n",
    "        except sr.exceptions.WaitTimeoutError:\n",
    "            continue\n",
    "        except sr.UnknownValueError:\n",
    "            print(\"Microsoft Azure Speech could not understand audio\")\n",
    "        except sr.RequestError as e:\n",
    "            print(\"Could not request results from Microsoft Azure Speech service; {0}\".format(e))\n",
    "                "
   ]
  },
  {
   "cell_type": "code",
   "execution_count": null,
   "id": "164794de",
   "metadata": {},
   "outputs": [],
   "source": []
  },
  {
   "cell_type": "code",
   "execution_count": null,
   "id": "c07a5c03",
   "metadata": {},
   "outputs": [],
   "source": []
  },
  {
   "cell_type": "code",
   "execution_count": null,
   "id": "bb7114c1",
   "metadata": {},
   "outputs": [],
   "source": []
  },
  {
   "cell_type": "code",
   "execution_count": null,
   "id": "56895b76",
   "metadata": {},
   "outputs": [],
   "source": []
  },
  {
   "cell_type": "code",
   "execution_count": null,
   "id": "35512cf9",
   "metadata": {},
   "outputs": [],
   "source": []
  },
  {
   "cell_type": "code",
   "execution_count": null,
   "id": "a4bde27b",
   "metadata": {},
   "outputs": [],
   "source": []
  }
 ],
 "metadata": {
  "kernelspec": {
   "display_name": "paddle",
   "language": "python",
   "name": "paddle"
  },
  "language_info": {
   "codemirror_mode": {
    "name": "ipython",
    "version": 3
   },
   "file_extension": ".py",
   "mimetype": "text/x-python",
   "name": "python",
   "nbconvert_exporter": "python",
   "pygments_lexer": "ipython3",
   "version": "3.10.13"
  }
 },
 "nbformat": 4,
 "nbformat_minor": 5
}
