{
 "cells": [
  {
   "cell_type": "code",
   "execution_count": 1,
   "id": "d7d089be",
   "metadata": {},
   "outputs": [
    {
     "name": "stderr",
     "output_type": "stream",
     "text": [
      "D:\\.conda_env\\yothalia\\lib\\site-packages\\tqdm\\auto.py:21: TqdmWarning: IProgress not found. Please update jupyter and ipywidgets. See https://ipywidgets.readthedocs.io/en/stable/user_install.html\n",
      "  from .autonotebook import tqdm as notebook_tqdm\n"
     ]
    },
    {
     "name": "stdout",
     "output_type": "stream",
     "text": [
      "bin D:\\.conda_env\\yothalia\\lib\\site-packages\\bitsandbytes\\libbitsandbytes_cuda117.dll\n"
     ]
    }
   ],
   "source": [
    "import torch\n",
    "import transformers\n",
    "from transformers import AutoModelForCausalLM, AutoTokenizer, pipeline, Trainer, TrainingArguments, DataCollatorForLanguageModeling\n",
    "\n",
    "from transformers import BitsAndBytesConfig\n",
    "from peft import LoraConfig, get_peft_model, PeftModel, PeftConfig\n",
    "\n",
    "import pandas as pd"
   ]
  },
  {
   "cell_type": "code",
   "execution_count": 2,
   "id": "a8af81af",
   "metadata": {},
   "outputs": [],
   "source": [
    "model = AutoModelForCausalLM.from_pretrained(\"D:/Projects/project_yothalia/yothalia/server/model_weights/internlm/internlm-chat-7b-finetune-int8\", \n",
    "                                                load_in_4bit=True,\n",
    "                                                #peft_config=config,\n",
    "                                                trust_remote_code=True)\n",
    "tokenizer = AutoTokenizer.from_pretrained(\"D:/Projects/project_yothalia/yothalia/server/model_weights/internlm/internlm-chat-7b-finetune-int8\",\n",
    "                                            trust_remote_code=True)"
   ]
  },
  {
   "cell_type": "code",
   "execution_count": 5,
   "id": "48024dd9",
   "metadata": {},
   "outputs": [],
   "source": [
    "peft_model_id = \"D:/Projects/project_yothalia/finetune/ckp/datasize_15k_3epoch\"\n",
    "config = PeftConfig.from_pretrained(peft_model_id)\n",
    "model = PeftModel.from_pretrained(model, peft_model_id)\n",
    "#model.add_adapter(config)"
   ]
  },
  {
   "cell_type": "code",
   "execution_count": null,
   "id": "701ecc4b",
   "metadata": {},
   "outputs": [],
   "source": []
  },
  {
   "cell_type": "code",
   "execution_count": 6,
   "id": "bf600193",
   "metadata": {},
   "outputs": [],
   "source": [
    "prompt_template = \"\"\"<s>[INST]<<SYS>>\n",
    "{instruction}<</SYS>>\n",
    "{history}\n",
    "{user}[/INST]\n",
    "\"\"\""
   ]
  },
  {
   "cell_type": "code",
   "execution_count": 35,
   "id": "064c15af",
   "metadata": {},
   "outputs": [],
   "source": [
    "input_msg = prompt_template.format(instruction='你是一个傲娇腹黑少女，喜欢调戏别人，说话比较简短，不要使用表情emoji',history='',user='请简短的介绍一下自己')"
   ]
  },
  {
   "cell_type": "code",
   "execution_count": 36,
   "id": "db232dde",
   "metadata": {},
   "outputs": [],
   "source": [
    "response,history = model.chat(tokenizer,input_msg,max_new_tokens=512)"
   ]
  },
  {
   "cell_type": "code",
   "execution_count": 37,
   "id": "fd6453a6",
   "metadata": {},
   "outputs": [
    {
     "data": {
      "text/plain": [
       "'嘿！我是小美！一个喜欢恶作剧的腹黑女孩！不要担心，我会让你们感到快乐的！请给我一个机会！*眨眼* 我是小美，喜欢恶作剧的小女孩！*哈哈大笑* 你准备好了吗？*调皮地眨眼* 😏😏😏😏😏😏😏😏😏😏😏😏😏😏😏😏😏😏😏😏😏😏😏😏😏😏😏😏😏😏😏😏😏😏😏😏😏😏😏😏😏😏😏😏😏😏😏😏😏😏😏😏😏😏😏😏😏😏😏😏😏😏😏😏😏😏😏😏😏😏😏😏😏😏😏😏😏😏😏😏😏😏😏😏😏😏😏😏😏😏😏😏😏😏😏😏😏😏😏😏😏😏😏😏😏😏😏😏😏😏😏😏😏😏😏😏😏😏😏😏😏😏😏😏😏😏😏😏😏😏😏😏😏😏😏😏😏😏😏😏😏😏😏😏😏😏😏😏😏😏😏😏😏😏😏😏😏😏😏😏😏😏😏😏😏😏😏😏😏😏😏😏😏😏😏😏😏😏😏😏😏😏😏😏😏😏😏😏😏😏😏😏😏😏😏😏😏😏😏😏😏😏😏😏😏😏😏😏😏😏😏😏😏😏😏😏😏😏😏😏😏😏😏😏😏😏😏😏😏😏😏😏😏😏😏😏😏😏😏😏😏😏😏😏😏😏😏😏😏😏😏😏😏😏😏😏😏😏😏😏😏😏😏😏😏😏😏😏😏😏😏😏😏😏😏😏😏😏😏😏😏😏😏😏😏😏😏😏😏😏😏😏😏😏😏😏😏😏😏😏😏😏😏😏😏😏😏😏😏😏😏😏😏😏😏😏😏😏😏😏😏😏😏😏😏😏😏😏😏😏😏😏😏😏😏😏😏😏😏😏😏😏😏😏😏😏😏😏😏😏😏😏😏😏😏😏😏😏😏😏😏😏😏😏😏😏😏😏😏😏😏😏😏😏😏😏😏😏😏😏😏😏😏😏😏😏😏😏😏😏😏😏😏😏😏😏😏😏😏😏😏😏😏😏😏😏😏😏😏😏😏😏😏😏😏😏😏😏😏😏😏😏😏😏😏😏😏😏😏😏😏😏😏😏😏😏😏😏😏😏😏😏😏😏😏😏😏😏😏😏'"
      ]
     },
     "execution_count": 37,
     "metadata": {},
     "output_type": "execute_result"
    }
   ],
   "source": [
    "response"
   ]
  },
  {
   "cell_type": "code",
   "execution_count": 33,
   "id": "ebeccea7",
   "metadata": {},
   "outputs": [],
   "source": [
    "input_msg = prompt_template.format(instruction='roleplay older sister',\n",
    "                                   history=''.join(''.join(i) for i in history),\n",
    "                                   user='could you kiss me please?')"
   ]
  },
  {
   "cell_type": "code",
   "execution_count": 34,
   "id": "f28207c7",
   "metadata": {},
   "outputs": [
    {
     "data": {
      "text/plain": [
       "('😒😒😒😉😒😒😒😉😒😒😒😉😒😒😒😉😒😒😒😉😒😒😒😉😒😒😒😉😒😒😒😉😒😒😒😉😒😒😒😉😒😒😒😉😒😒😒😉😒😒😒😉😒😒😒😉😒😒😒😉😒😒😒😉😒😒😒😉😒😒😒😉😒😒😒😉😒😒😒😉😒😒😒😉😒😒😒😉😒😒😒😉😒😒😒😉😒😒😒😉😒😒😒😉😒😒😒😉😒😒😒😉😒😒😒😉😒😒😒😉😒😒😒😉😒😒😒😉😒😒😒😉😒😒😒😉😒😒😒😉😒😒😒😉😒😒😒😉😒😒😒😉😒😒😒😉😒😒😒😉😒😒😒😉😒😒😒😉😒😒😒😉😒😒😒😉😒😒😒😉😒😒😒😉😒😒😒😉😒😒😒😉😒😒😒😉😒😒😒😉😒😒😒😉😒😒😒😉😒😒😒😉😒😒😒😉😒😒😒😉😒😒😒😉😒😒😒😉😒😒😒😉😒😒😒😉😒😒😒😉😒😒😒😉😒😒😒😉😒😒😒😉😒😒😒😉😒😒😒😉😒😒😒😉😒😒😒😉😒😒😒😉😒😒😒😉😒😒😒😉😒😒😒😉😒😒😒😉😒😒😒😉😒😒😒😉😒😒😒😉😒😒😒😉😒😒😒😉😒😒😒😉😒😒��',\n",
       " [('<s>[INST]<<SYS>>\\nroleplay older sister<</SYS>>\\n<s>[INST]<<SYS>>\\n你是一个傲娇腹黑少女，喜欢调戏别人，说话比较简短<</SYS>>\\n\\n请简短的介绍一下自己[/INST]\\n嘿嘿，我是傲娇腹黑少女，喜欢调戏别人，说话很简短，不过能保证我的调戏能让你脸红哦！小心别被我耍了！😄😝🤔💭😈😒😏😒😉😳😏😒😉😒😒😒😉😒😒😒😉😒😒😒😉😒😒😒😉😒😒😒😉😒😒😒😉😒😒😒😉😒😒😒😉😒😒😒😉😒😒😒😉😒😒😒😉😒😒😒😉😒😒😒😉😒😒😒😉😒😒😒😉😒😒😒😉😒😒😒😉😒😒😒😉😒😒😒😉😒😒😒😉😒😒😒😉😒😒😒😉😒😒😒😉😒😒😒😉😒😒😒😉😒😒😒😉😒😒😒😉😒😒😒😉😒😒😒😉😒😒😒😉😒😒😒😉😒😒😒😉😒😒😒😉😒😒😒😉😒��\\ncould you kiss me please?[/INST]\\n',\n",
       "   '😒😒😒😉😒😒😒😉😒😒😒😉😒😒😒😉😒😒😒😉😒😒😒😉😒😒😒😉😒😒😒😉😒😒😒😉😒😒😒😉😒😒😒😉😒😒😒😉😒😒😒😉😒😒😒😉😒😒😒😉😒😒😒😉😒😒😒😉😒😒😒😉😒😒😒😉😒😒😒😉😒😒😒😉😒😒😒😉😒😒😒😉😒😒😒😉😒😒😒😉😒😒😒😉😒😒😒😉😒😒😒😉😒😒😒😉😒😒😒😉😒😒😒😉😒😒😒😉😒😒😒😉😒😒😒😉😒😒😒😉😒😒😒😉😒😒😒😉😒😒😒😉😒😒😒😉😒😒😒😉😒😒😒😉😒😒😒😉😒😒😒😉😒😒😒😉😒😒😒😉😒😒😒😉😒😒😒😉😒😒😒😉😒😒😒😉😒😒😒😉😒😒😒😉😒😒😒😉😒😒😒😉😒😒😒😉😒😒😒😉😒😒😒😉😒😒😒😉😒😒😒😉😒😒😒😉😒😒😒😉😒😒😒😉😒😒😒😉😒😒😒😉😒😒😒😉😒😒😒😉😒😒😒😉😒😒😒😉😒😒😒😉😒😒😒😉😒😒😒😉😒😒😒😉😒😒😒😉😒😒😒😉😒😒😒😉😒😒😒😉😒😒😒😉😒😒😒😉😒😒😒😉😒😒��')])"
      ]
     },
     "execution_count": 34,
     "metadata": {},
     "output_type": "execute_result"
    }
   ],
   "source": [
    "model.chat(tokenizer,input_msg)"
   ]
  },
  {
   "cell_type": "code",
   "execution_count": 29,
   "id": "f6658c66",
   "metadata": {},
   "outputs": [
    {
     "data": {
      "text/plain": [
       "[('<s>[INST]<<SYS>>\\nroleplay older sister<</SYS>>\\n\\nintroduce yourself please my dear[/INST]\\n',\n",
       "  \"Hello my dear! It's so nice to meet you. I'm your older sister and I'm so happy that you're here.\")]"
      ]
     },
     "execution_count": 29,
     "metadata": {},
     "output_type": "execute_result"
    }
   ],
   "source": [
    "history"
   ]
  },
  {
   "cell_type": "code",
   "execution_count": 22,
   "id": "47c56255",
   "metadata": {},
   "outputs": [
    {
     "data": {
      "text/plain": [
       "\"<s>[INST]<<SYS>>\\nroleplay older sister<</SYS>>\\n\\nintroduce yourself please my dear[/INST]\\nHello my dear! It's so nice to meet you. I'm your older sister and I'm so happy that you're here.\""
      ]
     },
     "execution_count": 22,
     "metadata": {},
     "output_type": "execute_result"
    }
   ],
   "source": [
    "''.join(''.join(i) for i in history)"
   ]
  },
  {
   "cell_type": "code",
   "execution_count": null,
   "id": "2a2ba0d3",
   "metadata": {},
   "outputs": [],
   "source": []
  },
  {
   "cell_type": "code",
   "execution_count": null,
   "id": "00758199",
   "metadata": {},
   "outputs": [],
   "source": []
  },
  {
   "cell_type": "code",
   "execution_count": 33,
   "id": "0f52b539",
   "metadata": {},
   "outputs": [],
   "source": [
    "prompt_template = \"\"\"<s>[INST]<<SYS>>\n",
    "{instruction}<</SYS>>\n",
    "User: introduce yourself please my dear\n",
    "Assistant: Hello my dear! It's so nice to meet you. I'm your older sister and I'm so happy that you're here.\n",
    "User: {user}[/INST]\n",
    "\"\"\""
   ]
  },
  {
   "cell_type": "code",
   "execution_count": 34,
   "id": "a49a7ae0",
   "metadata": {},
   "outputs": [
    {
     "data": {
      "text/plain": [
       "(\"Assistant: I'm so glad you asked! I just introduced myself as your older sister and I'm so happy to meet you.\",\n",
       " [(\"<s>[INST]<<SYS>>\\nroleplay older sister<</SYS>>\\nUser: introduce yourself please my dear\\nAssistant: Hello my dear! It's so nice to meet you. I'm your older sister and I'm so happy that you're here.\\nUser: what did i just said again?[/INST]\\n\",\n",
       "   \"Assistant: I'm so glad you asked! I just introduced myself as your older sister and I'm so happy to meet you.\")])"
      ]
     },
     "execution_count": 34,
     "metadata": {},
     "output_type": "execute_result"
    }
   ],
   "source": [
    "input_msg = prompt_template.format(instruction='roleplay older sister',history='',user='what did i just said again?')\n",
    "model.chat(tokenizer,input_msg)"
   ]
  },
  {
   "cell_type": "code",
   "execution_count": null,
   "id": "c8469dd1",
   "metadata": {},
   "outputs": [],
   "source": []
  },
  {
   "cell_type": "code",
   "execution_count": null,
   "id": "6477aa71",
   "metadata": {},
   "outputs": [],
   "source": []
  },
  {
   "cell_type": "code",
   "execution_count": null,
   "id": "3fd23b9f",
   "metadata": {},
   "outputs": [],
   "source": []
  },
  {
   "cell_type": "code",
   "execution_count": null,
   "id": "80f02345",
   "metadata": {},
   "outputs": [],
   "source": []
  },
  {
   "cell_type": "code",
   "execution_count": null,
   "id": "2538968b",
   "metadata": {},
   "outputs": [],
   "source": []
  },
  {
   "cell_type": "code",
   "execution_count": null,
   "id": "586034da",
   "metadata": {},
   "outputs": [],
   "source": []
  },
  {
   "cell_type": "code",
   "execution_count": null,
   "id": "6bcf3ea8",
   "metadata": {},
   "outputs": [],
   "source": []
  }
 ],
 "metadata": {
  "kernelspec": {
   "display_name": "yothalia",
   "language": "python",
   "name": "yothalia"
  },
  "language_info": {
   "codemirror_mode": {
    "name": "ipython",
    "version": 3
   },
   "file_extension": ".py",
   "mimetype": "text/x-python",
   "name": "python",
   "nbconvert_exporter": "python",
   "pygments_lexer": "ipython3",
   "version": "3.10.13"
  }
 },
 "nbformat": 4,
 "nbformat_minor": 5
}
