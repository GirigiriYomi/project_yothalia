{
 "cells": [
  {
   "cell_type": "code",
   "execution_count": 1,
   "id": "fcdc6f6b",
   "metadata": {},
   "outputs": [],
   "source": [
    "import edge_tts\n",
    "import asyncio"
   ]
  },
  {
   "cell_type": "code",
   "execution_count": null,
   "id": "2094843c",
   "metadata": {},
   "outputs": [],
   "source": [
    "TEXT = \"你们好呀，我是一个蠢货ai\"\n",
    "voice = 'zh-CN-YunxiNeural'\n",
    "output = '4.mp3'\n",
    "rate = '-4%'\n",
    "volume = '+0%'"
   ]
  },
  {
   "cell_type": "code",
   "execution_count": null,
   "id": "ad81b553",
   "metadata": {},
   "outputs": [],
   "source": [
    "async def my_function():\n",
    "    tts = edge_tts.Communicate(text = TEXT,voice = voice,rate = rate,volume=volume)\n",
    "    await tts.save(output)"
   ]
  },
  {
   "cell_type": "code",
   "execution_count": null,
   "id": "397e143e",
   "metadata": {},
   "outputs": [],
   "source": [
    "    asyncio.run(my_function())"
   ]
  },
  {
   "cell_type": "code",
   "execution_count": null,
   "id": "2730a3bc",
   "metadata": {},
   "outputs": [],
   "source": []
  },
  {
   "cell_type": "code",
   "execution_count": null,
   "id": "4076ce18",
   "metadata": {},
   "outputs": [],
   "source": []
  },
  {
   "cell_type": "code",
   "execution_count": null,
   "id": "27d87e2e",
   "metadata": {},
   "outputs": [],
   "source": []
  },
  {
   "cell_type": "code",
   "execution_count": null,
   "id": "e2136b00",
   "metadata": {},
   "outputs": [],
   "source": []
  },
  {
   "cell_type": "code",
   "execution_count": null,
   "id": "0f4298f7",
   "metadata": {},
   "outputs": [],
   "source": []
  },
  {
   "cell_type": "code",
   "execution_count": null,
   "id": "19c0b718",
   "metadata": {},
   "outputs": [],
   "source": []
  }
 ],
 "metadata": {
  "kernelspec": {
   "display_name": "yothalia",
   "language": "python",
   "name": "yothalia"
  },
  "language_info": {
   "codemirror_mode": {
    "name": "ipython",
    "version": 3
   },
   "file_extension": ".py",
   "mimetype": "text/x-python",
   "name": "python",
   "nbconvert_exporter": "python",
   "pygments_lexer": "ipython3",
   "version": "3.10.13"
  }
 },
 "nbformat": 4,
 "nbformat_minor": 5
}
