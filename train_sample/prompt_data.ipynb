{
 "cells": [
  {
   "cell_type": "code",
   "execution_count": 1,
   "id": "1f88f0d4",
   "metadata": {},
   "outputs": [],
   "source": [
    "import pandas as pd\n",
    "import os"
   ]
  },
  {
   "cell_type": "code",
   "execution_count": 2,
   "id": "b1b3630c",
   "metadata": {},
   "outputs": [],
   "source": [
    "directory_path = './csv'"
   ]
  },
  {
   "cell_type": "code",
   "execution_count": 3,
   "id": "49cb242b",
   "metadata": {},
   "outputs": [],
   "source": [
    "df = pd.DataFrame({'instruction':[],'user':[],'assisstant':[]})"
   ]
  },
  {
   "cell_type": "code",
   "execution_count": 4,
   "id": "399c992e",
   "metadata": {},
   "outputs": [],
   "source": [
    "# Iterate through each file in the directory\n",
    "for filename in os.listdir(directory_path):\n",
    "    # don't count train.csv in as it's already final version\n",
    "    if filename=='train.csv':\n",
    "        continue\n",
    "    if filename.endswith('.csv'):\n",
    "        file_path = os.path.join(directory_path, filename)\n",
    "        \n",
    "        # Read the CSV file\n",
    "        df = pd.concat([df,pd.read_csv(file_path,index_col=False)])"
   ]
  },
  {
   "cell_type": "markdown",
   "id": "adfdae65",
   "metadata": {},
   "source": [
    "## Prompt All Columns"
   ]
  },
  {
   "cell_type": "code",
   "execution_count": 5,
   "id": "4afaabb9",
   "metadata": {},
   "outputs": [],
   "source": [
    "df.drop(columns=['Unnamed: 0'],inplace=True)"
   ]
  },
  {
   "cell_type": "code",
   "execution_count": 6,
   "id": "c6eef4ff",
   "metadata": {},
   "outputs": [
    {
     "data": {
      "text/html": [
       "<div>\n",
       "<style scoped>\n",
       "    .dataframe tbody tr th:only-of-type {\n",
       "        vertical-align: middle;\n",
       "    }\n",
       "\n",
       "    .dataframe tbody tr th {\n",
       "        vertical-align: top;\n",
       "    }\n",
       "\n",
       "    .dataframe thead th {\n",
       "        text-align: right;\n",
       "    }\n",
       "</style>\n",
       "<table border=\"1\" class=\"dataframe\">\n",
       "  <thead>\n",
       "    <tr style=\"text-align: right;\">\n",
       "      <th></th>\n",
       "      <th>instruction</th>\n",
       "      <th>user</th>\n",
       "      <th>assisstant</th>\n",
       "    </tr>\n",
       "  </thead>\n",
       "  <tbody>\n",
       "    <tr>\n",
       "      <th>0</th>\n",
       "      <td>Imagine you are a time-traveling historian</td>\n",
       "      <td>Describe the key differences in daily life be...</td>\n",
       "      <td>1. Technology: In the 1920s, technologies such...</td>\n",
       "    </tr>\n",
       "    <tr>\n",
       "      <th>1</th>\n",
       "      <td>You are a time-traveling detective solving a ...</td>\n",
       "      <td>What clues do you gather about the suspect?Th...</td>\n",
       "      <td>After examining the crime scene, I gather the ...</td>\n",
       "    </tr>\n",
       "    <tr>\n",
       "      <th>2</th>\n",
       "      <td>Imagine you are a detective trying to solve a...</td>\n",
       "      <td>Could you provide an overview of your finding...</td>\n",
       "      <td>Based on my investigation, the stolen artwork ...</td>\n",
       "    </tr>\n",
       "    <tr>\n",
       "      <th>3</th>\n",
       "      <td>You are a renowned linguist</td>\n",
       "      <td>Explain the role of phonetics and phonology i...</td>\n",
       "      <td>Phonetics and phonology are subfields of lingu...</td>\n",
       "    </tr>\n",
       "    <tr>\n",
       "      <th>4</th>\n",
       "      <td>You are Galileo, defending your heliocentric ...</td>\n",
       "      <td>How would you present evidence to support you...</td>\n",
       "      <td>Your Eminences, I humbly present observational...</td>\n",
       "    </tr>\n",
       "    <tr>\n",
       "      <th>...</th>\n",
       "      <td>...</td>\n",
       "      <td>...</td>\n",
       "      <td>...</td>\n",
       "    </tr>\n",
       "    <tr>\n",
       "      <th>9503</th>\n",
       "      <td>苏纳是高中文学俱乐部的成员，她既活泼又热情</td>\n",
       "      <td>苏纳:*今天是你第一天上高中，休息时间你在校园里闲晃，你遇到一个学姐向你搭话*嗨!你是高一的...</td>\n",
       "      <td>太好了，欢迎加入！我们每周会有一次例会，讨论书籍、分享文章，有时候还会举办写作比赛。下次活动...</td>\n",
       "    </tr>\n",
       "    <tr>\n",
       "      <th>9504</th>\n",
       "      <td>苏纳是高中文学俱乐部的成员，她既活泼又热情</td>\n",
       "      <td>苏纳:*今天是你第一天上高中，休息时间你在校园里闲晃，你遇到一个学姐向你搭话*嗨!你是高一的...</td>\n",
       "      <td>别担心，每个人一开始都可能会有些不自信。文学俱乐部就是一个互相支持的地方，我们会一起成长。而...</td>\n",
       "    </tr>\n",
       "    <tr>\n",
       "      <th>9505</th>\n",
       "      <td>苏纳是高中文学俱乐部的成员，她既活泼又热情</td>\n",
       "      <td>苏纳:*今天是你第一天上高中，休息时间你在校园里闲晃，你遇到一个学姐向你搭话*嗨!你是高一的...</td>\n",
       "      <td>没问题的，李宇！我们会一起努力的。而且在俱乐部里，你不仅能提升写作，还能交到很多志同道合的朋友呢。</td>\n",
       "    </tr>\n",
       "    <tr>\n",
       "      <th>9506</th>\n",
       "      <td>苏纳是高中文学俱乐部的成员，她既活泼又热情</td>\n",
       "      <td>苏纳:*今天是你第一天上高中，休息时间你在校园里闲晃，你遇到一个学姐向你搭话*嗨!你是高一的...</td>\n",
       "      <td>太好了，李宇！我们这个星期五见，到时候带着你的热情和好奇心来，一起享受文学的美妙之处吧！</td>\n",
       "    </tr>\n",
       "    <tr>\n",
       "      <th>9507</th>\n",
       "      <td>苏纳是高中文学俱乐部的成员，她既活泼又热情</td>\n",
       "      <td>苏纳:*今天是你第一天上高中，休息时间你在校园里闲晃，你遇到一个学姐向你搭话*嗨!你是高一的...</td>\n",
       "      <td>不客气，李宇！我们周五见，期待与你一同开展这段文学之旅！</td>\n",
       "    </tr>\n",
       "  </tbody>\n",
       "</table>\n",
       "<p>20022 rows × 3 columns</p>\n",
       "</div>"
      ],
      "text/plain": [
       "                                            instruction  \\\n",
       "0            Imagine you are a time-traveling historian   \n",
       "1      You are a time-traveling detective solving a ...   \n",
       "2      Imagine you are a detective trying to solve a...   \n",
       "3                           You are a renowned linguist   \n",
       "4      You are Galileo, defending your heliocentric ...   \n",
       "...                                                 ...   \n",
       "9503                              苏纳是高中文学俱乐部的成员，她既活泼又热情   \n",
       "9504                              苏纳是高中文学俱乐部的成员，她既活泼又热情   \n",
       "9505                              苏纳是高中文学俱乐部的成员，她既活泼又热情   \n",
       "9506                              苏纳是高中文学俱乐部的成员，她既活泼又热情   \n",
       "9507                              苏纳是高中文学俱乐部的成员，她既活泼又热情   \n",
       "\n",
       "                                                   user  \\\n",
       "0      Describe the key differences in daily life be...   \n",
       "1      What clues do you gather about the suspect?Th...   \n",
       "2      Could you provide an overview of your finding...   \n",
       "3      Explain the role of phonetics and phonology i...   \n",
       "4      How would you present evidence to support you...   \n",
       "...                                                 ...   \n",
       "9503  苏纳:*今天是你第一天上高中，休息时间你在校园里闲晃，你遇到一个学姐向你搭话*嗨!你是高一的...   \n",
       "9504  苏纳:*今天是你第一天上高中，休息时间你在校园里闲晃，你遇到一个学姐向你搭话*嗨!你是高一的...   \n",
       "9505  苏纳:*今天是你第一天上高中，休息时间你在校园里闲晃，你遇到一个学姐向你搭话*嗨!你是高一的...   \n",
       "9506  苏纳:*今天是你第一天上高中，休息时间你在校园里闲晃，你遇到一个学姐向你搭话*嗨!你是高一的...   \n",
       "9507  苏纳:*今天是你第一天上高中，休息时间你在校园里闲晃，你遇到一个学姐向你搭话*嗨!你是高一的...   \n",
       "\n",
       "                                             assisstant  \n",
       "0     1. Technology: In the 1920s, technologies such...  \n",
       "1     After examining the crime scene, I gather the ...  \n",
       "2     Based on my investigation, the stolen artwork ...  \n",
       "3     Phonetics and phonology are subfields of lingu...  \n",
       "4     Your Eminences, I humbly present observational...  \n",
       "...                                                 ...  \n",
       "9503  太好了，欢迎加入！我们每周会有一次例会，讨论书籍、分享文章，有时候还会举办写作比赛。下次活动...  \n",
       "9504  别担心，每个人一开始都可能会有些不自信。文学俱乐部就是一个互相支持的地方，我们会一起成长。而...  \n",
       "9505  没问题的，李宇！我们会一起努力的。而且在俱乐部里，你不仅能提升写作，还能交到很多志同道合的朋友呢。  \n",
       "9506       太好了，李宇！我们这个星期五见，到时候带着你的热情和好奇心来，一起享受文学的美妙之处吧！  \n",
       "9507                       不客气，李宇！我们周五见，期待与你一同开展这段文学之旅！  \n",
       "\n",
       "[20022 rows x 3 columns]"
      ]
     },
     "execution_count": 6,
     "metadata": {},
     "output_type": "execute_result"
    }
   ],
   "source": [
    "df"
   ]
  },
  {
   "cell_type": "code",
   "execution_count": 7,
   "id": "21b5c9e9",
   "metadata": {},
   "outputs": [],
   "source": [
    "prompt_template = \"\"\"<s>[INST]<<SYS>>\n",
    "{instruction}<</SYS>>\n",
    "{user}[/INST]\n",
    "{assisstant}</s>\n",
    "\"\"\""
   ]
  },
  {
   "cell_type": "code",
   "execution_count": 8,
   "id": "2b7e0f79",
   "metadata": {},
   "outputs": [],
   "source": [
    "formatted_data = pd.DataFrame({'train':[]})"
   ]
  },
  {
   "cell_type": "code",
   "execution_count": 9,
   "id": "049f808c",
   "metadata": {},
   "outputs": [],
   "source": [
    "formatted_data['train'] = df.apply(lambda row: prompt_template.format(instruction=row['instruction'], \n",
    "                                                             user=row['user'], \n",
    "                                                             assisstant=row['assisstant']), axis=1)"
   ]
  },
  {
   "cell_type": "code",
   "execution_count": 10,
   "id": "643d37d4",
   "metadata": {},
   "outputs": [
    {
     "data": {
      "text/html": [
       "<div>\n",
       "<style scoped>\n",
       "    .dataframe tbody tr th:only-of-type {\n",
       "        vertical-align: middle;\n",
       "    }\n",
       "\n",
       "    .dataframe tbody tr th {\n",
       "        vertical-align: top;\n",
       "    }\n",
       "\n",
       "    .dataframe thead th {\n",
       "        text-align: right;\n",
       "    }\n",
       "</style>\n",
       "<table border=\"1\" class=\"dataframe\">\n",
       "  <thead>\n",
       "    <tr style=\"text-align: right;\">\n",
       "      <th></th>\n",
       "      <th>train</th>\n",
       "    </tr>\n",
       "  </thead>\n",
       "  <tbody>\n",
       "    <tr>\n",
       "      <th>0</th>\n",
       "      <td>&lt;s&gt;[INST]&lt;&lt;SYS&gt;&gt;\\n Imagine you are a time-trav...</td>\n",
       "    </tr>\n",
       "    <tr>\n",
       "      <th>1</th>\n",
       "      <td>&lt;s&gt;[INST]&lt;&lt;SYS&gt;&gt;\\n You are a time-traveling de...</td>\n",
       "    </tr>\n",
       "    <tr>\n",
       "      <th>2</th>\n",
       "      <td>&lt;s&gt;[INST]&lt;&lt;SYS&gt;&gt;\\n Imagine you are a detective...</td>\n",
       "    </tr>\n",
       "    <tr>\n",
       "      <th>3</th>\n",
       "      <td>&lt;s&gt;[INST]&lt;&lt;SYS&gt;&gt;\\n You are a renowned linguist...</td>\n",
       "    </tr>\n",
       "    <tr>\n",
       "      <th>4</th>\n",
       "      <td>&lt;s&gt;[INST]&lt;&lt;SYS&gt;&gt;\\n You are Galileo, defending ...</td>\n",
       "    </tr>\n",
       "    <tr>\n",
       "      <th>...</th>\n",
       "      <td>...</td>\n",
       "    </tr>\n",
       "    <tr>\n",
       "      <th>9503</th>\n",
       "      <td>&lt;s&gt;[INST]&lt;&lt;SYS&gt;&gt;\\n苏纳是高中文学俱乐部的成员，她既活泼又热情&lt;&lt;/SYS&gt;...</td>\n",
       "    </tr>\n",
       "    <tr>\n",
       "      <th>9504</th>\n",
       "      <td>&lt;s&gt;[INST]&lt;&lt;SYS&gt;&gt;\\n苏纳是高中文学俱乐部的成员，她既活泼又热情&lt;&lt;/SYS&gt;...</td>\n",
       "    </tr>\n",
       "    <tr>\n",
       "      <th>9505</th>\n",
       "      <td>&lt;s&gt;[INST]&lt;&lt;SYS&gt;&gt;\\n苏纳是高中文学俱乐部的成员，她既活泼又热情&lt;&lt;/SYS&gt;...</td>\n",
       "    </tr>\n",
       "    <tr>\n",
       "      <th>9506</th>\n",
       "      <td>&lt;s&gt;[INST]&lt;&lt;SYS&gt;&gt;\\n苏纳是高中文学俱乐部的成员，她既活泼又热情&lt;&lt;/SYS&gt;...</td>\n",
       "    </tr>\n",
       "    <tr>\n",
       "      <th>9507</th>\n",
       "      <td>&lt;s&gt;[INST]&lt;&lt;SYS&gt;&gt;\\n苏纳是高中文学俱乐部的成员，她既活泼又热情&lt;&lt;/SYS&gt;...</td>\n",
       "    </tr>\n",
       "  </tbody>\n",
       "</table>\n",
       "<p>20022 rows × 1 columns</p>\n",
       "</div>"
      ],
      "text/plain": [
       "                                                  train\n",
       "0     <s>[INST]<<SYS>>\\n Imagine you are a time-trav...\n",
       "1     <s>[INST]<<SYS>>\\n You are a time-traveling de...\n",
       "2     <s>[INST]<<SYS>>\\n Imagine you are a detective...\n",
       "3     <s>[INST]<<SYS>>\\n You are a renowned linguist...\n",
       "4     <s>[INST]<<SYS>>\\n You are Galileo, defending ...\n",
       "...                                                 ...\n",
       "9503  <s>[INST]<<SYS>>\\n苏纳是高中文学俱乐部的成员，她既活泼又热情<</SYS>...\n",
       "9504  <s>[INST]<<SYS>>\\n苏纳是高中文学俱乐部的成员，她既活泼又热情<</SYS>...\n",
       "9505  <s>[INST]<<SYS>>\\n苏纳是高中文学俱乐部的成员，她既活泼又热情<</SYS>...\n",
       "9506  <s>[INST]<<SYS>>\\n苏纳是高中文学俱乐部的成员，她既活泼又热情<</SYS>...\n",
       "9507  <s>[INST]<<SYS>>\\n苏纳是高中文学俱乐部的成员，她既活泼又热情<</SYS>...\n",
       "\n",
       "[20022 rows x 1 columns]"
      ]
     },
     "execution_count": 10,
     "metadata": {},
     "output_type": "execute_result"
    }
   ],
   "source": [
    "formatted_data"
   ]
  },
  {
   "cell_type": "code",
   "execution_count": 11,
   "id": "abeb3911",
   "metadata": {},
   "outputs": [],
   "source": [
    "formatted_data.to_csv('./csv/train.csv')"
   ]
  },
  {
   "cell_type": "code",
   "execution_count": null,
   "id": "767a4c30",
   "metadata": {},
   "outputs": [],
   "source": []
  },
  {
   "cell_type": "code",
   "execution_count": null,
   "id": "113569ff",
   "metadata": {},
   "outputs": [],
   "source": []
  },
  {
   "cell_type": "code",
   "execution_count": null,
   "id": "8fc2bd6e",
   "metadata": {},
   "outputs": [],
   "source": []
  },
  {
   "cell_type": "code",
   "execution_count": null,
   "id": "f6fa976c",
   "metadata": {},
   "outputs": [],
   "source": []
  },
  {
   "cell_type": "code",
   "execution_count": null,
   "id": "f441ab79",
   "metadata": {},
   "outputs": [],
   "source": []
  },
  {
   "cell_type": "code",
   "execution_count": null,
   "id": "51c98915",
   "metadata": {},
   "outputs": [],
   "source": []
  },
  {
   "cell_type": "code",
   "execution_count": null,
   "id": "74e3ccba",
   "metadata": {},
   "outputs": [],
   "source": []
  }
 ],
 "metadata": {
  "kernelspec": {
   "display_name": "yothalia",
   "language": "python",
   "name": "yothalia"
  },
  "language_info": {
   "codemirror_mode": {
    "name": "ipython",
    "version": 3
   },
   "file_extension": ".py",
   "mimetype": "text/x-python",
   "name": "python",
   "nbconvert_exporter": "python",
   "pygments_lexer": "ipython3",
   "version": "3.10.13"
  }
 },
 "nbformat": 4,
 "nbformat_minor": 5
}
