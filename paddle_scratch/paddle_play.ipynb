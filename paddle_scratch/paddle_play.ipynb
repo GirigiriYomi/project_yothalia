{
 "cells": [
  {
   "cell_type": "code",
   "execution_count": 1,
   "id": "b9e7408a",
   "metadata": {
    "scrolled": true
   },
   "outputs": [
    {
     "name": "stderr",
     "output_type": "stream",
     "text": [
      "C:\\Users\\91591\\AppData\\Roaming\\Python\\Python310\\site-packages\\paddleaudio\\_extension.py:141: UserWarning: paddleaudio C++ extension is not available.\n",
      "  warnings.warn(\"paddleaudio C++ extension is not available.\")\n"
     ]
    }
   ],
   "source": [
    "from paddlespeech.server.engine.asr.python.asr_engine import ASREngine, PaddleASRConnectionHandler\n",
    "\n",
    "from paddlespeech.cli.asr.infer import ASRExecutor\n",
    "import pyaudio, wave\n",
    "import numpy as np\n",
    "import speech_recognition as sr\n",
    "import io\n",
    "import time\n",
    "\n",
    "import warnings\n",
    "warnings.filterwarnings(\"ignore\")"
   ]
  },
  {
   "cell_type": "code",
   "execution_count": 16,
   "id": "e35ad20f",
   "metadata": {},
   "outputs": [],
   "source": [
    "import threading\n",
    "import queue\n",
    "\n",
    "class mic_thread(threading.Thread):\n",
    "    threads = []\n",
    "    id = 0\n",
    "    thread_lock = threading.Lock()\n",
    "    mic_queue = queue.Queue(10)\n",
    "    \n",
    "    def __init__(self, name, source):\n",
    "        threading.Thread.__init__(self)\n",
    "        self.name = name\n",
    "        self.source = source\n",
    "        self.stop = False\n",
    "        \n",
    "        self.id = mic_thread.id\n",
    "        mic_thread.id = mic_thread.id+1\n",
    "        \n",
    "        mic_thread.threads.append(self)\n",
    "        \n",
    "    def run(self):\n",
    "        with mic as source:\n",
    "            # r.energy_threshold = 8000 # This filters noise\n",
    "            r.dynamic_energy_threshold = False\n",
    "            r.adjust_for_ambient_noise(source,2)\n",
    "            \n",
    "            r.pause_threshold = 1.5\n",
    "            print(\"Start talk..\")\n",
    "            while not self.stop:\n",
    "                print(\"Listening..\")\n",
    "                try:\n",
    "                    audio = r.listen(source,timeout=10) # no talk within 2 sec, re-loop\n",
    "                except sr.exceptions.WaitTimeoutError:\n",
    "                    continue\n",
    "                        \n",
    "                print(\"Done lisening\")\n",
    "                wav_data = audio.get_wav_data(convert_rate = 16000)\n",
    "                \n",
    "                mic_thread.thread_lock.acquire()\n",
    "                mic_thread.mic_queue.put(io.BytesIO(wav_data))\n",
    "                mic_thread.thread_lock.release()\n",
    "                \n",
    "    def terminate(self):\n",
    "        self.stop = True\n",
    "        \n",
    "                "
   ]
  },
  {
   "cell_type": "code",
   "execution_count": 17,
   "id": "e12693ee",
   "metadata": {},
   "outputs": [],
   "source": [
    "class crASR:\n",
    "\n",
    "    def __init__(self):\n",
    "        # 创建对象参数\n",
    "        class _conf:\n",
    "            def __init__(self, **kwargs):\n",
    "                for key in kwargs:\n",
    "                    setattr(self, key, kwargs[key])\n",
    "        # 初始化ASR\n",
    "        self.asr = ASREngine()\n",
    "        # 以指定参数方式生成对象并初始化ASR\n",
    "        self.asr.init(_conf(\n",
    "            model='conformer_wenetspeech',\n",
    "            lang='zh', # zh_en en zh\n",
    "            sample_rate=16000,\n",
    "            cfg_path=None,  # 自定义配置文件路径(可选)\n",
    "            ckpt_path=None,  # 自定义模型文件路径(可选)\n",
    "            decode_method='attention_rescoring',\n",
    "            force_yes=True,\n",
    "            device=None))\n",
    "        self.asr_handle = PaddleASRConnectionHandler(self.asr)\n",
    "\n",
    "    def predict(self, wavData):\n",
    "        \"\"\"\n",
    "        ASR预测\n",
    "        :param wavData: 需要预测的音频，会根据传入类型自动识别：路径(str 相对|绝对)、音频流、内存BytesIO对象\n",
    "        :return:\n",
    "        \"\"\"\n",
    "        if type(wavData) == str:\n",
    "            wavData = filesystem_get_contents(wavData, 'rb')\n",
    "        elif type(wavData) == io.BytesIO:\n",
    "            wavData = wavData.getvalue()\n",
    "\n",
    "        start = time.time()\n",
    "        self.asr_handle.run(wavData)\n",
    "        text = self.asr_handle.output\n",
    "        print(\"ASR预测消耗时间：%dms, 识别结果: %s\" % (round((time.time() - start) * 1000), text))\n",
    "        return text"
   ]
  },
  {
   "cell_type": "code",
   "execution_count": 18,
   "id": "29a725de",
   "metadata": {
    "scrolled": true
   },
   "outputs": [
    {
     "data": {
      "text/plain": [
       "['Microsoft Sound Mapper - Input',\n",
       " 'Microphone (JOUNIVO JV601)',\n",
       " '麦克风 (Dubbing Virtual Device)',\n",
       " 'Microphone (WEB CAM)',\n",
       " 'Headset Microphone (Oculus Virt',\n",
       " 'Microsoft Sound Mapper - Output',\n",
       " '扬声器 (Realtek High Definition Au',\n",
       " 'Realtek Digital Output (Realtek',\n",
       " '扬声器 (Dubbing Virtual Device)',\n",
       " 'R240HY (NVIDIA High Definition ',\n",
       " '鑰虫満 (Oculus Virtual Audio Device',\n",
       " '主声音捕获驱动程序',\n",
       " 'Microphone (JOUNIVO JV601)',\n",
       " '麦克风 (Dubbing Virtual Device)',\n",
       " 'Microphone (WEB CAM)',\n",
       " 'Headset Microphone (Oculus Virtual Audio Device)',\n",
       " '主声音驱动程序',\n",
       " '扬声器 (Realtek High Definition Audio)',\n",
       " 'Realtek Digital Output (Realtek High Definition Audio)',\n",
       " '扬声器 (Dubbing Virtual Device)',\n",
       " 'R240HY (NVIDIA High Definition Audio)',\n",
       " '鑰虫満 (Oculus Virtual Audio Device)',\n",
       " 'Realtek Digital Output (Realtek High Definition Audio)',\n",
       " '扬声器 (Realtek High Definition Audio)',\n",
       " '扬声器 (Dubbing Virtual Device)',\n",
       " 'R240HY (NVIDIA High Definition Audio)',\n",
       " '鑰虫満 (Oculus Virtual Audio Device)',\n",
       " '麦克风 (Dubbing Virtual Device)',\n",
       " 'Microphone (WEB CAM)',\n",
       " 'Headset Microphone (Oculus Virtual Audio Device)',\n",
       " 'Microphone (JOUNIVO JV601)',\n",
       " '鑰虫満 ()',\n",
       " 'Output 1 (OCULUSVAD Wave Speaker Headphone)',\n",
       " 'Output 2 (OCULUSVAD Wave Speaker Headphone)',\n",
       " 'Input (OCULUSVAD Wave Speaker Headphone)',\n",
       " 'Headset Microphone (OCULUSVAD Wave Microphone Headphone)',\n",
       " 'Speakers (Realtek HD Audio output)',\n",
       " '麦克风 (Realtek HD Audio Mic input)',\n",
       " 'SPDIF Out (Realtek HDA SPDIF Out)',\n",
       " '立体声混音 (Realtek HD Audio Stereo input)',\n",
       " '绾胯矾杈撳叆 (Realtek HD Audio Line input)',\n",
       " '麦克风 ()',\n",
       " 'Speakers ()',\n",
       " 'Output (NVIDIA High Definition Audio)',\n",
       " '鑰虫満 (@System32\\\\drivers\\\\bthhfenum.sys,#2;%1 Hands-Free AG Audio%0\\r\\n;(WH-1000XM3))',\n",
       " '鑰虫満 (@System32\\\\drivers\\\\bthhfenum.sys,#2;%1 Hands-Free AG Audio%0\\r\\n;(WH-1000XM3))',\n",
       " '麦克风 (WEB CAM)',\n",
       " '麦克风 (JOUNIVO JV601)']"
      ]
     },
     "execution_count": 18,
     "metadata": {},
     "output_type": "execute_result"
    }
   ],
   "source": [
    "sr.Microphone.list_microphone_names()"
   ]
  },
  {
   "cell_type": "code",
   "execution_count": 19,
   "id": "6ebd1b18",
   "metadata": {},
   "outputs": [
    {
     "name": "stdout",
     "output_type": "stream",
     "text": [
      "\u001b[32m2023-10-18 21:07:53.172\u001b[0m | \u001b[1mINFO    \u001b[0m | \u001b[36mpaddlespeech.s2t.modules.embedding\u001b[0m:\u001b[36m__init__\u001b[0m:\u001b[36m153\u001b[0m - \u001b[1mmax len: 5000\u001b[0m\n"
     ]
    },
    {
     "name": "stderr",
     "output_type": "stream",
     "text": [
      "[2023-10-18 21:07:55,024] [    INFO] - Initialize ASR server engine successfully on device: gpu:0.\n"
     ]
    }
   ],
   "source": [
    "asr = crASR()\n",
    "r = sr.Recognizer()\n",
    "mic = sr.Microphone(device_index=1)"
   ]
  },
  {
   "cell_type": "code",
   "execution_count": 20,
   "id": "17e677c9",
   "metadata": {},
   "outputs": [],
   "source": [
    "microphone = mic_thread(\"local mic\",mic)"
   ]
  },
  {
   "cell_type": "code",
   "execution_count": null,
   "id": "8a8bcd33",
   "metadata": {
    "scrolled": true
   },
   "outputs": [
    {
     "name": "stdout",
     "output_type": "stream",
     "text": [
      "Start talk..\n",
      "Listening..\n",
      "Done lisening\n",
      "Listening..\n"
     ]
    },
    {
     "name": "stderr",
     "output_type": "stream",
     "text": [
      "[2023-10-18 21:09:12,442] [    INFO] - inference time: 7.79109001159668\n",
      "[2023-10-18 21:09:12,443] [    INFO] - asr engine type: python\n"
     ]
    },
    {
     "name": "stdout",
     "output_type": "stream",
     "text": [
      "ASR预测消耗时间：7803ms, 识别结果: 我这麻\n",
      "我这麻\n",
      "Done lisening\n",
      "Listening..\n"
     ]
    },
    {
     "name": "stderr",
     "output_type": "stream",
     "text": [
      "[2023-10-18 21:09:18,959] [    INFO] - inference time: 0.7661876678466797\n",
      "[2023-10-18 21:09:18,960] [    INFO] - asr engine type: python\n"
     ]
    },
    {
     "name": "stdout",
     "output_type": "stream",
     "text": [
      "ASR预测消耗时间：774ms, 识别结果: 我我亲自晃甚至二次远你看看我识别识别出来了已经\n",
      "我我亲自晃甚至二次远你看看我识别识别出来了已经\n",
      "Done lisening\n",
      "Listening..\n"
     ]
    },
    {
     "name": "stderr",
     "output_type": "stream",
     "text": [
      "[2023-10-18 21:09:31,288] [    INFO] - inference time: 0.7067866325378418\n",
      "[2023-10-18 21:09:31,289] [    INFO] - asr engine type: python\n"
     ]
    },
    {
     "name": "stdout",
     "output_type": "stream",
     "text": [
      "ASR预测消耗时间：720ms, 识别结果: 你看这明显明显这个它不是商业的模型你知道吧所以它识别的效果它也非常拉垮\n",
      "你看这明显明显这个它不是商业的模型你知道吧所以它识别的效果它也非常拉垮\n",
      "Done lisening\n",
      "Listening..\n"
     ]
    },
    {
     "name": "stderr",
     "output_type": "stream",
     "text": [
      "[2023-10-18 21:09:52,595] [    INFO] - inference time: 1.2720177173614502\n",
      "[2023-10-18 21:09:52,596] [    INFO] - asr engine type: python\n"
     ]
    },
    {
     "name": "stdout",
     "output_type": "stream",
     "text": [
      "ASR预测消耗时间：1285ms, 识别结果: 就是他现在说的你看这句话识别得非常完美是为什么因为就是我说话他要是必须要一点一点慢慢地说就嚼字清晰咬文嚼得非常清晰我一旦说由像在他现在这样看他根本就识不出来\n",
      "就是他现在说的你看这句话识别得非常完美是为什么因为就是我说话他要是必须要一点一点慢慢地说就嚼字清晰咬文嚼得非常清晰我一旦说由像在他现在这样看他根本就识不出来\n",
      "Done lisening\n",
      "Listening..\n"
     ]
    },
    {
     "name": "stderr",
     "output_type": "stream",
     "text": [
      "[2023-10-18 21:10:04,703] [    INFO] - inference time: 0.3875916004180908\n",
      "[2023-10-18 21:10:04,704] [    INFO] - asr engine type: python\n"
     ]
    },
    {
     "name": "stdout",
     "output_type": "stream",
     "text": [
      "ASR预测消耗时间：397ms, 识别结果: 感觉像现在这样非常完美一点点咬文\n",
      "感觉像现在这样非常完美一点点咬文\n",
      "Done lisening\n",
      "Listening..\n"
     ]
    },
    {
     "name": "stderr",
     "output_type": "stream",
     "text": [
      "[2023-10-18 21:10:10,657] [    INFO] - inference time: 0.5341353416442871\n",
      "[2023-10-18 21:10:10,657] [    INFO] - asr engine type: python\n"
     ]
    },
    {
     "name": "stdout",
     "output_type": "stream",
     "text": [
      "ASR预测消耗时间：540ms, 识别结果: 但是还行有时候能四别转你知道吧有时候它就不行\n",
      "但是还行有时候能四别转你知道吧有时候它就不行\n",
      "Done lisening\n",
      "Listening..\n"
     ]
    },
    {
     "name": "stderr",
     "output_type": "stream",
     "text": [
      "[2023-10-18 21:10:14,309] [    INFO] - inference time: 0.27423882484436035\n",
      "[2023-10-18 21:10:14,310] [    INFO] - asr engine type: python\n"
     ]
    },
    {
     "name": "stdout",
     "output_type": "stream",
     "text": [
      "ASR预测消耗时间：281ms, 识别结果: 四点二\n",
      "四点二\n",
      "Done lisening\n",
      "Listening..\n"
     ]
    },
    {
     "name": "stderr",
     "output_type": "stream",
     "text": [
      "[2023-10-18 21:10:20,426] [    INFO] - inference time: 0.3666396141052246\n",
      "[2023-10-18 21:10:20,427] [    INFO] - asr engine type: python\n"
     ]
    },
    {
     "name": "stdout",
     "output_type": "stream",
     "text": [
      "ASR预测消耗时间：374ms, 识别结果: 那这这个这个\n",
      "那这这个这个\n",
      "Done lisening\n",
      "Listening..\n"
     ]
    },
    {
     "name": "stderr",
     "output_type": "stream",
     "text": [
      "[2023-10-18 21:10:28,666] [    INFO] - inference time: 0.660240650177002\n",
      "[2023-10-18 21:10:28,667] [    INFO] - asr engine type: python\n"
     ]
    },
    {
     "name": "stdout",
     "output_type": "stream",
     "text": [
      "ASR预测消耗时间：667ms, 识别结果: 但是说实话做的这个东西咱并不是本意这个东西其实是我探究\n",
      "但是说实话做的这个东西咱并不是本意这个东西其实是我探究\n",
      "Done lisening\n",
      "Listening..\n"
     ]
    },
    {
     "name": "stderr",
     "output_type": "stream",
     "text": [
      "[2023-10-18 21:10:32,222] [    INFO] - inference time: 0.41348695755004883\n",
      "[2023-10-18 21:10:32,223] [    INFO] - asr engine type: python\n"
     ]
    },
    {
     "name": "stdout",
     "output_type": "stream",
     "text": [
      "ASR预测消耗时间：420ms, 识别结果: 一个是探牛三就是这个云石\n",
      "一个是探牛三就是这个云石\n",
      "Done lisening\n",
      "Listening..\n"
     ]
    },
    {
     "name": "stderr",
     "output_type": "stream",
     "text": [
      "[2023-10-18 21:10:35,310] [    INFO] - inference time: 0.37382078170776367\n",
      "[2023-10-18 21:10:35,311] [    INFO] - asr engine type: python\n"
     ]
    },
    {
     "name": "stdout",
     "output_type": "stream",
     "text": [
      "ASR预测消耗时间：381ms, 识别结果: 另一个是什么我想探究\n",
      "另一个是什么我想探究\n",
      "Done lisening\n",
      "Listening..\n"
     ]
    },
    {
     "name": "stderr",
     "output_type": "stream",
     "text": [
      "[2023-10-18 21:10:43,491] [    INFO] - inference time: 0.8168377876281738\n",
      "[2023-10-18 21:10:43,493] [    INFO] - asr engine type: python\n"
     ]
    },
    {
     "name": "stdout",
     "output_type": "stream",
     "text": [
      "ASR预测消耗时间：826ms, 识别结果: 麦克风就这个麦克风你没发现我现在说话我自动说的时候还要自动录然后我停的时候它就停了\n",
      "麦克风就这个麦克风你没发现我现在说话我自动说的时候还要自动录然后我停的时候它就停了\n",
      "Done lisening\n",
      "Listening..\n"
     ]
    },
    {
     "name": "stderr",
     "output_type": "stream",
     "text": [
      "[2023-10-18 21:10:51,888] [    INFO] - inference time: 0.7037959098815918\n",
      "[2023-10-18 21:10:51,889] [    INFO] - asr engine type: python\n"
     ]
    },
    {
     "name": "stdout",
     "output_type": "stream",
     "text": [
      "ASR预测消耗时间：718ms, 识别结果: 对它是这个自动断句看这个自动断句才是我真正在研究的一个东西这个东西\n",
      "对它是这个自动断句看这个自动断句才是我真正在研究的一个东西这个东西\n",
      "Done lisening\n",
      "Listening..\n"
     ]
    },
    {
     "name": "stderr",
     "output_type": "stream",
     "text": [
      "[2023-10-18 21:11:03,061] [    INFO] - inference time: 0.8931350708007812\n",
      "[2023-10-18 21:11:03,062] [    INFO] - asr engine type: python\n"
     ]
    },
    {
     "name": "stdout",
     "output_type": "stream",
     "text": [
      "ASR预测消耗时间：902ms, 识别结果: 然后现在这个自动端就研究出来了没有问题然后主要就是它这个模型本地模型识别这个效果不是很好直接到时候画模型就行了\n",
      "然后现在这个自动端就研究出来了没有问题然后主要就是它这个模型本地模型识别这个效果不是很好直接到时候画模型就行了\n",
      "Done lisening\n",
      "Listening..\n"
     ]
    },
    {
     "name": "stderr",
     "output_type": "stream",
     "text": [
      "[2023-10-18 21:11:18,691] [    INFO] - inference time: 1.2358720302581787\n",
      "[2023-10-18 21:11:18,692] [    INFO] - asr engine type: python\n"
     ]
    },
    {
     "name": "stdout",
     "output_type": "stream",
     "text": [
      "ASR预测消耗时间：1248ms, 识别结果: 刚才你抱错刚才咱这跑这个东西它不是抱错了抱错就是因为我一开始我一直在换那个第二就QB是那个模型但然但是跑不动然后当时一卡抱错然后我当时好忙干别的事然后\n",
      "刚才你抱错刚才咱这跑这个东西它不是抱错了抱错就是因为我一开始我一直在换那个第二就QB是那个模型但然但是跑不动然后当时一卡抱错然后我当时好忙干别的事然后\n",
      "Done lisening\n",
      "Listening..\n"
     ]
    },
    {
     "name": "stderr",
     "output_type": "stream",
     "text": [
      "[2023-10-18 21:11:29,246] [    INFO] - inference time: 0.6928887367248535\n",
      "[2023-10-18 21:11:29,247] [    INFO] - asr engine type: python\n"
     ]
    },
    {
     "name": "stdout",
     "output_type": "stream",
     "text": [
      "ASR预测消耗时间：701ms, 识别结果: 然后看这个音缝太你看印夫太其实只需要一秒不到大多数看这也就一十二秒\n",
      "然后看这个音缝太你看印夫太其实只需要一秒不到大多数看这也就一十二秒\n",
      "Done lisening\n",
      "Listening..\n"
     ]
    },
    {
     "name": "stderr",
     "output_type": "stream",
     "text": [
      "[2023-10-18 21:11:40,301] [    INFO] - inference time: 0.708371639251709\n",
      "[2023-10-18 21:11:40,302] [    INFO] - asr engine type: python\n"
     ]
    },
    {
     "name": "stdout",
     "output_type": "stream",
     "text": [
      "ASR预测消耗时间：731ms, 识别结果: 所以不要怕这个这个速度就我现在是二零八零八零的速度你放到四零九十让它其实更快一分\n",
      "所以不要怕这个这个速度就我现在是二零八零八零的速度你放到四零九十让它其实更快一分\n",
      "Done lisening\n",
      "Listening..\n"
     ]
    },
    {
     "name": "stderr",
     "output_type": "stream",
     "text": [
      "[2023-10-18 21:11:49,266] [    INFO] - inference time: 0.734717607498169\n",
      "[2023-10-18 21:11:49,267] [    INFO] - asr engine type: python\n"
     ]
    },
    {
     "name": "stdout",
     "output_type": "stream",
     "text": [
      "ASR预测消耗时间：742ms, 识别结果: 然后但是你就算他再殷夫人对刚刚看那个数据就看好玩了看第一次音夫人看了吗\n",
      "然后但是你就算他再殷夫人对刚刚看那个数据就看好玩了看第一次音夫人看了吗\n",
      "Done lisening\n",
      "Listening..\n"
     ]
    },
    {
     "name": "stderr",
     "output_type": "stream",
     "text": [
      "[2023-10-18 21:11:56,863] [    INFO] - inference time: 0.5620536804199219\n",
      "[2023-10-18 21:11:56,864] [    INFO] - asr engine type: python\n"
     ]
    },
    {
     "name": "stdout",
     "output_type": "stream",
     "text": [
      "ASR预测消耗时间：569ms, 识别结果: 这是第一次因弗人斯是非常非常长的但第二次你看马上\n",
      "这是第一次因弗人斯是非常非常长的但第二次你看马上\n",
      "Done lisening\n",
      "Listening..\n"
     ]
    },
    {
     "name": "stderr",
     "output_type": "stream",
     "text": [
      "[2023-10-18 21:12:09,354] [    INFO] - inference time: 0.7769255638122559\n",
      "[2023-10-18 21:12:09,354] [    INFO] - asr engine type: python\n"
     ]
    },
    {
     "name": "stdout",
     "output_type": "stream",
     "text": [
      "ASR预测消耗时间：787ms, 识别结果: 所以第一次衣服可能跟它这个结构的问题就跟它结构有关系你知道吧它这个结构它就\n",
      "所以第一次衣服可能跟它这个结构的问题就跟它结构有关系你知道吧它这个结构它就\n",
      "Done lisening\n",
      "Listening..\n"
     ]
    },
    {
     "name": "stderr",
     "output_type": "stream",
     "text": [
      "[2023-10-18 21:12:21,228] [    INFO] - inference time: 0.9105825424194336\n",
      "[2023-10-18 21:12:21,229] [    INFO] - asr engine type: python\n"
     ]
    },
    {
     "name": "stdout",
     "output_type": "stream",
     "text": [
      "ASR预测消耗时间：919ms, 识别结果: 对对对就是这样她可能因夫人自己写了他妈一个夹载模型然后导致第一次跑的时候他才在现那个音坡而去\n",
      "对对对就是这样她可能因夫人自己写了他妈一个夹载模型然后导致第一次跑的时候他才在现那个音坡而去\n",
      "Done lisening\n",
      "Listening..\n"
     ]
    },
    {
     "name": "stderr",
     "output_type": "stream",
     "text": [
      "[2023-10-18 21:12:26,624] [    INFO] - inference time: 0.5378122329711914\n",
      "[2023-10-18 21:12:26,625] [    INFO] - asr engine type: python\n"
     ]
    },
    {
     "name": "stdout",
     "output_type": "stream",
     "text": [
      "ASR预测消耗时间：545ms, 识别结果: 或者是独内存的问题内存机制没有办法这个东西\n",
      "或者是独内存的问题内存机制没有办法这个东西\n",
      "Listening..\n",
      "Listening..\n",
      "Done lisening\n",
      "Listening..\n"
     ]
    },
    {
     "name": "stderr",
     "output_type": "stream",
     "text": [
      "[2023-10-18 21:12:52,263] [    INFO] - inference time: 0.5111808776855469\n",
      "[2023-10-18 21:12:52,263] [    INFO] - asr engine type: python\n"
     ]
    },
    {
     "name": "stdout",
     "output_type": "stream",
     "text": [
      "ASR预测消耗时间：518ms, 识别结果: 干妈我去照镜子等着\n",
      "干妈我去照镜子等着\n",
      "Done lisening\n",
      "Listening..\n"
     ]
    },
    {
     "name": "stderr",
     "output_type": "stream",
     "text": [
      "[2023-10-18 21:13:01,908] [    INFO] - inference time: 0.6568467617034912\n",
      "[2023-10-18 21:13:01,908] [    INFO] - asr engine type: python\n"
     ]
    },
    {
     "name": "stdout",
     "output_type": "stream",
     "text": [
      "ASR预测消耗时间：670ms, 识别结果: 干嘛我得照这个得了\n",
      "干嘛我得照这个得了\n",
      "Listening..\n",
      "Listening..\n",
      "Listening..\n",
      "Listening..\n",
      "Done lisening\n",
      "Listening..\n"
     ]
    },
    {
     "name": "stderr",
     "output_type": "stream",
     "text": [
      "[2023-10-18 21:13:55,389] [    INFO] - inference time: 0.3704099655151367\n",
      "[2023-10-18 21:13:55,390] [    INFO] - asr engine type: python\n"
     ]
    },
    {
     "name": "stdout",
     "output_type": "stream",
     "text": [
      "ASR预测消耗时间：386ms, 识别结果: 回来回来回来\n",
      "回来回来回来\n",
      "Done lisening\n",
      "Listening..\n"
     ]
    },
    {
     "name": "stderr",
     "output_type": "stream",
     "text": [
      "[2023-10-18 21:14:05,528] [    INFO] - inference time: 0.7106084823608398\n",
      "[2023-10-18 21:14:05,529] [    INFO] - asr engine type: python\n"
     ]
    },
    {
     "name": "stdout",
     "output_type": "stream",
     "text": [
      "ASR预测消耗时间：719ms, 识别结果: 你那没出什么事我操我刚才我刚才我这个右脸不知道怎么回事\n",
      "你那没出什么事我操我刚才我刚才我这个右脸不知道怎么回事\n",
      "Done lisening\n",
      "Listening..\n"
     ]
    },
    {
     "name": "stderr",
     "output_type": "stream",
     "text": [
      "[2023-10-18 21:14:11,690] [    INFO] - inference time: 0.5281016826629639\n",
      "[2023-10-18 21:14:11,691] [    INFO] - asr engine type: python\n"
     ]
    },
    {
     "name": "stdout",
     "output_type": "stream",
     "text": [
      "ASR预测消耗时间：536ms, 识别结果: 抽筋的我说他骂得完脑溢血了赶紧照了我嘴歪演斜的\n",
      "抽筋的我说他骂得完脑溢血了赶紧照了我嘴歪演斜的\n",
      "Done lisening\n",
      "Listening..\n"
     ]
    },
    {
     "name": "stderr",
     "output_type": "stream",
     "text": [
      "[2023-10-18 21:14:16,947] [    INFO] - inference time: 0.3652231693267822\n",
      "[2023-10-18 21:14:16,948] [    INFO] - asr engine type: python\n"
     ]
    },
    {
     "name": "stdout",
     "output_type": "stream",
     "text": [
      "ASR预测消耗时间：375ms, 识别结果: 真事\n",
      "真事\n",
      "Done lisening\n",
      "Listening..\n"
     ]
    },
    {
     "name": "stderr",
     "output_type": "stream",
     "text": [
      "[2023-10-18 21:14:24,418] [    INFO] - inference time: 0.5354874134063721\n",
      "[2023-10-18 21:14:24,419] [    INFO] - asr engine type: python\n"
     ]
    },
    {
     "name": "stdout",
     "output_type": "stream",
     "text": [
      "ASR预测消耗时间：543ms, 识别结果: 是不是感觉是不叔现在已经这个程序已经写得很\n",
      "是不是感觉是不叔现在已经这个程序已经写得很\n",
      "Done lisening\n",
      "Listening..\n"
     ]
    },
    {
     "name": "stderr",
     "output_type": "stream",
     "text": [
      "[2023-10-18 21:14:30,225] [    INFO] - inference time: 0.25531625747680664\n",
      "[2023-10-18 21:14:30,226] [    INFO] - asr engine type: python\n"
     ]
    },
    {
     "name": "stdout",
     "output_type": "stream",
     "text": [
      "ASR预测消耗时间：262ms, 识别结果: 勉强能用好嘞\n",
      "勉强能用好嘞\n",
      "Done lisening\n",
      "Listening..\n"
     ]
    },
    {
     "name": "stderr",
     "output_type": "stream",
     "text": [
      "[2023-10-18 21:14:37,376] [    INFO] - inference time: 0.32944154739379883\n",
      "[2023-10-18 21:14:37,377] [    INFO] - asr engine type: python\n"
     ]
    },
    {
     "name": "stdout",
     "output_type": "stream",
     "text": [
      "ASR预测消耗时间：343ms, 识别结果: 这这怎么说\n",
      "这这怎么说\n",
      "Done lisening\n",
      "Listening..\n"
     ]
    },
    {
     "name": "stderr",
     "output_type": "stream",
     "text": [
      "[2023-10-18 21:14:51,199] [    INFO] - inference time: 0.7116501331329346\n",
      "[2023-10-18 21:14:51,200] [    INFO] - asr engine type: python\n"
     ]
    },
    {
     "name": "stdout",
     "output_type": "stream",
     "text": [
      "ASR预测消耗时间：721ms, 识别结果: 主要是啥我告诉你这个数据级吧其实真正它不难搞主要是这个训练脚本\n",
      "主要是啥我告诉你这个数据级吧其实真正它不难搞主要是这个训练脚本\n",
      "Listening..\n",
      "Done lisening\n",
      "Listening..\n"
     ]
    },
    {
     "name": "stderr",
     "output_type": "stream",
     "text": [
      "[2023-10-18 21:15:05,824] [    INFO] - inference time: 0.32175135612487793\n",
      "[2023-10-18 21:15:05,825] [    INFO] - asr engine type: python\n"
     ]
    },
    {
     "name": "stdout",
     "output_type": "stream",
     "text": [
      "ASR预测消耗时间：329ms, 识别结果: 咱现在训练那个\n",
      "咱现在训练那个\n",
      "Done lisening\n",
      "Listening..\n"
     ]
    },
    {
     "name": "stderr",
     "output_type": "stream",
     "text": [
      "[2023-10-18 21:15:10,416] [    INFO] - inference time: 0.4623453617095947\n",
      "[2023-10-18 21:15:10,418] [    INFO] - asr engine type: python\n"
     ]
    },
    {
     "name": "stdout",
     "output_type": "stream",
     "text": [
      "ASR预测消耗时间：474ms, 识别结果: 嗯啊\n",
      "嗯啊\n",
      "Done lisening\n",
      "Listening..\n"
     ]
    },
    {
     "name": "stderr",
     "output_type": "stream",
     "text": [
      "[2023-10-18 21:15:14,133] [    INFO] - inference time: 0.23986458778381348\n",
      "[2023-10-18 21:15:14,134] [    INFO] - asr engine type: python\n"
     ]
    },
    {
     "name": "stdout",
     "output_type": "stream",
     "text": [
      "ASR预测消耗时间：248ms, 识别结果: 大模型大语言模型\n",
      "大模型大语言模型\n",
      "Done lisening\n",
      "Listening..\n"
     ]
    },
    {
     "name": "stderr",
     "output_type": "stream",
     "text": [
      "[2023-10-18 21:15:19,007] [    INFO] - inference time: 0.3195962905883789\n",
      "[2023-10-18 21:15:19,009] [    INFO] - asr engine type: python\n"
     ]
    },
    {
     "name": "stdout",
     "output_type": "stream",
     "text": [
      "ASR预测消耗时间：332ms, 识别结果: 你事来了\n",
      "你事来了\n",
      "Done lisening\n",
      "Listening..\n"
     ]
    },
    {
     "name": "stderr",
     "output_type": "stream",
     "text": [
      "[2023-10-18 21:15:32,648] [    INFO] - inference time: 0.5221767425537109\n",
      "[2023-10-18 21:15:32,649] [    INFO] - asr engine type: python\n"
     ]
    },
    {
     "name": "stdout",
     "output_type": "stream",
     "text": [
      "ASR预测消耗时间：533ms, 识别结果: 选的是这个商汤科技跟上海AI实验室联手\n",
      "选的是这个商汤科技跟上海AI实验室联手\n",
      "Done lisening\n",
      "Listening..\n"
     ]
    },
    {
     "name": "stderr",
     "output_type": "stream",
     "text": [
      "[2023-10-18 21:15:43,276] [    INFO] - inference time: 0.31481194496154785\n",
      "[2023-10-18 21:15:43,277] [    INFO] - asr engine type: python\n"
     ]
    },
    {
     "name": "stdout",
     "output_type": "stream",
     "text": [
      "ASR预测消耗时间：327ms, 识别结果: 这些都是开源的模型\n",
      "这些都是开源的模型\n",
      "Done lisening\n",
      "Listening..\n"
     ]
    },
    {
     "name": "stderr",
     "output_type": "stream",
     "text": [
      "[2023-10-18 21:15:48,558] [    INFO] - inference time: 0.4085061550140381\n",
      "[2023-10-18 21:15:48,560] [    INFO] - asr engine type: python\n"
     ]
    },
    {
     "name": "stdout",
     "output_type": "stream",
     "text": [
      "ASR预测消耗时间：419ms, 识别结果: 而且能商用主要是我盯上的就是这个能商用的\n",
      "而且能商用主要是我盯上的就是这个能商用的\n",
      "Done lisening\n",
      "Listening..\n"
     ]
    },
    {
     "name": "stderr",
     "output_type": "stream",
     "text": [
      "[2023-10-18 21:15:54,075] [    INFO] - inference time: 0.31918883323669434\n",
      "[2023-10-18 21:15:54,076] [    INFO] - asr engine type: python\n"
     ]
    },
    {
     "name": "stdout",
     "output_type": "stream",
     "text": [
      "ASR预测消耗时间：324ms, 识别结果: 说它是有明确商业用\n",
      "说它是有明确商业用\n",
      "Done lisening\n",
      "Listening..\n"
     ]
    },
    {
     "name": "stderr",
     "output_type": "stream",
     "text": [
      "[2023-10-18 21:16:09,635] [    INFO] - inference time: 0.8145871162414551\n",
      "[2023-10-18 21:16:09,636] [    INFO] - asr engine type: python\n"
     ]
    },
    {
     "name": "stdout",
     "output_type": "stream",
     "text": [
      "ASR预测消耗时间：834ms, 识别结果: 到时候还还挺多东西要搞呢就是个画你就说这个画室你得找一个画是给他画画\n",
      "到时候还还挺多东西要搞呢就是个画你就说这个画室你得找一个画是给他画画\n",
      "Done lisening\n",
      "Listening..\n"
     ]
    },
    {
     "name": "stderr",
     "output_type": "stream",
     "text": [
      "[2023-10-18 21:16:17,846] [    INFO] - inference time: 0.39559054374694824\n",
      "[2023-10-18 21:16:17,847] [    INFO] - asr engine type: python\n"
     ]
    },
    {
     "name": "stdout",
     "output_type": "stream",
     "text": [
      "ASR预测消耗时间：409ms, 识别结果: 人把这个话给搞上了\n",
      "人把这个话给搞上了\n",
      "Done lisening\n",
      "Listening..\n"
     ]
    },
    {
     "name": "stderr",
     "output_type": "stream",
     "text": [
      "[2023-10-18 21:16:23,222] [    INFO] - inference time: 0.3889603614807129\n",
      "[2023-10-18 21:16:23,223] [    INFO] - asr engine type: python\n"
     ]
    },
    {
     "name": "stdout",
     "output_type": "stream",
     "text": [
      "ASR预测消耗时间：397ms, 识别结果: 对这都说后话了\n",
      "对这都说后话了\n",
      "Done lisening\n",
      "Listening..\n"
     ]
    },
    {
     "name": "stderr",
     "output_type": "stream",
     "text": [
      "[2023-10-18 21:16:27,931] [    INFO] - inference time: 0.479766845703125\n",
      "[2023-10-18 21:16:27,931] [    INFO] - asr engine type: python\n"
     ]
    },
    {
     "name": "stdout",
     "output_type": "stream",
     "text": [
      "ASR预测消耗时间：492ms, 识别结果: 怼现在先用着\n",
      "怼现在先用着\n",
      "Done lisening\n",
      "Listening..\n"
     ]
    },
    {
     "name": "stderr",
     "output_type": "stream",
     "text": [
      "[2023-10-18 21:16:43,536] [    INFO] - inference time: 0.4664599895477295\n",
      "[2023-10-18 21:16:43,537] [    INFO] - asr engine type: python\n"
     ]
    },
    {
     "name": "stdout",
     "output_type": "stream",
     "text": [
      "ASR预测消耗时间：472ms, 识别结果: 对啊要的这个已经整好了你看我死地姆最近不天天在玩这个东西吗\n",
      "对啊要的这个已经整好了你看我死地姆最近不天天在玩这个东西吗\n",
      "Done lisening\n",
      "Listening..\n"
     ]
    },
    {
     "name": "stderr",
     "output_type": "stream",
     "text": [
      "[2023-10-18 21:16:49,161] [    INFO] - inference time: 0.21451783180236816\n",
      "[2023-10-18 21:16:49,162] [    INFO] - asr engine type: python\n"
     ]
    },
    {
     "name": "stdout",
     "output_type": "stream",
     "text": [
      "ASR预测消耗时间：221ms, 识别结果: 笑死了这个东西\n",
      "笑死了这个东西\n",
      "Done lisening\n",
      "Listening..\n"
     ]
    },
    {
     "name": "stderr",
     "output_type": "stream",
     "text": [
      "[2023-10-18 21:17:02,472] [    INFO] - inference time: 0.546729326248169\n",
      "[2023-10-18 21:17:02,473] [    INFO] - asr engine type: python\n"
     ]
    },
    {
     "name": "stdout",
     "output_type": "stream",
     "text": [
      "ASR预测消耗时间：554ms, 识别结果: 它是用对它没错它就是用那个模型来驱动的现在我还在寻思\n",
      "它是用对它没错它就是用那个模型来驱动的现在我还在寻思\n",
      "Done lisening\n",
      "Listening..\n"
     ]
    },
    {
     "name": "stderr",
     "output_type": "stream",
     "text": [
      "[2023-10-18 21:17:09,581] [    INFO] - inference time: 0.5976591110229492\n",
      "[2023-10-18 21:17:09,582] [    INFO] - asr engine type: python\n"
     ]
    },
    {
     "name": "stdout",
     "output_type": "stream",
     "text": [
      "ASR预测消耗时间：613ms, 识别结果: 但是这个收发包的方式这个我已经知道要怎么搞了这个东西\n",
      "但是这个收发包的方式这个我已经知道要怎么搞了这个东西\n",
      "Done lisening\n",
      "Listening..\n"
     ]
    },
    {
     "name": "stderr",
     "output_type": "stream",
     "text": [
      "[2023-10-18 21:17:20,119] [    INFO] - inference time: 0.6156938076019287\n",
      "[2023-10-18 21:17:20,120] [    INFO] - asr engine type: python\n"
     ]
    },
    {
     "name": "stdout",
     "output_type": "stream",
     "text": [
      "ASR预测消耗时间：624ms, 识别结果: 其实你看你看那个什么东西都没开其实什么东西都已经开了一小点了反正是\n",
      "其实你看你看那个什么东西都没开其实什么东西都已经开了一小点了反正是\n",
      "Done lisening\n",
      "Listening..\n"
     ]
    },
    {
     "name": "stderr",
     "output_type": "stream",
     "text": [
      "[2023-10-18 21:17:22,981] [    INFO] - inference time: 0.3709986209869385\n",
      "[2023-10-18 21:17:22,982] [    INFO] - asr engine type: python\n"
     ]
    },
    {
     "name": "stdout",
     "output_type": "stream",
     "text": [
      "ASR预测消耗时间：377ms, 识别结果: 反正不是很那什么\n",
      "反正不是很那什么\n",
      "Done lisening\n",
      "Listening..\n"
     ]
    },
    {
     "name": "stderr",
     "output_type": "stream",
     "text": [
      "[2023-10-18 21:17:25,854] [    INFO] - inference time: 0.17003178596496582\n",
      "[2023-10-18 21:17:25,855] [    INFO] - asr engine type: python\n"
     ]
    },
    {
     "name": "stdout",
     "output_type": "stream",
     "text": [
      "ASR预测消耗时间：176ms, 识别结果: 啊啊\n",
      "啊啊\n",
      "Done lisening\n",
      "Listening..\n"
     ]
    },
    {
     "name": "stderr",
     "output_type": "stream",
     "text": [
      "[2023-10-18 21:17:30,480] [    INFO] - inference time: 0.21698760986328125\n",
      "[2023-10-18 21:17:30,481] [    INFO] - asr engine type: python\n"
     ]
    },
    {
     "name": "stdout",
     "output_type": "stream",
     "text": [
      "ASR预测消耗时间：221ms, 识别结果: 这个应该是\n",
      "这个应该是\n",
      "Done lisening\n",
      "Listening..\n"
     ]
    },
    {
     "name": "stderr",
     "output_type": "stream",
     "text": [
      "[2023-10-18 21:17:41,832] [    INFO] - inference time: 0.3031883239746094\n",
      "[2023-10-18 21:17:41,834] [    INFO] - asr engine type: python\n"
     ]
    },
    {
     "name": "stdout",
     "output_type": "stream",
     "text": [
      "ASR预测消耗时间：311ms, 识别结果: 我看看我这\n",
      "我看看我这\n",
      "Done lisening\n",
      "Listening..\n"
     ]
    },
    {
     "name": "stderr",
     "output_type": "stream",
     "text": [
      "[2023-10-18 21:17:53,279] [    INFO] - inference time: 0.3844120502471924\n",
      "[2023-10-18 21:17:53,280] [    INFO] - asr engine type: python\n"
     ]
    },
    {
     "name": "stdout",
     "output_type": "stream",
     "text": [
      "ASR预测消耗时间：391ms, 识别结果: 面部捕捉开启启动\n",
      "面部捕捉开启启动\n",
      "Done lisening\n",
      "Listening..\n"
     ]
    },
    {
     "name": "stderr",
     "output_type": "stream",
     "text": [
      "[2023-10-18 21:18:04,591] [    INFO] - inference time: 0.3834092617034912\n",
      "[2023-10-18 21:18:04,592] [    INFO] - asr engine type: python\n"
     ]
    },
    {
     "name": "stdout",
     "output_type": "stream",
     "text": [
      "ASR预测消耗时间：391ms, 识别结果: 知道吗额爱\n",
      "知道吗额爱\n",
      "Done lisening\n",
      "Listening..\n"
     ]
    },
    {
     "name": "stderr",
     "output_type": "stream",
     "text": [
      "[2023-10-18 21:18:08,511] [    INFO] - inference time: 0.4531090259552002\n",
      "[2023-10-18 21:18:08,512] [    INFO] - asr engine type: python\n"
     ]
    },
    {
     "name": "stdout",
     "output_type": "stream",
     "text": [
      "ASR预测消耗时间：459ms, 识别结果: 小子这个眼睛\n",
      "小子这个眼睛\n",
      "Done lisening\n",
      "Listening..\n"
     ]
    },
    {
     "name": "stderr",
     "output_type": "stream",
     "text": [
      "[2023-10-18 21:18:15,967] [    INFO] - inference time: 0.5487723350524902\n",
      "[2023-10-18 21:18:15,968] [    INFO] - asr engine type: python\n"
     ]
    },
    {
     "name": "stdout",
     "output_type": "stream",
     "text": [
      "ASR预测消耗时间：557ms, 识别结果: 我眼睛他们好小呀\n",
      "我眼睛他们好小呀\n",
      "Done lisening\n",
      "Listening..\n"
     ]
    },
    {
     "name": "stderr",
     "output_type": "stream",
     "text": [
      "[2023-10-18 21:18:19,486] [    INFO] - inference time: 0.3841238021850586\n",
      "[2023-10-18 21:18:19,487] [    INFO] - asr engine type: python\n"
     ]
    },
    {
     "name": "stdout",
     "output_type": "stream",
     "text": [
      "ASR预测消耗时间：393ms, 识别结果: 然后你闭上盖\n",
      "然后你闭上盖\n",
      "Done lisening\n",
      "Listening..\n"
     ]
    },
    {
     "name": "stderr",
     "output_type": "stream",
     "text": [
      "[2023-10-18 21:18:26,782] [    INFO] - inference time: 0.3809492588043213\n",
      "[2023-10-18 21:18:26,783] [    INFO] - asr engine type: python\n"
     ]
    },
    {
     "name": "stdout",
     "output_type": "stream",
     "text": [
      "ASR预测消耗时间：387ms, 识别结果: 它这个模型开了一个模型\n",
      "它这个模型开了一个模型\n",
      "Done lisening\n",
      "Listening..\n"
     ]
    },
    {
     "name": "stderr",
     "output_type": "stream",
     "text": [
      "[2023-10-18 21:18:30,923] [    INFO] - inference time: 0.3420839309692383\n",
      "[2023-10-18 21:18:30,924] [    INFO] - asr engine type: python\n"
     ]
    },
    {
     "name": "stdout",
     "output_type": "stream",
     "text": [
      "ASR预测消耗时间：352ms, 识别结果: 反正这个转轴是不太大吧\n",
      "反正这个转轴是不太大吧\n",
      "Done lisening\n",
      "Listening..\n"
     ]
    },
    {
     "name": "stderr",
     "output_type": "stream",
     "text": [
      "[2023-10-18 21:18:37,267] [    INFO] - inference time: 0.7195370197296143\n",
      "[2023-10-18 21:18:37,268] [    INFO] - asr engine type: python\n"
     ]
    },
    {
     "name": "stdout",
     "output_type": "stream",
     "text": [
      "ASR预测消耗时间：728ms, 识别结果: 下看王白骨汤来看\n",
      "下看王白骨汤来看\n",
      "Done lisening\n",
      "Listening..\n"
     ]
    },
    {
     "name": "stderr",
     "output_type": "stream",
     "text": [
      "[2023-10-18 21:18:56,707] [    INFO] - inference time: 1.0543627738952637\n",
      "[2023-10-18 21:18:56,709] [    INFO] - asr engine type: python\n"
     ]
    },
    {
     "name": "stdout",
     "output_type": "stream",
     "text": [
      "ASR预测消耗时间：1067ms, 识别结果: 我告诉你怎么操作是录的这个东西它是录的比如说我现在就它应该有待基模型就是这样\n",
      "我告诉你怎么操作是录的这个东西它是录的比如说我现在就它应该有待基模型就是这样\n",
      "Done lisening\n",
      "Listening..\n"
     ]
    },
    {
     "name": "stderr",
     "output_type": "stream",
     "text": [
      "[2023-10-18 21:19:11,370] [    INFO] - inference time: 1.0415050983428955\n",
      "[2023-10-18 21:19:11,371] [    INFO] - asr engine type: python\n"
     ]
    },
    {
     "name": "stdout",
     "output_type": "stream",
     "text": [
      "ASR预测消耗时间：1061ms, 识别结果: 然后好现在录完了这个就是一个动作知道吧这个会放到丢溜里作为一个动作来\n",
      "然后好现在录完了这个就是一个动作知道吧这个会放到丢溜里作为一个动作来\n",
      "Done lisening\n",
      "Listening..\n"
     ]
    },
    {
     "name": "stderr",
     "output_type": "stream",
     "text": [
      "[2023-10-18 21:19:17,034] [    INFO] - inference time: 0.5814931392669678\n",
      "[2023-10-18 21:19:17,036] [    INFO] - asr engine type: python\n"
     ]
    },
    {
     "name": "stdout",
     "output_type": "stream",
     "text": [
      "ASR预测消耗时间：590ms, 识别结果: 就是来那个叫什么触发就触发动作这个模型没有触发动作\n",
      "就是来那个叫什么触发就触发动作这个模型没有触发动作\n",
      "Done lisening\n",
      "Listening..\n"
     ]
    },
    {
     "name": "stderr",
     "output_type": "stream",
     "text": [
      "[2023-10-18 21:19:22,470] [    INFO] - inference time: 0.45488858222961426\n",
      "[2023-10-18 21:19:22,471] [    INFO] - asr engine type: python\n"
     ]
    },
    {
     "name": "stdout",
     "output_type": "stream",
     "text": [
      "ASR预测消耗时间：461ms, 识别结果: 看右边这些小按钮吧因为我这是绿的\n",
      "看右边这些小按钮吧因为我这是绿的\n",
      "Done lisening\n",
      "Listening..\n"
     ]
    },
    {
     "name": "stderr",
     "output_type": "stream",
     "text": [
      "[2023-10-18 21:19:28,260] [    INFO] - inference time: 0.4976685047149658\n",
      "[2023-10-18 21:19:28,262] [    INFO] - asr engine type: python\n"
     ]
    },
    {
     "name": "stdout",
     "output_type": "stream",
     "text": [
      "ASR预测消耗时间：507ms, 识别结果: 好唉\n",
      "好唉\n",
      "Done lisening\n",
      "Listening..\n"
     ]
    },
    {
     "name": "stderr",
     "output_type": "stream",
     "text": [
      "[2023-10-18 21:19:31,157] [    INFO] - inference time: 0.40535831451416016\n",
      "[2023-10-18 21:19:31,158] [    INFO] - asr engine type: python\n"
     ]
    },
    {
     "name": "stdout",
     "output_type": "stream",
     "text": [
      "ASR预测消耗时间：411ms, 识别结果: 看右边有小按钮没摁一下看\n",
      "看右边有小按钮没摁一下看\n",
      "Listening..\n",
      "Done lisening\n",
      "Listening..\n"
     ]
    },
    {
     "name": "stderr",
     "output_type": "stream",
     "text": [
      "[2023-10-18 21:19:45,970] [    INFO] - inference time: 0.3103954792022705\n",
      "[2023-10-18 21:19:45,972] [    INFO] - asr engine type: python\n"
     ]
    },
    {
     "name": "stdout",
     "output_type": "stream",
     "text": [
      "ASR预测消耗时间：321ms, 识别结果: 康康\n",
      "康康\n",
      "Done lisening\n",
      "Listening..\n"
     ]
    },
    {
     "name": "stderr",
     "output_type": "stream",
     "text": [
      "[2023-10-18 21:19:56,195] [    INFO] - inference time: 0.268049955368042\n",
      "[2023-10-18 21:19:56,196] [    INFO] - asr engine type: python\n"
     ]
    },
    {
     "name": "stdout",
     "output_type": "stream",
     "text": [
      "ASR预测消耗时间：278ms, 识别结果: 叫我叫什么\n",
      "叫我叫什么\n",
      "Done lisening\n",
      "Listening..\n"
     ]
    },
    {
     "name": "stderr",
     "output_type": "stream",
     "text": [
      "[2023-10-18 21:20:11,767] [    INFO] - inference time: 1.0944008827209473\n",
      "[2023-10-18 21:20:11,768] [    INFO] - asr engine type: python\n"
     ]
    },
    {
     "name": "stdout",
     "output_type": "stream",
     "text": [
      "ASR预测消耗时间：1105ms, 识别结果: 对也可以去用分类问题你可以用那个神经网络资机做一个语翼分析我怎么一眼睛他妈你就总闭上呢是不眼睛太小了吗\n",
      "对也可以去用分类问题你可以用那个神经网络资机做一个语翼分析我怎么一眼睛他妈你就总闭上呢是不眼睛太小了吗\n",
      "Done lisening\n",
      "Listening..\n"
     ]
    },
    {
     "name": "stderr",
     "output_type": "stream",
     "text": [
      "[2023-10-18 21:20:18,220] [    INFO] - inference time: 0.5081737041473389\n",
      "[2023-10-18 21:20:18,221] [    INFO] - asr engine type: python\n"
     ]
    },
    {
     "name": "stdout",
     "output_type": "stream",
     "text": [
      "ASR预测消耗时间：515ms, 识别结果: 我我都要睡着\n",
      "我我都要睡着\n",
      "Done lisening\n",
      "Listening..\n"
     ]
    },
    {
     "name": "stderr",
     "output_type": "stream",
     "text": [
      "[2023-10-18 21:20:35,414] [    INFO] - inference time: 1.0596277713775635\n",
      "[2023-10-18 21:20:35,415] [    INFO] - asr engine type: python\n"
     ]
    },
    {
     "name": "stdout",
     "output_type": "stream",
     "text": [
      "ASR预测消耗时间：1297ms, 识别结果: 妈都我睡着在这就是你也可以分类问题就是从那个羽翼嘛然后你简单地做一个就是把那个味然后最后分类\n",
      "妈都我睡着在这就是你也可以分类问题就是从那个羽翼嘛然后你简单地做一个就是把那个味然后最后分类\n",
      "Done lisening\n",
      "Listening..\n"
     ]
    },
    {
     "name": "stderr",
     "output_type": "stream",
     "text": [
      "[2023-10-18 21:20:38,004] [    INFO] - inference time: 0.31914687156677246\n",
      "[2023-10-18 21:20:38,006] [    INFO] - asr engine type: python\n"
     ]
    },
    {
     "name": "stdout",
     "output_type": "stream",
     "text": [
      "ASR预测消耗时间：327ms, 识别结果: 或者是什么或者是\n",
      "或者是什么或者是\n",
      "Done lisening\n",
      "Listening..\n"
     ]
    },
    {
     "name": "stderr",
     "output_type": "stream",
     "text": [
      "[2023-10-18 21:20:43,326] [    INFO] - inference time: 0.5580036640167236\n",
      "[2023-10-18 21:20:43,327] [    INFO] - asr engine type: python\n"
     ]
    },
    {
     "name": "stdout",
     "output_type": "stream",
     "text": [
      "ASR预测消耗时间：566ms, 识别结果: 咱直接就让它生成某些东西\n",
      "咱直接就让它生成某些东西\n",
      "Done lisening\n",
      "Listening..\n"
     ]
    },
    {
     "name": "stderr",
     "output_type": "stream",
     "text": [
      "[2023-10-18 21:20:48,051] [    INFO] - inference time: 0.3956935405731201\n",
      "[2023-10-18 21:20:48,052] [    INFO] - asr engine type: python\n"
     ]
    },
    {
     "name": "stdout",
     "output_type": "stream",
     "text": [
      "ASR预测消耗时间：403ms, 识别结果: 就比如说比如说这个\n",
      "就比如说比如说这个\n",
      "Done lisening\n",
      "Listening..\n"
     ]
    },
    {
     "name": "stderr",
     "output_type": "stream",
     "text": [
      "[2023-10-18 21:20:55,353] [    INFO] - inference time: 0.47074270248413086\n",
      "[2023-10-18 21:20:55,354] [    INFO] - asr engine type: python\n"
     ]
    },
    {
     "name": "stdout",
     "output_type": "stream",
     "text": [
      "ASR预测消耗时间：483ms, 识别结果: 上头孤完老吧我现在在光腚\n",
      "上头孤完老吧我现在在光腚\n",
      "Done lisening\n",
      "Listening..\n"
     ]
    },
    {
     "name": "stderr",
     "output_type": "stream",
     "text": [
      "[2023-10-18 21:21:04,005] [    INFO] - inference time: 0.6171658039093018\n",
      "[2023-10-18 21:21:04,007] [    INFO] - asr engine type: python\n"
     ]
    },
    {
     "name": "stdout",
     "output_type": "stream",
     "text": [
      "ASR预测消耗时间：625ms, 识别结果: 给大家怎么给大家表演个露牛了\n",
      "给大家怎么给大家表演个露牛了\n",
      "Done lisening\n",
      "Listening..\n"
     ]
    },
    {
     "name": "stderr",
     "output_type": "stream",
     "text": [
      "[2023-10-18 21:21:07,524] [    INFO] - inference time: 0.3752288818359375\n",
      "[2023-10-18 21:21:07,525] [    INFO] - asr engine type: python\n"
     ]
    },
    {
     "name": "stdout",
     "output_type": "stream",
     "text": [
      "ASR预测消耗时间：384ms, 识别结果: 就不想让他干什么的我看看拉马有没有\n",
      "就不想让他干什么的我看看拉马有没有\n",
      "Done lisening\n",
      "Listening..\n"
     ]
    },
    {
     "name": "stderr",
     "output_type": "stream",
     "text": [
      "[2023-10-18 21:21:18,897] [    INFO] - inference time: 0.5455400943756104\n",
      "[2023-10-18 21:21:18,898] [    INFO] - asr engine type: python\n"
     ]
    },
    {
     "name": "stdout",
     "output_type": "stream",
     "text": [
      "ASR预测消耗时间：552ms, 识别结果: 我嫂子拉马二还有英伟拿官方支持的你个大爸\n",
      "我嫂子拉马二还有英伟拿官方支持的你个大爸\n",
      "Done lisening\n",
      "Listening..\n"
     ]
    },
    {
     "name": "stderr",
     "output_type": "stream",
     "text": [
      "[2023-10-18 21:21:24,961] [    INFO] - inference time: 0.32720160484313965\n",
      "[2023-10-18 21:21:24,962] [    INFO] - asr engine type: python\n"
     ]
    },
    {
     "name": "stdout",
     "output_type": "stream",
     "text": [
      "ASR预测消耗时间：334ms, 识别结果: 好这样看着啊\n",
      "好这样看着啊\n",
      "Done lisening\n",
      "Listening..\n"
     ]
    },
    {
     "name": "stderr",
     "output_type": "stream",
     "text": [
      "[2023-10-18 21:21:38,433] [    INFO] - inference time: 0.9126355648040771\n",
      "[2023-10-18 21:21:38,434] [    INFO] - asr engine type: python\n"
     ]
    },
    {
     "name": "stdout",
     "output_type": "stream",
     "text": [
      "ASR预测消耗时间：922ms, 识别结果: 拉玛不支持中文为什么我说我没选拉马因为它的中文需要咱们需要咱们就后续去训练而且这个中文的数据集你知道咱巴黎有限你知道吧\n",
      "拉玛不支持中文为什么我说我没选拉马因为它的中文需要咱们需要咱们就后续去训练而且这个中文的数据集你知道咱巴黎有限你知道吧\n",
      "Done lisening\n",
      "Listening..\n"
     ]
    },
    {
     "name": "stderr",
     "output_type": "stream",
     "text": [
      "[2023-10-18 21:21:44,438] [    INFO] - inference time: 0.4889183044433594\n",
      "[2023-10-18 21:21:44,439] [    INFO] - asr engine type: python\n"
     ]
    },
    {
     "name": "stdout",
     "output_type": "stream",
     "text": [
      "ASR预测消耗时间：498ms, 识别结果: 所以我就没有选了我直接选了那个人家商汤就用自己的\n",
      "所以我就没有选了我直接选了那个人家商汤就用自己的\n",
      "Done lisening\n",
      "Listening..\n"
     ]
    },
    {
     "name": "stderr",
     "output_type": "stream",
     "text": [
      "[2023-10-18 21:21:50,871] [    INFO] - inference time: 0.5774548053741455\n",
      "[2023-10-18 21:21:50,872] [    INFO] - asr engine type: python\n"
     ]
    },
    {
     "name": "stdout",
     "output_type": "stream",
     "text": [
      "ASR预测消耗时间：584ms, 识别结果: 知道那后续再去调嘛而且它那个模型知识英文\n",
      "知道那后续再去调嘛而且它那个模型知识英文\n",
      "Done lisening\n",
      "Listening..\n"
     ]
    },
    {
     "name": "stderr",
     "output_type": "stream",
     "text": [
      "[2023-10-18 21:21:58,520] [    INFO] - inference time: 0.4916868209838867\n",
      "[2023-10-18 21:21:58,521] [    INFO] - asr engine type: python\n"
     ]
    },
    {
     "name": "stdout",
     "output_type": "stream",
     "text": [
      "ASR预测消耗时间：500ms, 识别结果: 鱼饵有而就此\n",
      "鱼饵有而就此\n",
      "Done lisening\n",
      "Listening..\n"
     ]
    },
    {
     "name": "stderr",
     "output_type": "stream",
     "text": [
      "[2023-10-18 21:22:03,122] [    INFO] - inference time: 0.37402939796447754\n",
      "[2023-10-18 21:22:03,123] [    INFO] - asr engine type: python\n"
     ]
    },
    {
     "name": "stdout",
     "output_type": "stream",
     "text": [
      "ASR预测消耗时间：383ms, 识别结果: 没出门\n",
      "没出门\n",
      "Done lisening\n",
      "Listening..\n"
     ]
    },
    {
     "name": "stderr",
     "output_type": "stream",
     "text": [
      "[2023-10-18 21:22:15,788] [    INFO] - inference time: 0.9675428867340088\n",
      "[2023-10-18 21:22:15,789] [    INFO] - asr engine type: python\n"
     ]
    },
    {
     "name": "stdout",
     "output_type": "stream",
     "text": [
      "ASR预测消耗时间：976ms, 识别结果: 他能理解的这个东西看着给剧本安安试什么你不要不要对我们的大模型不能抹野\n",
      "他能理解的这个东西看着给剧本安安试什么你不要不要对我们的大模型不能抹野\n",
      "Done lisening\n",
      "Listening..\n"
     ]
    },
    {
     "name": "stderr",
     "output_type": "stream",
     "text": [
      "[2023-10-18 21:22:22,327] [    INFO] - inference time: 0.5764579772949219\n",
      "[2023-10-18 21:22:22,328] [    INFO] - asr engine type: python\n"
     ]
    },
    {
     "name": "stdout",
     "output_type": "stream",
     "text": [
      "ASR预测消耗时间：586ms, 识别结果: 相信对线相信启动\n",
      "相信对线相信启动\n",
      "Done lisening\n",
      "Listening..\n"
     ]
    },
    {
     "name": "stderr",
     "output_type": "stream",
     "text": [
      "[2023-10-18 21:22:25,765] [    INFO] - inference time: 0.39893269538879395\n",
      "[2023-10-18 21:22:25,766] [    INFO] - asr engine type: python\n"
     ]
    },
    {
     "name": "stdout",
     "output_type": "stream",
     "text": [
      "ASR预测消耗时间：406ms, 识别结果: 有点挑一对本安安\n",
      "有点挑一对本安安\n",
      "Done lisening\n",
      "Listening..\n"
     ]
    },
    {
     "name": "stderr",
     "output_type": "stream",
     "text": [
      "[2023-10-18 21:22:33,859] [    INFO] - inference time: 0.3913850784301758\n",
      "[2023-10-18 21:22:33,860] [    INFO] - asr engine type: python\n"
     ]
    },
    {
     "name": "stdout",
     "output_type": "stream",
     "text": [
      "ASR预测消耗时间：403ms, 识别结果: 我错不行我不想跟我编我想我想看看我自己\n",
      "我错不行我不想跟我编我想我想看看我自己\n",
      "Done lisening\n",
      "Listening..\n"
     ]
    },
    {
     "name": "stderr",
     "output_type": "stream",
     "text": [
      "[2023-10-18 21:22:36,418] [    INFO] - inference time: 0.3782963752746582\n",
      "[2023-10-18 21:22:36,418] [    INFO] - asr engine type: python\n"
     ]
    },
    {
     "name": "stdout",
     "output_type": "stream",
     "text": [
      "ASR预测消耗时间：385ms, 识别结果: 当时给编好了\n",
      "当时给编好了\n",
      "Done lisening\n",
      "Listening..\n"
     ]
    },
    {
     "name": "stderr",
     "output_type": "stream",
     "text": [
      "[2023-10-18 21:22:45,941] [    INFO] - inference time: 0.42014074325561523\n",
      "[2023-10-18 21:22:45,943] [    INFO] - asr engine type: python\n"
     ]
    },
    {
     "name": "stdout",
     "output_type": "stream",
     "text": [
      "ASR预测消耗时间：428ms, 识别结果: 我错了大爸别够了我鸡巴没编\n",
      "我错了大爸别够了我鸡巴没编\n",
      "Listening..\n",
      "Done lisening\n",
      "Listening..\n"
     ]
    },
    {
     "name": "stderr",
     "output_type": "stream",
     "text": [
      "[2023-10-18 21:23:02,968] [    INFO] - inference time: 0.43585753440856934\n",
      "[2023-10-18 21:23:02,968] [    INFO] - asr engine type: python\n"
     ]
    },
    {
     "name": "stdout",
     "output_type": "stream",
     "text": [
      "ASR预测消耗时间：442ms, 识别结果: 己去看看能润它又不能锐\n",
      "己去看看能润它又不能锐\n",
      "Listening..\n",
      "Listening..\n",
      "Done lisening\n",
      "Listening..\n"
     ]
    },
    {
     "name": "stderr",
     "output_type": "stream",
     "text": [
      "[2023-10-18 21:23:24,795] [    INFO] - inference time: 0.26740574836730957\n",
      "[2023-10-18 21:23:24,796] [    INFO] - asr engine type: python\n"
     ]
    },
    {
     "name": "stdout",
     "output_type": "stream",
     "text": [
      "ASR预测消耗时间：273ms, 识别结果: \n",
      "\n",
      "Done lisening\n",
      "Listening..\n"
     ]
    },
    {
     "name": "stderr",
     "output_type": "stream",
     "text": [
      "[2023-10-18 21:23:39,365] [    INFO] - inference time: 0.4792487621307373\n",
      "[2023-10-18 21:23:39,366] [    INFO] - asr engine type: python\n"
     ]
    },
    {
     "name": "stdout",
     "output_type": "stream",
     "text": [
      "ASR预测消耗时间：486ms, 识别结果: 这种都是行为这种是模型它预训练进去的行为\n",
      "这种都是行为这种是模型它预训练进去的行为\n",
      "Done lisening\n",
      "Listening..\n"
     ]
    },
    {
     "name": "stderr",
     "output_type": "stream",
     "text": [
      "[2023-10-18 21:23:49,953] [    INFO] - inference time: 0.8265905380249023\n",
      "[2023-10-18 21:23:49,954] [    INFO] - asr engine type: python\n"
     ]
    },
    {
     "name": "stdout",
     "output_type": "stream",
     "text": [
      "ASR预测消耗时间：834ms, 识别结果: 比如说给狗给狗就是笑咱可以检测到检测两个星星就这种行为的朗然后咱取中间这个词然后把这个词\n",
      "比如说给狗给狗就是笑咱可以检测到检测两个星星就这种行为的朗然后咱取中间这个词然后把这个词\n",
      "Done lisening\n",
      "Listening..\n"
     ]
    },
    {
     "name": "stderr",
     "output_type": "stream",
     "text": [
      "[2023-10-18 21:23:54,763] [    INFO] - inference time: 0.4813039302825928\n",
      "[2023-10-18 21:23:54,764] [    INFO] - asr engine type: python\n"
     ]
    },
    {
     "name": "stdout",
     "output_type": "stream",
     "text": [
      "ASR预测消耗时间：488ms, 识别结果: 就是你写一个浅层的神经网络了干点什么了\n",
      "就是你写一个浅层的神经网络了干点什么了\n",
      "Done lisening\n",
      "Listening..\n"
     ]
    },
    {
     "name": "stderr",
     "output_type": "stream",
     "text": [
      "[2023-10-18 21:24:01,654] [    INFO] - inference time: 0.6009457111358643\n",
      "[2023-10-18 21:24:01,655] [    INFO] - asr engine type: python\n"
     ]
    },
    {
     "name": "stdout",
     "output_type": "stream",
     "text": [
      "ASR预测消耗时间：608ms, 识别结果: 对你进吃接你直接这对号入座都行你知道吧\n",
      "对你进吃接你直接这对号入座都行你知道吧\n",
      "Done lisening\n",
      "Listening..\n"
     ]
    },
    {
     "name": "stderr",
     "output_type": "stream",
     "text": [
      "[2023-10-18 21:24:13,132] [    INFO] - inference time: 0.9518296718597412\n",
      "[2023-10-18 21:24:13,133] [    INFO] - asr engine type: python\n"
     ]
    },
    {
     "name": "stdout",
     "output_type": "stream",
     "text": [
      "ASR预测消耗时间：967ms, 识别结果: 对啊知道他妈直接咔对号无作就没问题想想写神经网络也行后续咱后续肯定是得把这个改成神经网络你这就不用写了\n",
      "对啊知道他妈直接咔对号无作就没问题想想写神经网络也行后续咱后续肯定是得把这个改成神经网络你这就不用写了\n",
      "Done lisening\n",
      "Listening..\n"
     ]
    },
    {
     "name": "stderr",
     "output_type": "stream",
     "text": [
      "[2023-10-18 21:24:33,011] [    INFO] - inference time: 1.3561031818389893\n",
      "[2023-10-18 21:24:33,012] [    INFO] - asr engine type: python\n"
     ]
    },
    {
     "name": "stdout",
     "output_type": "stream",
     "text": [
      "ASR预测消耗时间：1367ms, 识别结果: 但是前期前期好吧咱直接就搞就这么搞就我的目就是我想目的就是用这个就这个行为不让我去直接去激活就激活我刚才给你看了个逼出门丢溜他这个P案\n",
      "但是前期前期好吧咱直接就搞就这么搞就我的目就是我想目的就是用这个就这个行为不让我去直接去激活就激活我刚才给你看了个逼出门丢溜他这个P案\n",
      "Done lisening\n",
      "Listening..\n"
     ]
    },
    {
     "name": "stderr",
     "output_type": "stream",
     "text": [
      "[2023-10-18 21:24:39,596] [    INFO] - inference time: 0.49448704719543457\n",
      "[2023-10-18 21:24:39,597] [    INFO] - asr engine type: python\n"
     ]
    },
    {
     "name": "stdout",
     "output_type": "stream",
     "text": [
      "ASR预测消耗时间：500ms, 识别结果: 老吧这个你看你今天完全懂我想一个\n",
      "老吧这个你看你今天完全懂我想一个\n",
      "Done lisening\n",
      "Listening..\n"
     ]
    },
    {
     "name": "stderr",
     "output_type": "stream",
     "text": [
      "[2023-10-18 21:24:55,730] [    INFO] - inference time: 0.9739179611206055\n",
      "[2023-10-18 21:24:55,731] [    INFO] - asr engine type: python\n"
     ]
    },
    {
     "name": "stdout",
     "output_type": "stream",
     "text": [
      "ASR预测消耗时间：984ms, 识别结果: 所以有这么一套咱有这么一套工具挺少其实咱要开发的东西挺少的咱需要开发起只需校是一个餐普一个餐腿就比如说是什么\n",
      "所以有这么一套咱有这么一套工具挺少其实咱要开发的东西挺少的咱需要开发起只需校是一个餐普一个餐腿就比如说是什么\n",
      "Done lisening\n",
      "Listening..\n"
     ]
    },
    {
     "name": "stderr",
     "output_type": "stream",
     "text": [
      "[2023-10-18 21:25:06,628] [    INFO] - inference time: 0.9350450038909912\n",
      "[2023-10-18 21:25:06,629] [    INFO] - asr engine type: python\n"
     ]
    },
    {
     "name": "stdout",
     "output_type": "stream",
     "text": [
      "ASR预测消耗时间：943ms, 识别结果: 咱需要有一个麦的纸就是咱程序里需要有个麦卖纸的刨下来之后呢你用这个麦克纸去控制比如说各个各个部件比如说\n",
      "咱需要有一个麦的纸就是咱程序里需要有个麦卖纸的刨下来之后呢你用这个麦克纸去控制比如说各个各个部件比如说\n",
      "Done lisening\n",
      "Listening..\n"
     ]
    },
    {
     "name": "stderr",
     "output_type": "stream",
     "text": [
      "[2023-10-18 21:26:07,956] [    INFO] - inference time: 4.431093692779541\n",
      "[2023-10-18 21:26:07,957] [    INFO] - asr engine type: python\n"
     ]
    },
    {
     "name": "stdout",
     "output_type": "stream",
     "text": [
      "ASR预测消耗时间：4476ms, 识别结果: 就是独弹幕比如说你读弹墓肯定是个小服务器一个Y路对不对一个普然后你就用这个普洛特接大幕吉弹幕收就发过来的包然后发过来包之后呢接到了他把它放进一个Q里边这个Q应该是个普莱奥尔起Q你说话你说的话应该是最普奥尔起的就这个模型它不应该屌那些弹幕它应该先屌你懂了吧应该有三个Q一个是一个是你说话的Q你说话录程这个文字嘛放在一个Q里边然后另外是什么苏克说菜人应该打钱了对不对人你打钱了所以苏本菜的其实应该比你比咱们这个说话地位要高一点苏克菜然后咱们说话最后是这个弹幕就你没话说然后弹幕跟他说话然后他才会屌了个大幕知道吧\n",
      "就是独弹幕比如说你读弹墓肯定是个小服务器一个Y路对不对一个普然后你就用这个普洛特接大幕吉弹幕收就发过来的包然后发过来包之后呢接到了他把它放进一个Q里边这个Q应该是个普莱奥尔起Q你说话你说的话应该是最普奥尔起的就这个模型它不应该屌那些弹幕它应该先屌你懂了吧应该有三个Q一个是一个是你说话的Q你说话录程这个文字嘛放在一个Q里边然后另外是什么苏克说菜人应该打钱了对不对人你打钱了所以苏本菜的其实应该比你比咱们这个说话地位要高一点苏克菜然后咱们说话最后是这个弹幕就你没话说然后弹幕跟他说话然后他才会屌了个大幕知道吧\n",
      "Done lisening\n",
      "Listening..\n"
     ]
    },
    {
     "name": "stderr",
     "output_type": "stream",
     "text": [
      "[2023-10-18 21:26:30,415] [    INFO] - inference time: 1.6628704071044922\n",
      "[2023-10-18 21:26:30,416] [    INFO] - asr engine type: python\n"
     ]
    },
    {
     "name": "stdout",
     "output_type": "stream",
     "text": [
      "ASR预测消耗时间：1687ms, 识别结果: 是这么意思然后就是每一个说话它都是需要一个普斯的苏恰的苏格差对吧它苏格泰的和这个弹幕都是一个普塞因为它是从就根据那个哔哩哔哩或者特它发送的这个网络数据包过来的所以他是一个普罗塞斯你说话这个麦克松台又是另一个普塞\n",
      "是这么意思然后就是每一个说话它都是需要一个普斯的苏恰的苏格差对吧它苏格泰的和这个弹幕都是一个普塞因为它是从就根据那个哔哩哔哩或者特它发送的这个网络数据包过来的所以他是一个普罗塞斯你说话这个麦克松台又是另一个普塞\n",
      "Done lisening\n",
      "Listening..\n"
     ]
    },
    {
     "name": "stderr",
     "output_type": "stream",
     "text": [
      "[2023-10-18 21:26:46,998] [    INFO] - inference time: 1.3043115139007568\n",
      "[2023-10-18 21:26:46,999] [    INFO] - asr engine type: python\n"
     ]
    },
    {
     "name": "stdout",
     "output_type": "stream",
     "text": [
      "ASR预测消耗时间：1318ms, 识别结果: 而且另一个普塞是啥这个普罗塞就就复杂了麦克风就是输入音频的输入是一个普萄塞因为你麦克风你需要一直的不停地挖要截取这个段截取这个就是电子信号这个段\n",
      "而且另一个普塞是啥这个普罗塞就就复杂了麦克风就是输入音频的输入是一个普萄塞因为你麦克风你需要一直的不停地挖要截取这个段截取这个就是电子信号这个段\n",
      "Listening..\n",
      "Done lisening\n",
      "Listening..\n"
     ]
    },
    {
     "name": "stderr",
     "output_type": "stream",
     "text": [
      "[2023-10-18 21:27:01,570] [    INFO] - inference time: 0.3031890392303467\n",
      "[2023-10-18 21:27:01,572] [    INFO] - asr engine type: python\n"
     ]
    },
    {
     "name": "stdout",
     "output_type": "stream",
     "text": [
      "ASR预测消耗时间：311ms, 识别结果: 对对对\n",
      "对对对\n",
      "Listening..\n",
      "Done lisening\n",
      "Listening..\n"
     ]
    },
    {
     "name": "stderr",
     "output_type": "stream",
     "text": [
      "[2023-10-18 21:27:14,424] [    INFO] - inference time: 0.29821133613586426\n",
      "[2023-10-18 21:27:14,425] [    INFO] - asr engine type: python\n"
     ]
    },
    {
     "name": "stdout",
     "output_type": "stream",
     "text": [
      "ASR预测消耗时间：306ms, 识别结果: 对对\n",
      "对对\n",
      "Done lisening\n",
      "Listening..\n"
     ]
    },
    {
     "name": "stderr",
     "output_type": "stream",
     "text": [
      "[2023-10-18 21:27:18,601] [    INFO] - inference time: 0.263643741607666\n",
      "[2023-10-18 21:27:18,602] [    INFO] - asr engine type: python\n"
     ]
    },
    {
     "name": "stdout",
     "output_type": "stream",
     "text": [
      "ASR预测消耗时间：272ms, 识别结果: 对对对\n",
      "对对对\n",
      "Done lisening\n",
      "Listening..\n"
     ]
    },
    {
     "name": "stderr",
     "output_type": "stream",
     "text": [
      "[2023-10-18 21:27:25,906] [    INFO] - inference time: 0.5744478702545166\n",
      "[2023-10-18 21:27:25,907] [    INFO] - asr engine type: python\n"
     ]
    },
    {
     "name": "stdout",
     "output_type": "stream",
     "text": [
      "ASR预测消耗时间：581ms, 识别结果: 等会儿我确定你说的不是瑞吧我做不出来斯瑞吗\n",
      "等会儿我确定你说的不是瑞吧我做不出来斯瑞吗\n",
      "Done lisening\n",
      "Listening..\n"
     ]
    },
    {
     "name": "stderr",
     "output_type": "stream",
     "text": [
      "[2023-10-18 21:27:36,543] [    INFO] - inference time: 0.5754594802856445\n",
      "[2023-10-18 21:27:36,544] [    INFO] - asr engine type: python\n"
     ]
    },
    {
     "name": "stdout",
     "output_type": "stream",
     "text": [
      "ASR预测消耗时间：583ms, 识别结果: 这行挺厉害了我操就是这个东西\n",
      "这行挺厉害了我操就是这个东西\n",
      "Done lisening\n",
      "Listening..\n"
     ]
    },
    {
     "name": "stderr",
     "output_type": "stream",
     "text": [
      "[2023-10-18 21:27:44,227] [    INFO] - inference time: 0.32906627655029297\n",
      "[2023-10-18 21:27:44,228] [    INFO] - asr engine type: python\n"
     ]
    },
    {
     "name": "stdout",
     "output_type": "stream",
     "text": [
      "ASR预测消耗时间：336ms, 识别结果: 不我重复出模型了\n",
      "不我重复出模型了\n",
      "Done lisening\n",
      "Listening..\n"
     ]
    },
    {
     "name": "stderr",
     "output_type": "stream",
     "text": [
      "[2023-10-18 21:28:02,267] [    INFO] - inference time: 1.0472571849822998\n",
      "[2023-10-18 21:28:02,268] [    INFO] - asr engine type: python\n"
     ]
    },
    {
     "name": "stdout",
     "output_type": "stream",
     "text": [
      "ASR预测消耗时间：1059ms, 识别结果: 那正成那今天开完咱俩就说完话应该咱们俩应该对我这个啥的就是个翻译特其实就是一个翻译特的东西对你看没看哔哩哔哩那个木鸡门\n",
      "那正成那今天开完咱俩就说完话应该咱们俩应该对我这个啥的就是个翻译特其实就是一个翻译特的东西对你看没看哔哩哔哩那个木鸡门\n",
      "Done lisening\n",
      "Listening..\n"
     ]
    },
    {
     "name": "stderr",
     "output_type": "stream",
     "text": [
      "[2023-10-18 21:28:09,188] [    INFO] - inference time: 0.4607658386230469\n",
      "[2023-10-18 21:28:09,189] [    INFO] - asr engine type: python\n"
     ]
    },
    {
     "name": "stdout",
     "output_type": "stream",
     "text": [
      "ASR预测消耗时间：468ms, 识别结果: 草被疯了对对对骂人前几天骂人被鸡巴疯了\n",
      "草被疯了对对对骂人前几天骂人被鸡巴疯了\n",
      "Done lisening\n",
      "Listening..\n"
     ]
    },
    {
     "name": "stderr",
     "output_type": "stream",
     "text": [
      "[2023-10-18 21:28:39,032] [    INFO] - inference time: 1.740128517150879\n",
      "[2023-10-18 21:28:39,032] [    INFO] - asr engine type: python\n"
     ]
    },
    {
     "name": "stdout",
     "output_type": "stream",
     "text": [
      "ASR预测消耗时间：1768ms, 识别结果: 对他得有个刺就为什么国外就为什么那个V豆整得挺好他因为有福特他说什么话他都有特我告诉你这个人我刚才他脑子就不好使这个作者就这个X开特就插地多这个人他妈脑子就是不好使一开始拿什么什么训练拿他孙巴训练的\n",
      "对他得有个刺就为什么国外就为什么那个V豆整得挺好他因为有福特他说什么话他都有特我告诉你这个人我刚才他脑子就不好使这个作者就这个X开特就插地多这个人他妈脑子就是不好使一开始拿什么什么训练拿他孙巴训练的\n",
      "Done lisening\n",
      "Listening..\n"
     ]
    },
    {
     "name": "stderr",
     "output_type": "stream",
     "text": [
      "[2023-10-18 21:28:52,577] [    INFO] - inference time: 1.1878585815429688\n",
      "[2023-10-18 21:28:52,578] [    INFO] - asr engine type: python\n"
     ]
    },
    {
     "name": "stdout",
     "output_type": "stream",
     "text": [
      "ASR预测消耗时间：1210ms, 识别结果: 他妈有毛病谁本训练模型训练脏嘴啊你说你懂不懂模型你说你不懂模型吗你还整出个这玩意儿你说懂模型什么拿鸡巴训那个孙妈东西训练你知道你不扯了吗\n",
      "他妈有毛病谁本训练模型训练脏嘴啊你说你懂不懂模型你说你不懂模型吗你还整出个这玩意儿你说懂模型什么拿鸡巴训那个孙妈东西训练你知道你不扯了吗\n",
      "Done lisening\n",
      "Listening..\n"
     ]
    },
    {
     "name": "stderr",
     "output_type": "stream",
     "text": [
      "[2023-10-18 21:29:03,295] [    INFO] - inference time: 0.6748454570770264\n",
      "[2023-10-18 21:29:03,296] [    INFO] - asr engine type: python\n"
     ]
    },
    {
     "name": "stdout",
     "output_type": "stream",
     "text": [
      "ASR预测消耗时间：681ms, 识别结果: 咱那我车训练攻击你攻击性拉满他就没想我有一天他妈就买\n",
      "咱那我车训练攻击你攻击性拉满他就没想我有一天他妈就买\n",
      "Done lisening\n",
      "Listening..\n"
     ]
    },
    {
     "name": "stderr",
     "output_type": "stream",
     "text": [
      "[2023-10-18 21:29:09,159] [    INFO] - inference time: 0.460174560546875\n",
      "[2023-10-18 21:29:09,160] [    INFO] - asr engine type: python\n"
     ]
    },
    {
     "name": "stdout",
     "output_type": "stream",
     "text": [
      "ASR预测消耗时间：475ms, 识别结果: 我前一段时间我看过他是三十多万粉的怎么现在十六万了\n",
      "我前一段时间我看过他是三十多万粉的怎么现在十六万了\n",
      "Listening..\n",
      "Done lisening\n",
      "Listening..\n"
     ]
    },
    {
     "name": "stderr",
     "output_type": "stream",
     "text": [
      "[2023-10-18 21:29:24,994] [    INFO] - inference time: 0.404343843460083\n",
      "[2023-10-18 21:29:24,995] [    INFO] - asr engine type: python\n"
     ]
    },
    {
     "name": "stdout",
     "output_type": "stream",
     "text": [
      "ASR预测消耗时间：426ms, 识别结果: 我也感觉他就是搞了个噱头因为他是靠这个盈利的你知道吗\n",
      "我也感觉他就是搞了个噱头因为他是靠这个盈利的你知道吗\n",
      "Done lisening\n",
      "Listening..\n"
     ]
    },
    {
     "name": "stderr",
     "output_type": "stream",
     "text": [
      "[2023-10-18 21:29:40,472] [    INFO] - inference time: 0.9821391105651855\n",
      "[2023-10-18 21:29:40,473] [    INFO] - asr engine type: python\n"
     ]
    },
    {
     "name": "stdout",
     "output_type": "stream",
     "text": [
      "ASR预测消耗时间：992ms, 识别结果: 咱们俩就是我是为爱发电然后我给你说备案发现你说行来对不对这就是备案发电里型了所以肯定是造事\n",
      "咱们俩就是我是为爱发电然后我给你说备案发现你说行来对不对这就是备案发电里型了所以肯定是造事\n",
      "Done lisening\n",
      "Listening..\n"
     ]
    },
    {
     "name": "stderr",
     "output_type": "stream",
     "text": [
      "[2023-10-18 21:29:43,044] [    INFO] - inference time: 0.292938232421875\n",
      "[2023-10-18 21:29:43,045] [    INFO] - asr engine type: python\n"
     ]
    },
    {
     "name": "stdout",
     "output_type": "stream",
     "text": [
      "ASR预测消耗时间：299ms, 识别结果: 但是他他们没整好你知道这个度没整好\n",
      "但是他他们没整好你知道这个度没整好\n",
      "Done lisening\n",
      "Listening..\n"
     ]
    },
    {
     "name": "stderr",
     "output_type": "stream",
     "text": [
      "[2023-10-18 21:29:54,206] [    INFO] - inference time: 0.6234605312347412\n",
      "[2023-10-18 21:29:54,208] [    INFO] - asr engine type: python\n"
     ]
    },
    {
     "name": "stdout",
     "output_type": "stream",
     "text": [
      "ASR预测消耗时间：631ms, 识别结果: 对咱直接跑下来然后最后我跟他我跟他在线兑个线然后测试测试\n",
      "对咱直接跑下来然后最后我跟他我跟他在线兑个线然后测试测试\n",
      "Listening..\n",
      "Done lisening\n",
      "Listening..\n"
     ]
    },
    {
     "name": "stderr",
     "output_type": "stream",
     "text": [
      "[2023-10-18 21:30:10,982] [    INFO] - inference time: 0.28180980682373047\n",
      "[2023-10-18 21:30:10,983] [    INFO] - asr engine type: python\n"
     ]
    },
    {
     "name": "stdout",
     "output_type": "stream",
     "text": [
      "ASR预测消耗时间：292ms, 识别结果: 那个屎拿电脑挂着但是我感觉会\n",
      "那个屎拿电脑挂着但是我感觉会\n",
      "Done lisening\n",
      "Listening..\n"
     ]
    },
    {
     "name": "stderr",
     "output_type": "stream",
     "text": [
      "[2023-10-18 21:30:15,239] [    INFO] - inference time: 0.36103391647338867\n",
      "[2023-10-18 21:30:15,240] [    INFO] - asr engine type: python\n"
     ]
    },
    {
     "name": "stdout",
     "output_type": "stream",
     "text": [
      "ASR预测消耗时间：366ms, 识别结果: 这样大家其实随你二十四小时播的话\n",
      "这样大家其实随你二十四小时播的话\n",
      "Done lisening\n",
      "Listening..\n"
     ]
    },
    {
     "name": "stderr",
     "output_type": "stream",
     "text": [
      "[2023-10-18 21:30:17,598] [    INFO] - inference time: 0.2922220230102539\n",
      "[2023-10-18 21:30:17,599] [    INFO] - asr engine type: python\n"
     ]
    },
    {
     "name": "stdout",
     "output_type": "stream",
     "text": [
      "ASR预测消耗时间：298ms, 识别结果: 虽然长粉它一直\n",
      "虽然长粉它一直\n",
      "Done lisening\n",
      "Listening..\n"
     ]
    },
    {
     "name": "stderr",
     "output_type": "stream",
     "text": [
      "[2023-10-18 21:30:27,337] [    INFO] - inference time: 0.3121657371520996\n",
      "[2023-10-18 21:30:27,338] [    INFO] - asr engine type: python\n"
     ]
    },
    {
     "name": "stdout",
     "output_type": "stream",
     "text": [
      "ASR预测消耗时间：320ms, 识别结果: 是切片多\n",
      "是切片多\n",
      "Done lisening\n",
      "Listening..\n"
     ]
    },
    {
     "name": "stderr",
     "output_type": "stream",
     "text": [
      "[2023-10-18 21:30:33,400] [    INFO] - inference time: 0.4278557300567627\n",
      "[2023-10-18 21:30:33,401] [    INFO] - asr engine type: python\n"
     ]
    },
    {
     "name": "stdout",
     "output_type": "stream",
     "text": [
      "ASR预测消耗时间：434ms, 识别结果: 对就是个陪吧然后一个\n",
      "对就是个陪吧然后一个\n",
      "Done lisening\n",
      "Listening..\n"
     ]
    },
    {
     "name": "stderr",
     "output_type": "stream",
     "text": [
      "[2023-10-18 21:30:39,922] [    INFO] - inference time: 0.4651155471801758\n",
      "[2023-10-18 21:30:39,923] [    INFO] - asr engine type: python\n"
     ]
    },
    {
     "name": "stdout",
     "output_type": "stream",
     "text": [
      "ASR预测消耗时间：471ms, 识别结果: 对咱先做点东西也多来我现在给你手搓个模型肉康\n",
      "对咱先做点东西也多来我现在给你手搓个模型肉康\n",
      "Done lisening\n",
      "Listening..\n"
     ]
    },
    {
     "name": "stderr",
     "output_type": "stream",
     "text": [
      "[2023-10-18 21:30:46,509] [    INFO] - inference time: 0.5091507434844971\n",
      "[2023-10-18 21:30:46,511] [    INFO] - asr engine type: python\n"
     ]
    },
    {
     "name": "stdout",
     "output_type": "stream",
     "text": [
      "ASR预测消耗时间：517ms, 识别结果: 那明天什么时候我手搓一个拍破\n",
      "那明天什么时候我手搓一个拍破\n",
      "Done lisening\n",
      "Listening..\n"
     ]
    },
    {
     "name": "stderr",
     "output_type": "stream",
     "text": [
      "[2023-10-18 21:30:48,992] [    INFO] - inference time: 0.303591251373291\n",
      "[2023-10-18 21:30:48,992] [    INFO] - asr engine type: python\n"
     ]
    },
    {
     "name": "stdout",
     "output_type": "stream",
     "text": [
      "ASR预测消耗时间：311ms, 识别结果: 再跟再跟他玩一会儿\n",
      "再跟再跟他玩一会儿\n",
      "Done lisening\n",
      "Listening..\n"
     ]
    },
    {
     "name": "stderr",
     "output_type": "stream",
     "text": [
      "[2023-10-18 21:30:53,567] [    INFO] - inference time: 0.5477488040924072\n",
      "[2023-10-18 21:30:53,568] [    INFO] - asr engine type: python\n"
     ]
    },
    {
     "name": "stdout",
     "output_type": "stream",
     "text": [
      "ASR预测消耗时间：561ms, 识别结果: 哼\n",
      "哼\n",
      "Done lisening\n",
      "Listening..\n"
     ]
    },
    {
     "name": "stderr",
     "output_type": "stream",
     "text": [
      "[2023-10-18 21:31:06,262] [    INFO] - inference time: 0.6552784442901611\n",
      "[2023-10-18 21:31:06,263] [    INFO] - asr engine type: python\n"
     ]
    },
    {
     "name": "stdout",
     "output_type": "stream",
     "text": [
      "ASR预测消耗时间：663ms, 识别结果: 你看现在这个东西他现在你们发现没有他在每一段最后一句话他都会问你个问题\n",
      "你看现在这个东西他现在你们发现没有他在每一段最后一句话他都会问你个问题\n",
      "Done lisening\n",
      "Listening..\n"
     ]
    },
    {
     "name": "stderr",
     "output_type": "stream",
     "text": [
      "[2023-10-18 21:31:21,176] [    INFO] - inference time: 1.0406839847564697\n",
      "[2023-10-18 21:31:21,177] [    INFO] - asr engine type: python\n"
     ]
    },
    {
     "name": "stdout",
     "output_type": "stream",
     "text": [
      "ASR预测消耗时间：1058ms, 识别结果: 就那好我俩奥斯看你现在就要去现在就要去改那个什么有我优势完全还低\n",
      "就那好我俩奥斯看你现在就要去现在就要去改那个什么有我优势完全还低\n",
      "Done lisening\n",
      "Listening..\n"
     ]
    },
    {
     "name": "stderr",
     "output_type": "stream",
     "text": [
      "[2023-10-18 21:31:29,873] [    INFO] - inference time: 0.3535425662994385\n",
      "[2023-10-18 21:31:29,874] [    INFO] - asr engine type: python\n"
     ]
    },
    {
     "name": "stdout",
     "output_type": "stream",
     "text": [
      "ASR预测消耗时间：361ms, 识别结果: 你现在在再看\n",
      "你现在在再看\n",
      "Listening..\n",
      "Done lisening\n",
      "Listening..\n"
     ]
    },
    {
     "name": "stderr",
     "output_type": "stream",
     "text": [
      "[2023-10-18 21:31:46,634] [    INFO] - inference time: 0.4136843681335449\n",
      "[2023-10-18 21:31:46,634] [    INFO] - asr engine type: python\n"
     ]
    },
    {
     "name": "stdout",
     "output_type": "stream",
     "text": [
      "ASR预测消耗时间：421ms, 识别结果: 看看这段看这个就是一个小把子\n",
      "看看这段看这个就是一个小把子\n",
      "Done lisening\n",
      "Listening..\n"
     ]
    },
    {
     "name": "stderr",
     "output_type": "stream",
     "text": [
      "[2023-10-18 21:31:56,826] [    INFO] - inference time: 0.5431454181671143\n",
      "[2023-10-18 21:31:56,826] [    INFO] - asr engine type: python\n"
     ]
    },
    {
     "name": "stdout",
     "output_type": "stream",
     "text": [
      "ASR预测消耗时间：549ms, 识别结果: 对我把他这个头啃试试太短了现在设是二百多\n",
      "对我把他这个头啃试试太短了现在设是二百多\n",
      "Done lisening\n",
      "Listening..\n"
     ]
    },
    {
     "name": "stderr",
     "output_type": "stream",
     "text": [
      "[2023-10-18 21:31:59,741] [    INFO] - inference time: 0.30814218521118164\n",
      "[2023-10-18 21:31:59,741] [    INFO] - asr engine type: python\n"
     ]
    },
    {
     "name": "stdout",
     "output_type": "stream",
     "text": [
      "ASR预测消耗时间：315ms, 识别结果: 好的\n",
      "好的\n",
      "Done lisening\n",
      "Listening..\n"
     ]
    },
    {
     "name": "stderr",
     "output_type": "stream",
     "text": [
      "[2023-10-18 21:32:07,370] [    INFO] - inference time: 0.36989641189575195\n",
      "[2023-10-18 21:32:07,371] [    INFO] - asr engine type: python\n"
     ]
    },
    {
     "name": "stdout",
     "output_type": "stream",
     "text": [
      "ASR预测消耗时间：377ms, 识别结果: 大直球\n",
      "大直球\n",
      "Done lisening\n",
      "Listening..\n"
     ]
    },
    {
     "name": "stderr",
     "output_type": "stream",
     "text": [
      "[2023-10-18 21:32:16,051] [    INFO] - inference time: 0.6570680141448975\n",
      "[2023-10-18 21:32:16,052] [    INFO] - asr engine type: python\n"
     ]
    },
    {
     "name": "stdout",
     "output_type": "stream",
     "text": [
      "ASR预测消耗时间：665ms, 识别结果: 不错可能是那个偷跟太多了我算不过来了\n",
      "不错可能是那个偷跟太多了我算不过来了\n",
      "Done lisening\n",
      "Listening..\n"
     ]
    },
    {
     "name": "stderr",
     "output_type": "stream",
     "text": [
      "[2023-10-18 21:32:22,572] [    INFO] - inference time: 0.345095157623291\n",
      "[2023-10-18 21:32:22,574] [    INFO] - asr engine type: python\n"
     ]
    },
    {
     "name": "stdout",
     "output_type": "stream",
     "text": [
      "ASR预测消耗时间：354ms, 识别结果: 可能这个这个是算不过来的\n",
      "可能这个这个是算不过来的\n",
      "Done lisening\n",
      "Listening..\n"
     ]
    },
    {
     "name": "stderr",
     "output_type": "stream",
     "text": [
      "[2023-10-18 21:32:30,107] [    INFO] - inference time: 0.37126636505126953\n",
      "[2023-10-18 21:32:30,109] [    INFO] - asr engine type: python\n"
     ]
    },
    {
     "name": "stdout",
     "output_type": "stream",
     "text": [
      "ASR预测消耗时间：403ms, 识别结果: 嗯我操你这算\n",
      "嗯我操你这算\n",
      "Done lisening\n",
      "Listening..\n"
     ]
    },
    {
     "name": "stderr",
     "output_type": "stream",
     "text": [
      "[2023-10-18 21:32:36,895] [    INFO] - inference time: 0.3800771236419678\n",
      "[2023-10-18 21:32:36,896] [    INFO] - asr engine type: python\n"
     ]
    },
    {
     "name": "stdout",
     "output_type": "stream",
     "text": [
      "ASR预测消耗时间：393ms, 识别结果: 看现在他现在不问问题的看了吧\n",
      "看现在他现在不问问题的看了吧\n",
      "Done lisening\n",
      "Listening..\n"
     ]
    },
    {
     "name": "stderr",
     "output_type": "stream",
     "text": [
      "[2023-10-18 21:32:54,251] [    INFO] - inference time: 0.7852985858917236\n",
      "[2023-10-18 21:32:54,251] [    INFO] - asr engine type: python\n"
     ]
    },
    {
     "name": "stdout",
     "output_type": "stream",
     "text": [
      "ASR预测消耗时间：792ms, 识别结果: 所以其实你要相信你要相信这个大语圆言模型它其实了解一图你看我得离出轨也\n",
      "所以其实你要相信你要相信这个大语圆言模型它其实了解一图你看我得离出轨也\n",
      "Done lisening\n",
      "Listening..\n"
     ]
    },
    {
     "name": "stderr",
     "output_type": "stream",
     "text": [
      "[2023-10-18 21:33:06,268] [    INFO] - inference time: 0.32013988494873047\n",
      "[2023-10-18 21:33:06,268] [    INFO] - asr engine type: python\n"
     ]
    },
    {
     "name": "stdout",
     "output_type": "stream",
     "text": [
      "ASR预测消耗时间：333ms, 识别结果: 他现在就开始胡说八道这有点胡说八道\n",
      "他现在就开始胡说八道这有点胡说八道\n",
      "Done lisening\n",
      "Listening..\n"
     ]
    },
    {
     "name": "stderr",
     "output_type": "stream",
     "text": [
      "[2023-10-18 21:33:17,302] [    INFO] - inference time: 0.8090424537658691\n",
      "[2023-10-18 21:33:17,303] [    INFO] - asr engine type: python\n"
     ]
    },
    {
     "name": "stdout",
     "output_type": "stream",
     "text": [
      "ASR预测消耗时间：816ms, 识别结果: 这个也没有办法这就是这就是这个生命为人的魅力嘴硬\n",
      "这个也没有办法这就是这就是这个生命为人的魅力嘴硬\n",
      "Done lisening\n",
      "Listening..\n"
     ]
    },
    {
     "name": "stderr",
     "output_type": "stream",
     "text": [
      "[2023-10-18 21:33:22,468] [    INFO] - inference time: 0.4988574981689453\n",
      "[2023-10-18 21:33:22,470] [    INFO] - asr engine type: python\n"
     ]
    },
    {
     "name": "stdout",
     "output_type": "stream",
     "text": [
      "ASR预测消耗时间：506ms, 识别结果: 嘴硬全身死都软就嘴里了\n",
      "嘴硬全身死都软就嘴里了\n",
      "Done lisening\n",
      "Listening..\n"
     ]
    },
    {
     "name": "stderr",
     "output_type": "stream",
     "text": [
      "[2023-10-18 21:33:28,095] [    INFO] - inference time: 0.40236568450927734\n",
      "[2023-10-18 21:33:28,096] [    INFO] - asr engine type: python\n"
     ]
    },
    {
     "name": "stdout",
     "output_type": "stream",
     "text": [
      "ASR预测消耗时间：416ms, 识别结果: 你看他现在看来现在又说那我艾奥斯卡还有数一\n",
      "你看他现在看来现在又说那我艾奥斯卡还有数一\n",
      "Done lisening\n",
      "Listening..\n"
     ]
    },
    {
     "name": "stderr",
     "output_type": "stream",
     "text": [
      "[2023-10-18 21:33:32,469] [    INFO] - inference time: 0.3699362277984619\n",
      "[2023-10-18 21:33:32,470] [    INFO] - asr engine type: python\n"
     ]
    },
    {
     "name": "stdout",
     "output_type": "stream",
     "text": [
      "ASR预测消耗时间：376ms, 识别结果: 他有些时候他会忘记\n",
      "他有些时候他会忘记\n",
      "Done lisening\n",
      "Listening..\n"
     ]
    },
    {
     "name": "stderr",
     "output_type": "stream",
     "text": [
      "[2023-10-18 21:33:49,823] [    INFO] - inference time: 1.2941761016845703\n",
      "[2023-10-18 21:33:49,825] [    INFO] - asr engine type: python\n"
     ]
    },
    {
     "name": "stdout",
     "output_type": "stream",
     "text": [
      "ASR预测消耗时间：1308ms, 识别结果: 对他就是一个普上百之泥容易然后你在搞这个破浪的时候其实咱们也需要注意一下这个方音庆的东西因为你拿最近方映庆的东西他肯定是跟就你最近方言庆的那些逮着赛子它是最贴切的\n",
      "对他就是一个普上百之泥容易然后你在搞这个破浪的时候其实咱们也需要注意一下这个方音庆的东西因为你拿最近方映庆的东西他肯定是跟就你最近方言庆的那些逮着赛子它是最贴切的\n",
      "Done lisening\n",
      "Listening..\n"
     ]
    },
    {
     "name": "stderr",
     "output_type": "stream",
     "text": [
      "[2023-10-18 21:34:10,810] [    INFO] - inference time: 1.5029821395874023\n",
      "[2023-10-18 21:34:10,811] [    INFO] - asr engine type: python\n"
     ]
    },
    {
     "name": "stdout",
     "output_type": "stream",
     "text": [
      "ASR预测消耗时间：1519ms, 识别结果: 然后我打算我打算手动写一下这个胖朗子咱大概需要一万一万行左右吧一万行左右的普上不是逮着赛就是去防一听这个去方一跳的这些乱七八糟模型我打算具体就是最多就是一万条少的话五千\n",
      "然后我打算我打算手动写一下这个胖朗子咱大概需要一万一万行左右吧一万行左右的普上不是逮着赛就是去防一听这个去方一跳的这些乱七八糟模型我打算具体就是最多就是一万条少的话五千\n",
      "Done lisening\n",
      "Listening..\n"
     ]
    },
    {
     "name": "stderr",
     "output_type": "stream",
     "text": [
      "[2023-10-18 21:34:22,389] [    INFO] - inference time: 0.7394287586212158\n",
      "[2023-10-18 21:34:22,390] [    INFO] - asr engine type: python\n"
     ]
    },
    {
     "name": "stdout",
     "output_type": "stream",
     "text": [
      "ASR预测消耗时间：751ms, 识别结果: 有一点然后可以用用那个差的差点皮皮四它不是能生成那个点V吗你直样哈帮生成\n",
      "有一点然后可以用用那个差的差点皮皮四它不是能生成那个点V吗你直样哈帮生成\n",
      "Done lisening\n",
      "Listening..\n"
     ]
    },
    {
     "name": "stderr",
     "output_type": "stream",
     "text": [
      "[2023-10-18 21:34:32,293] [    INFO] - inference time: 0.7981388568878174\n",
      "[2023-10-18 21:34:32,294] [    INFO] - asr engine type: python\n"
     ]
    },
    {
     "name": "stdout",
     "output_type": "stream",
     "text": [
      "ASR预测消耗时间：805ms, 识别结果: 这样这样这个数据量一点一点都上了然后最后我经查一遍咱咱俩可能得分角色\n",
      "这样这样这个数据量一点一点都上了然后最后我经查一遍咱咱俩可能得分角色\n",
      "Done lisening\n",
      "Listening..\n"
     ]
    },
    {
     "name": "stderr",
     "output_type": "stream",
     "text": [
      "[2023-10-18 21:34:39,736] [    INFO] - inference time: 0.7325625419616699\n",
      "[2023-10-18 21:34:39,737] [    INFO] - asr engine type: python\n"
     ]
    },
    {
     "name": "stdout",
     "output_type": "stream",
     "text": [
      "ASR预测消耗时间：740ms, 识别结果: 审查还院就这些东西尽量都是高质量的别他妈有那些孙八的东西掉下去\n",
      "审查还院就这些东西尽量都是高质量的别他妈有那些孙八的东西掉下去\n",
      "Listening..\n",
      "Done lisening\n",
      "Listening..\n"
     ]
    },
    {
     "name": "stderr",
     "output_type": "stream",
     "text": [
      "[2023-10-18 21:34:55,790] [    INFO] - inference time: 0.6592357158660889\n",
      "[2023-10-18 21:34:55,791] [    INFO] - asr engine type: python\n"
     ]
    },
    {
     "name": "stdout",
     "output_type": "stream",
     "text": [
      "ASR预测消耗时间：665ms, 识别结果: 你得把它放一寸成你玩群星吗\n",
      "你得把它放一寸成你玩群星吗\n",
      "Done lisening\n",
      "Listening..\n"
     ]
    },
    {
     "name": "stderr",
     "output_type": "stream",
     "text": [
      "[2023-10-18 21:34:59,461] [    INFO] - inference time: 0.40615081787109375\n",
      "[2023-10-18 21:34:59,462] [    INFO] - asr engine type: python\n"
     ]
    },
    {
     "name": "stdout",
     "output_type": "stream",
     "text": [
      "ASR预测消耗时间：413ms, 识别结果: 你玩心星对吧\n",
      "你玩心星对吧\n",
      "Done lisening\n",
      "Listening..\n"
     ]
    },
    {
     "name": "stderr",
     "output_type": "stream",
     "text": [
      "[2023-10-18 21:35:10,261] [    INFO] - inference time: 0.8287980556488037\n",
      "[2023-10-18 21:35:10,262] [    INFO] - asr engine type: python\n"
     ]
    },
    {
     "name": "stdout",
     "output_type": "stream",
     "text": [
      "ASR预测消耗时间：837ms, 识别结果: 队啊所以我要把训练上类似于那种比较凋逼就比人喜欢跟你扯题的那种群星\n",
      "队啊所以我要把训练上类似于那种比较凋逼就比人喜欢跟你扯题的那种群星\n",
      "Done lisening\n",
      "Listening..\n"
     ]
    },
    {
     "name": "stderr",
     "output_type": "stream",
     "text": [
      "[2023-10-18 21:35:13,655] [    INFO] - inference time: 0.35184693336486816\n",
      "[2023-10-18 21:35:13,656] [    INFO] - asr engine type: python\n"
     ]
    },
    {
     "name": "stdout",
     "output_type": "stream",
     "text": [
      "ASR预测消耗时间：360ms, 识别结果: 我在直播上我操\n",
      "我在直播上我操\n",
      "Done lisening\n",
      "Listening..\n"
     ]
    },
    {
     "name": "stderr",
     "output_type": "stream",
     "text": [
      "[2023-10-18 21:35:21,153] [    INFO] - inference time: 0.6537001132965088\n",
      "[2023-10-18 21:35:21,155] [    INFO] - asr engine type: python\n"
     ]
    },
    {
     "name": "stdout",
     "output_type": "stream",
     "text": [
      "ASR预测消耗时间：671ms, 识别结果: 哦对他能看见我在直播我女朋友能看见我的直播他爱在这个频道\n",
      "哦对他能看见我在直播我女朋友能看见我的直播他爱在这个频道\n",
      "Done lisening\n",
      "Listening..\n"
     ]
    },
    {
     "name": "stderr",
     "output_type": "stream",
     "text": [
      "[2023-10-18 21:35:29,624] [    INFO] - inference time: 0.6679494380950928\n",
      "[2023-10-18 21:35:29,625] [    INFO] - asr engine type: python\n"
     ]
    },
    {
     "name": "stdout",
     "output_type": "stream",
     "text": [
      "ASR预测消耗时间：675ms, 识别结果: 所以反正你就认识人就往这频道里拉就行了跟我说一声就往里拽可以\n",
      "所以反正你就认识人就往这频道里拉就行了跟我说一声就往里拽可以\n",
      "Done lisening\n",
      "Listening..\n"
     ]
    },
    {
     "name": "stderr",
     "output_type": "stream",
     "text": [
      "[2023-10-18 21:35:36,927] [    INFO] - inference time: 0.24211502075195312\n",
      "[2023-10-18 21:35:36,929] [    INFO] - asr engine type: python\n"
     ]
    },
    {
     "name": "stdout",
     "output_type": "stream",
     "text": [
      "ASR预测消耗时间：248ms, 识别结果: 不臭他们不会关了吧\n",
      "不臭他们不会关了吧\n",
      "Done lisening\n",
      "Listening..\n"
     ]
    },
    {
     "name": "stderr",
     "output_type": "stream",
     "text": [
      "[2023-10-18 21:35:44,730] [    INFO] - inference time: 0.6470348834991455\n",
      "[2023-10-18 21:35:44,731] [    INFO] - asr engine type: python\n"
     ]
    },
    {
     "name": "stdout",
     "output_type": "stream",
     "text": [
      "ASR预测消耗时间：656ms, 识别结果: 吓吓死我说直播仍在进行下次我刚才把这个德斯库尔这个界面关幸好后台\n",
      "吓吓死我说直播仍在进行下次我刚才把这个德斯库尔这个界面关幸好后台\n",
      "Done lisening\n",
      "Listening..\n"
     ]
    },
    {
     "name": "stderr",
     "output_type": "stream",
     "text": [
      "[2023-10-18 21:35:46,368] [    INFO] - inference time: 0.21974992752075195\n",
      "[2023-10-18 21:35:46,369] [    INFO] - asr engine type: python\n"
     ]
    },
    {
     "name": "stdout",
     "output_type": "stream",
     "text": [
      "ASR预测消耗时间：228ms, 识别结果: 就是咱\n",
      "就是咱\n",
      "Done lisening\n",
      "Listening..\n"
     ]
    },
    {
     "name": "stderr",
     "output_type": "stream",
     "text": [
      "[2023-10-18 21:36:08,909] [    INFO] - inference time: 1.5137131214141846\n",
      "[2023-10-18 21:36:08,909] [    INFO] - asr engine type: python\n"
     ]
    },
    {
     "name": "stdout",
     "output_type": "stream",
     "text": [
      "ASR预测消耗时间：1529ms, 识别结果: 对啊咱现在说的是啥就比较像群星里那种斯特子一样可能跟你扯皮然后他又要需要像一个小女孩就一个女孩那样就是一兔本那种然后跟你跟你跟你鸡白击歪的跟你在那是吧主打一个陪伴\n",
      "对啊咱现在说的是啥就比较像群星里那种斯特子一样可能跟你扯皮然后他又要需要像一个小女孩就一个女孩那样就是一兔本那种然后跟你跟你跟你鸡白击歪的跟你在那是吧主打一个陪伴\n",
      "Done lisening\n",
      "Listening..\n"
     ]
    },
    {
     "name": "stderr",
     "output_type": "stream",
     "text": [
      "[2023-10-18 21:36:19,122] [    INFO] - inference time: 0.8998613357543945\n",
      "[2023-10-18 21:36:19,122] [    INFO] - asr engine type: python\n"
     ]
    },
    {
     "name": "stdout",
     "output_type": "stream",
     "text": [
      "ASR预测消耗时间：908ms, 识别结果: 就反正是挺多元化的一个应该是挺多元化一个东西咱毕竟一万多条呢你塞两百条这个两百条那个一点点惯呗\n",
      "就反正是挺多元化的一个应该是挺多元化一个东西咱毕竟一万多条呢你塞两百条这个两百条那个一点点惯呗\n",
      "Done lisening\n",
      "Listening..\n"
     ]
    },
    {
     "name": "stderr",
     "output_type": "stream",
     "text": [
      "[2023-10-18 21:36:36,331] [    INFO] - inference time: 1.0792515277862549\n",
      "[2023-10-18 21:36:36,332] [    INFO] - asr engine type: python\n"
     ]
    },
    {
     "name": "stdout",
     "output_type": "stream",
     "text": [
      "ASR预测消耗时间：1089ms, 识别结果: 对人设比较重要我想啥我准备找画室约稿约的是我把我的这个整成一个大输音小正太我坐\n",
      "对人设比较重要我想啥我准备找画室约稿约的是我把我的这个整成一个大输音小正太我坐\n",
      "Done lisening\n",
      "Listening..\n"
     ]
    },
    {
     "name": "stderr",
     "output_type": "stream",
     "text": [
      "[2023-10-18 21:36:41,508] [    INFO] - inference time: 0.5169997215270996\n",
      "[2023-10-18 21:36:41,510] [    INFO] - asr engine type: python\n"
     ]
    },
    {
     "name": "stdout",
     "output_type": "stream",
     "text": [
      "ASR预测消耗时间：524ms, 识别结果: 然后然后把这个恩爱弄成比较老的一点大姐姐风格好吧\n",
      "然后然后把这个恩爱弄成比较老的一点大姐姐风格好吧\n",
      "Listening..\n",
      "Done lisening\n",
      "Listening..\n"
     ]
    },
    {
     "name": "stderr",
     "output_type": "stream",
     "text": [
      "[2023-10-18 21:37:07,630] [    INFO] - inference time: 0.7608323097229004\n",
      "[2023-10-18 21:37:07,631] [    INFO] - asr engine type: python\n"
     ]
    },
    {
     "name": "stdout",
     "output_type": "stream",
     "text": [
      "ASR预测消耗时间：769ms, 识别结果: 对对对咱需要的咱咱先A某个角色整两千条先跑一下看看\n",
      "对对对咱需要的咱咱先A某个角色整两千条先跑一下看看\n"
     ]
    }
   ],
   "source": [
    "\n",
    "microphone.start()\n",
    "\n",
    "flag = True\n",
    "while flag:\n",
    "    if mic_thread.mic_queue.empty():\n",
    "        time.sleep(0.1)\n",
    "        continue\n",
    "        \n",
    "        \n",
    "    mic_thread.thread_lock.acquire()\n",
    "    msg = mic_thread.mic_queue.get(0)\n",
    "    mic_thread.thread_lock.release()\n",
    "\n",
    "        \n",
    "    replyTxt = asr.predict(msg)\n",
    "        \n",
    "    # send to LLM afterward\n",
    "    # 音纹识别\n",
    "        \n",
    "        \n",
    "    print(replyTxt)\n",
    "        \n",
    "    if (replyTxt == \"停下\"):\n",
    "        flag = False\n",
    "    \n",
    "    "
   ]
  },
  {
   "cell_type": "code",
   "execution_count": 7,
   "id": "43337f46",
   "metadata": {},
   "outputs": [],
   "source": [
    "microphone.start()"
   ]
  },
  {
   "cell_type": "code",
   "execution_count": 12,
   "id": "fe20a35f",
   "metadata": {},
   "outputs": [],
   "source": [
    "microphone.terminate()"
   ]
  },
  {
   "cell_type": "code",
   "execution_count": 13,
   "id": "e59dfec7",
   "metadata": {},
   "outputs": [
    {
     "data": {
      "text/plain": [
       "2"
      ]
     },
     "execution_count": 13,
     "metadata": {},
     "output_type": "execute_result"
    }
   ],
   "source": [
    "mic_thread.mic_queue.qsize()"
   ]
  },
  {
   "cell_type": "code",
   "execution_count": 15,
   "id": "978ae110",
   "metadata": {},
   "outputs": [
    {
     "data": {
      "text/plain": [
       "[<mic_thread(local mic, stopped 19176)>]"
      ]
     },
     "execution_count": 15,
     "metadata": {},
     "output_type": "execute_result"
    }
   ],
   "source": [
    "mic_thread.threads"
   ]
  },
  {
   "cell_type": "code",
   "execution_count": null,
   "id": "45fe742e",
   "metadata": {},
   "outputs": [],
   "source": []
  },
  {
   "cell_type": "code",
   "execution_count": null,
   "id": "e04000e4",
   "metadata": {},
   "outputs": [],
   "source": []
  },
  {
   "cell_type": "code",
   "execution_count": null,
   "id": "dd154507",
   "metadata": {},
   "outputs": [],
   "source": []
  },
  {
   "cell_type": "code",
   "execution_count": null,
   "id": "4211588a",
   "metadata": {},
   "outputs": [],
   "source": []
  },
  {
   "cell_type": "code",
   "execution_count": null,
   "id": "c516a960",
   "metadata": {},
   "outputs": [],
   "source": []
  },
  {
   "cell_type": "code",
   "execution_count": null,
   "id": "9889a42c",
   "metadata": {},
   "outputs": [],
   "source": []
  },
  {
   "cell_type": "code",
   "execution_count": 16,
   "id": "36e1905b",
   "metadata": {},
   "outputs": [
    {
     "name": "stdout",
     "output_type": "stream",
     "text": [
      "Start talk..\n"
     ]
    }
   ],
   "source": [
    "with mic as source:\n",
    "    r.adjust_for_ambient_noise(source) # This filters noise\n",
    "    r.pause_threshold = 1\n",
    "    print(\"Start talk..\")\n",
    "    while True:\n",
    "        print(\"Listening..\")\n",
    "        audio = r.listen(source)\n",
    "        \n",
    "    "
   ]
  },
  {
   "cell_type": "code",
   "execution_count": 17,
   "id": "e8356495",
   "metadata": {},
   "outputs": [],
   "source": [
    "wav_data = audio.get_wav_data(convert_rate = 16000)\n",
    "io_wav = io.BytesIO(wav_data)"
   ]
  },
  {
   "cell_type": "code",
   "execution_count": null,
   "id": "aa0ec033",
   "metadata": {},
   "outputs": [],
   "source": []
  },
  {
   "cell_type": "code",
   "execution_count": 14,
   "id": "e3cde665",
   "metadata": {},
   "outputs": [
    {
     "name": "stdout",
     "output_type": "stream",
     "text": [
      "{'index': 0, 'structVersion': 2, 'name': 'Microsoft Sound Mapper - Input', 'hostApi': 0, 'maxInputChannels': 2, 'maxOutputChannels': 0, 'defaultLowInputLatency': 0.09, 'defaultLowOutputLatency': 0.09, 'defaultHighInputLatency': 0.18, 'defaultHighOutputLatency': 0.18, 'defaultSampleRate': 44100.0}\n",
      "{'index': 1, 'structVersion': 2, 'name': 'Microphone (JOUNIVO JV601)', 'hostApi': 0, 'maxInputChannels': 2, 'maxOutputChannels': 0, 'defaultLowInputLatency': 0.09, 'defaultLowOutputLatency': 0.09, 'defaultHighInputLatency': 0.18, 'defaultHighOutputLatency': 0.18, 'defaultSampleRate': 44100.0}\n",
      "{'index': 2, 'structVersion': 2, 'name': '麦克风 (Dubbing Virtual Device)', 'hostApi': 0, 'maxInputChannels': 2, 'maxOutputChannels': 0, 'defaultLowInputLatency': 0.09, 'defaultLowOutputLatency': 0.09, 'defaultHighInputLatency': 0.18, 'defaultHighOutputLatency': 0.18, 'defaultSampleRate': 44100.0}\n",
      "{'index': 3, 'structVersion': 2, 'name': 'Headset Microphone (Oculus Virt', 'hostApi': 0, 'maxInputChannels': 1, 'maxOutputChannels': 0, 'defaultLowInputLatency': 0.09, 'defaultLowOutputLatency': 0.09, 'defaultHighInputLatency': 0.18, 'defaultHighOutputLatency': 0.18, 'defaultSampleRate': 44100.0}\n",
      "{'index': 4, 'structVersion': 2, 'name': 'Microphone (WEB CAM)', 'hostApi': 0, 'maxInputChannels': 1, 'maxOutputChannels': 0, 'defaultLowInputLatency': 0.09, 'defaultLowOutputLatency': 0.09, 'defaultHighInputLatency': 0.18, 'defaultHighOutputLatency': 0.18, 'defaultSampleRate': 44100.0}\n",
      "{'index': 5, 'structVersion': 2, 'name': 'Microsoft Sound Mapper - Output', 'hostApi': 0, 'maxInputChannels': 0, 'maxOutputChannels': 2, 'defaultLowInputLatency': 0.09, 'defaultLowOutputLatency': 0.09, 'defaultHighInputLatency': 0.18, 'defaultHighOutputLatency': 0.18, 'defaultSampleRate': 44100.0}\n",
      "{'index': 6, 'structVersion': 2, 'name': '扬声器 (Realtek High Definition Au', 'hostApi': 0, 'maxInputChannels': 0, 'maxOutputChannels': 8, 'defaultLowInputLatency': 0.09, 'defaultLowOutputLatency': 0.09, 'defaultHighInputLatency': 0.18, 'defaultHighOutputLatency': 0.18, 'defaultSampleRate': 44100.0}\n",
      "{'index': 7, 'structVersion': 2, 'name': 'Realtek Digital Output (Realtek', 'hostApi': 0, 'maxInputChannels': 0, 'maxOutputChannels': 2, 'defaultLowInputLatency': 0.09, 'defaultLowOutputLatency': 0.09, 'defaultHighInputLatency': 0.18, 'defaultHighOutputLatency': 0.18, 'defaultSampleRate': 44100.0}\n",
      "{'index': 8, 'structVersion': 2, 'name': '扬声器 (Dubbing Virtual Device)', 'hostApi': 0, 'maxInputChannels': 0, 'maxOutputChannels': 2, 'defaultLowInputLatency': 0.09, 'defaultLowOutputLatency': 0.09, 'defaultHighInputLatency': 0.18, 'defaultHighOutputLatency': 0.18, 'defaultSampleRate': 44100.0}\n",
      "{'index': 9, 'structVersion': 2, 'name': '鑰虫満 (Oculus Virtual Audio Device', 'hostApi': 0, 'maxInputChannels': 0, 'maxOutputChannels': 2, 'defaultLowInputLatency': 0.09, 'defaultLowOutputLatency': 0.09, 'defaultHighInputLatency': 0.18, 'defaultHighOutputLatency': 0.18, 'defaultSampleRate': 44100.0}\n",
      "{'index': 10, 'structVersion': 2, 'name': 'R240HY (NVIDIA High Definition ', 'hostApi': 0, 'maxInputChannels': 0, 'maxOutputChannels': 2, 'defaultLowInputLatency': 0.09, 'defaultLowOutputLatency': 0.09, 'defaultHighInputLatency': 0.18, 'defaultHighOutputLatency': 0.18, 'defaultSampleRate': 44100.0}\n",
      "{'index': 11, 'structVersion': 2, 'name': '主声音捕获驱动程序', 'hostApi': 1, 'maxInputChannels': 2, 'maxOutputChannels': 0, 'defaultLowInputLatency': 0.12, 'defaultLowOutputLatency': 0.0, 'defaultHighInputLatency': 0.24, 'defaultHighOutputLatency': 0.0, 'defaultSampleRate': 44100.0}\n",
      "{'index': 12, 'structVersion': 2, 'name': 'Microphone (JOUNIVO JV601)', 'hostApi': 1, 'maxInputChannels': 2, 'maxOutputChannels': 0, 'defaultLowInputLatency': 0.12, 'defaultLowOutputLatency': 0.0, 'defaultHighInputLatency': 0.24, 'defaultHighOutputLatency': 0.0, 'defaultSampleRate': 44100.0}\n",
      "{'index': 13, 'structVersion': 2, 'name': '麦克风 (Dubbing Virtual Device)', 'hostApi': 1, 'maxInputChannels': 2, 'maxOutputChannels': 0, 'defaultLowInputLatency': 0.12, 'defaultLowOutputLatency': 0.0, 'defaultHighInputLatency': 0.24, 'defaultHighOutputLatency': 0.0, 'defaultSampleRate': 44100.0}\n",
      "{'index': 14, 'structVersion': 2, 'name': 'Headset Microphone (Oculus Virtual Audio Device)', 'hostApi': 1, 'maxInputChannels': 1, 'maxOutputChannels': 0, 'defaultLowInputLatency': 0.12, 'defaultLowOutputLatency': 0.0, 'defaultHighInputLatency': 0.24, 'defaultHighOutputLatency': 0.0, 'defaultSampleRate': 44100.0}\n",
      "{'index': 15, 'structVersion': 2, 'name': 'Microphone (WEB CAM)', 'hostApi': 1, 'maxInputChannels': 1, 'maxOutputChannels': 0, 'defaultLowInputLatency': 0.12, 'defaultLowOutputLatency': 0.0, 'defaultHighInputLatency': 0.24, 'defaultHighOutputLatency': 0.0, 'defaultSampleRate': 44100.0}\n",
      "{'index': 16, 'structVersion': 2, 'name': '主声音驱动程序', 'hostApi': 1, 'maxInputChannels': 0, 'maxOutputChannels': 2, 'defaultLowInputLatency': 0.0, 'defaultLowOutputLatency': 0.12, 'defaultHighInputLatency': 0.0, 'defaultHighOutputLatency': 0.24, 'defaultSampleRate': 44100.0}\n",
      "{'index': 17, 'structVersion': 2, 'name': '扬声器 (Realtek High Definition Audio)', 'hostApi': 1, 'maxInputChannels': 0, 'maxOutputChannels': 8, 'defaultLowInputLatency': 0.0, 'defaultLowOutputLatency': 0.12, 'defaultHighInputLatency': 0.0, 'defaultHighOutputLatency': 0.24, 'defaultSampleRate': 44100.0}\n",
      "{'index': 18, 'structVersion': 2, 'name': 'Realtek Digital Output (Realtek High Definition Audio)', 'hostApi': 1, 'maxInputChannels': 0, 'maxOutputChannels': 2, 'defaultLowInputLatency': 0.0, 'defaultLowOutputLatency': 0.12, 'defaultHighInputLatency': 0.0, 'defaultHighOutputLatency': 0.24, 'defaultSampleRate': 44100.0}\n",
      "{'index': 19, 'structVersion': 2, 'name': '扬声器 (Dubbing Virtual Device)', 'hostApi': 1, 'maxInputChannels': 0, 'maxOutputChannels': 2, 'defaultLowInputLatency': 0.0, 'defaultLowOutputLatency': 0.12, 'defaultHighInputLatency': 0.0, 'defaultHighOutputLatency': 0.24, 'defaultSampleRate': 44100.0}\n",
      "{'index': 20, 'structVersion': 2, 'name': '鑰虫満 (Oculus Virtual Audio Device)', 'hostApi': 1, 'maxInputChannels': 0, 'maxOutputChannels': 2, 'defaultLowInputLatency': 0.0, 'defaultLowOutputLatency': 0.12, 'defaultHighInputLatency': 0.0, 'defaultHighOutputLatency': 0.24, 'defaultSampleRate': 44100.0}\n",
      "{'index': 21, 'structVersion': 2, 'name': 'R240HY (NVIDIA High Definition Audio)', 'hostApi': 1, 'maxInputChannels': 0, 'maxOutputChannels': 2, 'defaultLowInputLatency': 0.0, 'defaultLowOutputLatency': 0.12, 'defaultHighInputLatency': 0.0, 'defaultHighOutputLatency': 0.24, 'defaultSampleRate': 44100.0}\n",
      "{'index': 22, 'structVersion': 2, 'name': 'Realtek Digital Output (Realtek High Definition Audio)', 'hostApi': 2, 'maxInputChannels': 0, 'maxOutputChannels': 2, 'defaultLowInputLatency': 0.0, 'defaultLowOutputLatency': 0.003, 'defaultHighInputLatency': 0.0, 'defaultHighOutputLatency': 0.01, 'defaultSampleRate': 48000.0}\n",
      "{'index': 23, 'structVersion': 2, 'name': '扬声器 (Realtek High Definition Audio)', 'hostApi': 2, 'maxInputChannels': 0, 'maxOutputChannels': 2, 'defaultLowInputLatency': 0.0, 'defaultLowOutputLatency': 0.003, 'defaultHighInputLatency': 0.0, 'defaultHighOutputLatency': 0.01, 'defaultSampleRate': 48000.0}\n",
      "{'index': 24, 'structVersion': 2, 'name': '扬声器 (Dubbing Virtual Device)', 'hostApi': 2, 'maxInputChannels': 0, 'maxOutputChannels': 2, 'defaultLowInputLatency': 0.0, 'defaultLowOutputLatency': 0.001, 'defaultHighInputLatency': 0.0, 'defaultHighOutputLatency': 0.01, 'defaultSampleRate': 48000.0}\n",
      "{'index': 25, 'structVersion': 2, 'name': '鑰虫満 (Oculus Virtual Audio Device)', 'hostApi': 2, 'maxInputChannels': 0, 'maxOutputChannels': 2, 'defaultLowInputLatency': 0.0, 'defaultLowOutputLatency': 0.003, 'defaultHighInputLatency': 0.0, 'defaultHighOutputLatency': 0.01, 'defaultSampleRate': 48000.0}\n",
      "{'index': 26, 'structVersion': 2, 'name': 'R240HY (NVIDIA High Definition Audio)', 'hostApi': 2, 'maxInputChannels': 0, 'maxOutputChannels': 2, 'defaultLowInputLatency': 0.0, 'defaultLowOutputLatency': 0.003, 'defaultHighInputLatency': 0.0, 'defaultHighOutputLatency': 0.01, 'defaultSampleRate': 48000.0}\n",
      "{'index': 27, 'structVersion': 2, 'name': '麦克风 (Dubbing Virtual Device)', 'hostApi': 2, 'maxInputChannels': 2, 'maxOutputChannels': 0, 'defaultLowInputLatency': 0.001, 'defaultLowOutputLatency': 0.0, 'defaultHighInputLatency': 0.01, 'defaultHighOutputLatency': 0.0, 'defaultSampleRate': 48000.0}\n",
      "{'index': 28, 'structVersion': 2, 'name': 'Headset Microphone (Oculus Virtual Audio Device)', 'hostApi': 2, 'maxInputChannels': 1, 'maxOutputChannels': 0, 'defaultLowInputLatency': 0.003, 'defaultLowOutputLatency': 0.0, 'defaultHighInputLatency': 0.01, 'defaultHighOutputLatency': 0.0, 'defaultSampleRate': 48000.0}\n",
      "{'index': 29, 'structVersion': 2, 'name': 'Microphone (JOUNIVO JV601)', 'hostApi': 2, 'maxInputChannels': 2, 'maxOutputChannels': 0, 'defaultLowInputLatency': 0.003, 'defaultLowOutputLatency': 0.0, 'defaultHighInputLatency': 0.01, 'defaultHighOutputLatency': 0.0, 'defaultSampleRate': 48000.0}\n",
      "{'index': 30, 'structVersion': 2, 'name': 'Microphone (WEB CAM)', 'hostApi': 2, 'maxInputChannels': 1, 'maxOutputChannels': 0, 'defaultLowInputLatency': 0.003, 'defaultLowOutputLatency': 0.0, 'defaultHighInputLatency': 0.01, 'defaultHighOutputLatency': 0.0, 'defaultSampleRate': 16000.0}\n",
      "{'index': 31, 'structVersion': 2, 'name': '鑰虫満 ()', 'hostApi': 3, 'maxInputChannels': 0, 'maxOutputChannels': 2, 'defaultLowInputLatency': 0.01, 'defaultLowOutputLatency': 0.01, 'defaultHighInputLatency': 0.08533333333333333, 'defaultHighOutputLatency': 0.08533333333333333, 'defaultSampleRate': 44100.0}\n",
      "{'index': 32, 'structVersion': 2, 'name': 'Output 1 (OCULUSVAD Wave Speaker Headphone)', 'hostApi': 3, 'maxInputChannels': 0, 'maxOutputChannels': 2, 'defaultLowInputLatency': 0.01, 'defaultLowOutputLatency': 0.01, 'defaultHighInputLatency': 0.04, 'defaultHighOutputLatency': 0.04, 'defaultSampleRate': 44100.0}\n",
      "{'index': 33, 'structVersion': 2, 'name': 'Output 2 (OCULUSVAD Wave Speaker Headphone)', 'hostApi': 3, 'maxInputChannels': 0, 'maxOutputChannels': 2, 'defaultLowInputLatency': 0.01, 'defaultLowOutputLatency': 0.01, 'defaultHighInputLatency': 0.04, 'defaultHighOutputLatency': 0.04, 'defaultSampleRate': 44100.0}\n",
      "{'index': 34, 'structVersion': 2, 'name': 'Input (OCULUSVAD Wave Speaker Headphone)', 'hostApi': 3, 'maxInputChannels': 2, 'maxOutputChannels': 0, 'defaultLowInputLatency': 0.01, 'defaultLowOutputLatency': 0.01, 'defaultHighInputLatency': 0.04, 'defaultHighOutputLatency': 0.04, 'defaultSampleRate': 44100.0}\n",
      "{'index': 35, 'structVersion': 2, 'name': 'Headset Microphone (OCULUSVAD Wave Microphone Headphone)', 'hostApi': 3, 'maxInputChannels': 1, 'maxOutputChannels': 0, 'defaultLowInputLatency': 0.01, 'defaultLowOutputLatency': 0.01, 'defaultHighInputLatency': 0.04, 'defaultHighOutputLatency': 0.04, 'defaultSampleRate': 48000.0}\n",
      "{'index': 36, 'structVersion': 2, 'name': 'Speakers (Realtek HD Audio output)', 'hostApi': 3, 'maxInputChannels': 0, 'maxOutputChannels': 8, 'defaultLowInputLatency': 0.01, 'defaultLowOutputLatency': 0.01, 'defaultHighInputLatency': 0.04, 'defaultHighOutputLatency': 0.04, 'defaultSampleRate': 44100.0}\n",
      "{'index': 37, 'structVersion': 2, 'name': '麦克风 (Realtek HD Audio Mic input)', 'hostApi': 3, 'maxInputChannels': 2, 'maxOutputChannels': 0, 'defaultLowInputLatency': 0.01, 'defaultLowOutputLatency': 0.01, 'defaultHighInputLatency': 0.04, 'defaultHighOutputLatency': 0.04, 'defaultSampleRate': 44100.0}\n",
      "{'index': 38, 'structVersion': 2, 'name': 'SPDIF Out (Realtek HDA SPDIF Out)', 'hostApi': 3, 'maxInputChannels': 0, 'maxOutputChannels': 2, 'defaultLowInputLatency': 0.01, 'defaultLowOutputLatency': 0.01, 'defaultHighInputLatency': 0.04, 'defaultHighOutputLatency': 0.04, 'defaultSampleRate': 44100.0}\n",
      "{'index': 39, 'structVersion': 2, 'name': '立体声混音 (Realtek HD Audio Stereo input)', 'hostApi': 3, 'maxInputChannels': 2, 'maxOutputChannels': 0, 'defaultLowInputLatency': 0.01, 'defaultLowOutputLatency': 0.01, 'defaultHighInputLatency': 0.04, 'defaultHighOutputLatency': 0.04, 'defaultSampleRate': 44100.0}\n",
      "{'index': 40, 'structVersion': 2, 'name': '绾胯矾杈撳叆 (Realtek HD Audio Line input)', 'hostApi': 3, 'maxInputChannels': 2, 'maxOutputChannels': 0, 'defaultLowInputLatency': 0.01, 'defaultLowOutputLatency': 0.01, 'defaultHighInputLatency': 0.04, 'defaultHighOutputLatency': 0.04, 'defaultSampleRate': 44100.0}\n",
      "{'index': 41, 'structVersion': 2, 'name': '麦克风 ()', 'hostApi': 3, 'maxInputChannels': 2, 'maxOutputChannels': 0, 'defaultLowInputLatency': 0.01, 'defaultLowOutputLatency': 0.01, 'defaultHighInputLatency': 0.04, 'defaultHighOutputLatency': 0.04, 'defaultSampleRate': 48000.0}\n",
      "{'index': 42, 'structVersion': 2, 'name': 'Speakers ()', 'hostApi': 3, 'maxInputChannels': 0, 'maxOutputChannels': 2, 'defaultLowInputLatency': 0.01, 'defaultLowOutputLatency': 0.01, 'defaultHighInputLatency': 0.04, 'defaultHighOutputLatency': 0.04, 'defaultSampleRate': 48000.0}\n",
      "{'index': 43, 'structVersion': 2, 'name': 'Output (NVIDIA High Definition Audio)', 'hostApi': 3, 'maxInputChannels': 0, 'maxOutputChannels': 2, 'defaultLowInputLatency': 0.01, 'defaultLowOutputLatency': 0.01, 'defaultHighInputLatency': 0.04, 'defaultHighOutputLatency': 0.04, 'defaultSampleRate': 44100.0}\n",
      "{'index': 44, 'structVersion': 2, 'name': '鑰虫満 (@System32\\\\drivers\\\\bthhfenum.sys,#2;%1 Hands-Free AG Audio%0\\r\\n;(WH-1000XM3))', 'hostApi': 3, 'maxInputChannels': 0, 'maxOutputChannels': 1, 'defaultLowInputLatency': 0.01, 'defaultLowOutputLatency': 0.01, 'defaultHighInputLatency': 0.08533333333333333, 'defaultHighOutputLatency': 0.08533333333333333, 'defaultSampleRate': 8000.0}\n",
      "{'index': 45, 'structVersion': 2, 'name': '鑰虫満 (@System32\\\\drivers\\\\bthhfenum.sys,#2;%1 Hands-Free AG Audio%0\\r\\n;(WH-1000XM3))', 'hostApi': 3, 'maxInputChannels': 1, 'maxOutputChannels': 0, 'defaultLowInputLatency': 0.01, 'defaultLowOutputLatency': 0.01, 'defaultHighInputLatency': 0.08533333333333333, 'defaultHighOutputLatency': 0.08533333333333333, 'defaultSampleRate': 8000.0}\n",
      "{'index': 46, 'structVersion': 2, 'name': '麦克风 (WEB CAM)', 'hostApi': 3, 'maxInputChannels': 1, 'maxOutputChannels': 0, 'defaultLowInputLatency': 0.01, 'defaultLowOutputLatency': 0.01, 'defaultHighInputLatency': 0.08533333333333333, 'defaultHighOutputLatency': 0.08533333333333333, 'defaultSampleRate': 16000.0}\n",
      "{'index': 47, 'structVersion': 2, 'name': '麦克风 (JOUNIVO JV601)', 'hostApi': 3, 'maxInputChannels': 2, 'maxOutputChannels': 0, 'defaultLowInputLatency': 0.01, 'defaultLowOutputLatency': 0.01, 'defaultHighInputLatency': 0.08533333333333333, 'defaultHighOutputLatency': 0.08533333333333333, 'defaultSampleRate': 44100.0}\n"
     ]
    }
   ],
   "source": [
    "audio = pyaudio.PyAudio()\n",
    "\n",
    "# 查找虚拟麦克风的设备索引\n",
    "# 使用VB-Audio Virtual Cable\n",
    "\n",
    "mic_index = None\n",
    "for i in range(audio.get_device_count()):\n",
    "    print(audio.get_device_info_by_index(i))"
   ]
  },
  {
   "cell_type": "code",
   "execution_count": null,
   "id": "07fa98fe",
   "metadata": {},
   "outputs": [],
   "source": []
  },
  {
   "cell_type": "code",
   "execution_count": null,
   "id": "c13b45ff",
   "metadata": {},
   "outputs": [],
   "source": []
  },
  {
   "cell_type": "code",
   "execution_count": null,
   "id": "8ec2fe3b",
   "metadata": {},
   "outputs": [],
   "source": []
  },
  {
   "cell_type": "code",
   "execution_count": null,
   "id": "4e686475",
   "metadata": {},
   "outputs": [],
   "source": []
  },
  {
   "cell_type": "code",
   "execution_count": 30,
   "id": "9034b298",
   "metadata": {},
   "outputs": [],
   "source": [
    "\n",
    "\n",
    "with open(\"audio_file.wav\", \"wb\") as file:\n",
    "    file.write(wav_data)"
   ]
  },
  {
   "cell_type": "code",
   "execution_count": null,
   "id": "306b87fe",
   "metadata": {},
   "outputs": [],
   "source": []
  },
  {
   "cell_type": "code",
   "execution_count": 13,
   "id": "bd2adc2f",
   "metadata": {},
   "outputs": [
    {
     "name": "stderr",
     "output_type": "stream",
     "text": [
      "[2023-09-30 10:39:44,235] [   ERROR] - Set device failed, please check if device is already used and the parameter 'device' in the yaml file\n",
      "[2023-09-30 10:39:44,236] [   ERROR] - 'dict' object has no attribute 'device'\n"
     ]
    },
    {
     "data": {
      "text/plain": [
       "False"
      ]
     },
     "execution_count": 13,
     "metadata": {},
     "output_type": "execute_result"
    }
   ],
   "source": [
    "asr = ASREngine()\n",
    "asr.init({'model':'conformer_wenetspeech',\n",
    "            'lang':'zh',\n",
    "            'sample_rate':16000,\n",
    "            'cfg_path':None,  # 自定义配置文件路径(可选)\n",
    "            'ckpt_path':None,  # 自定义模型文件路径(可选)\n",
    "            'decode_method':'attention_rescoring',\n",
    "            'force_yes':True,\n",
    "            'device':'cuda'})"
   ]
  }
 ],
 "metadata": {
  "kernelspec": {
   "display_name": "paddle",
   "language": "python",
   "name": "paddle"
  },
  "language_info": {
   "codemirror_mode": {
    "name": "ipython",
    "version": 3
   },
   "file_extension": ".py",
   "mimetype": "text/x-python",
   "name": "python",
   "nbconvert_exporter": "python",
   "pygments_lexer": "ipython3",
   "version": "3.10.13"
  }
 },
 "nbformat": 4,
 "nbformat_minor": 5
}
